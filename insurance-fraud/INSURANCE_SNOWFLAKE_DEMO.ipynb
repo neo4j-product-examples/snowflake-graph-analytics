{
 "cells": [
  {
   "cell_type": "markdown",
   "id": "03e70490-2630-43b4-9cfc-d703eec20215",
   "metadata": {
    "collapsed": false,
    "name": "introduction_notes"
   },
   "source": [
    "# Detecting Insurance Fraud Using Graph Algorithms with Neo4j\n",
    "---\n",
    "## Overview \n",
    "\n",
    "Duration: 2 mins\n",
    "\n",
    "### What Is Neo4j Graph Analytics For Snowflake?\n",
    "\n",
    "Neo4j helps organizations find hidden relationships and patterns across billions of data connections deeply, easily, and quickly. Neo4j Graph Analytics for Snowflake brings to the power of graph directly to Snowflake, allowing users to run 65+ ready-to-use algorithms on their data, all without leaving Snowflake!\n",
    "\n",
    "### Identifying Communities of Fraudulent Claims\n",
    "\n",
    "Insurance fraud is estimated to drain \\$308–309 billion annually, affecting all lines—including auto, health, property & casualty, and workers’ compensation. As a result, the average U.S. family pays an extra \\$400–\\$700 per year in premiums. This highlights the critical need for early detection of fraudulent claims to prevent such substantial financial losses.\n",
    "\n",
    "### Prerequisites\n",
    "The Native App [Neo4j Graph Analytics](https://app.snowflake.com/marketplace/listing/GZTDZH40CN/neo4j-neo4j-graph-analytics) for Snowflake\n",
    "\n",
    "### What You Will Need:\n",
    "- A [Snowflake account](https://signup.snowflake.com/) with appropriate access to databases and schemas.\n",
    "- Neo4j Graph Analytics application installed from the Snowflake marketplace. Access the marketplace via the menu bar on the left hand side of your screen, as seen below: \n",
    "\n",
    "<<<INSERT SNAPSHOT OF SNOWFLAKE MARKETPLACE IMAGE>>>\n",
    "\n",
    "### What You Will Build:\n",
    "- A method to compare complex insurance cases to one another and identify the ones that are at risk of being fraudulent.  \n",
    "\n",
    "### What You Will Learn:\n",
    "\n",
    "- How to prepare and project your data for graph analytics\n",
    "- How to use Weakly Connected Components to identify potential clusters of fraudulent activity\n",
    "- How to create node embeddings to understand the structure of the graph \n",
    "- How to use K-nearest neighbors algorithm to find highly similar nodes in the graph\n",
    "- How to read and write directly from and to your Snowflake tables\n",
    "\n",
    "\n",
    "\n",
    "\n"
   ]
  },
  {
   "cell_type": "markdown",
   "id": "68ce2b19-e564-499f-ac9f-dccb98cf1dfd",
   "metadata": {
    "collapsed": false,
    "name": "cell6"
   },
   "source": [
    "## Loading the Data\n",
    "\n",
    "Duration 5 \n",
    "\n",
    "### Dataset Overview:\n",
    "This dataset is designed to model and analyze insurance claims for the purpose of identifying fraudulent activity using graph analytics. Given the complexity of the data model, all contextual relationships captured in the graph will be leveraged when comparing claims. This will enable deeper insights beyond isolated data points.\n",
    "\n",
    "For the purposes of the demo, the database will be named `I_DEMO`. Using the CSV, `insurance_claims_full.csv`, found here <<<ADD DATASET LINK>>>, we are going to create a new table called `insurance_claims_full` via the Snowsight data upload method. \n",
    "\n",
    "Follow through this Snowflake [documentation](https://docs.snowflake.com/en/user-guide/data-load-web-ui) on creating a table from 'Load data using the web interface'.\n",
    "\n",
    "In the pop up, \n",
    "1. Upload the CSV `insurance_claims_full.csv` using the browse option. \n",
    "2. Under `Select or create a database and schema`, please create a database with name `I_DEMO`.\n",
    "3. Under `Select or create a table`, please click on the '+' symbol and create a new table named `insurance_claims_full`.\n",
    "\n",
    "Now, a new table named `insurance_claims_full` will be created under `i_demo.public` with the provided CSV."
   ]
  },
  {
   "cell_type": "markdown",
   "id": "fdbb1524-e815-4c10-ab23-1a56cc6a1093",
   "metadata": {
    "collapsed": false,
    "name": "setting_up"
   },
   "source": [
    "## Setting Up\n",
    "\n",
    "Duration 5 \n",
    "\n",
    "### Import the Notebook\n",
    "- We’ve provided a Colab notebook to walk you through each SQL and Python step—no local setup required!\n",
    "- Download the .ipynb found [here](https://github.com/neo4j-product-examples/snowflake-graph-analytics/blob/main/insurance-fraud/INSURANCE_SNOWFLAKE_DEMO.ipynb), and import the notebook into snowflake.\n",
    "\n",
    "### Permissions\n",
    "One of the most usefull aspects of Snowflake is the ability to have roles with specific permissions, so that you can have many people working in the same database without worrying about security. The Neo4j app requires the creation of a few different roles. But before we get started granting different roles, we need to ensure that you are using `accountadmin` to grant and create roles. Lets do that now:"
   ]
  },
  {
   "cell_type": "code",
   "execution_count": null,
   "id": "3775908f-ca36-4846-8f38-5adca39217f2",
   "metadata": {
    "language": "sql",
    "name": "admin_role"
   },
   "outputs": [],
   "source": [
    "USE ROLE ACCOUNTADMIN;"
   ]
  },
  {
   "cell_type": "markdown",
   "id": "a0bb571a-8c49-43d5-88be-d8e2362485fd",
   "metadata": {
    "collapsed": false,
    "name": "schema_notes"
   },
   "source": [
    "Next we can set up the necessary roles, permissions, and resource access to enable Graph Analytics to operate on the demo data within the `i_demo.public` schema (this schema is where the data will be stored by default). \n",
    "\n",
    "We will create a consumer role (gds_role) for users and administrators, grant the gds_role and GDS application access to read from and write to tables and views, and ensure the future tables are accessible. We will also provide the application with access to the compute pool and warehouse resources required to run the graph algorithms at scale.\n"
   ]
  },
  {
   "cell_type": "code",
   "execution_count": null,
   "id": "a186f37b-3e0c-4974-815c-610b36771c3a",
   "metadata": {
    "language": "sql",
    "name": "setup_permissions"
   },
   "outputs": [],
   "source": [
    "-- Create an account role to manage the GDS application\n",
    "CREATE ROLE IF NOT EXISTS gds_role;\n",
    "GRANT APPLICATION ROLE neo4j_graph_analytics.app_user TO ROLE gds_role;\n",
    "GRANT APPLICATION ROLE neo4j_graph_analytics.app_admin TO ROLE gds_role;\n",
    "\n",
    "--Grant permissions for the application to use the database\n",
    "GRANT USAGE ON DATABASE i_demo TO APPLICATION neo4j_graph_analytics;\n",
    "GRANT USAGE ON SCHEMA i_demo.public TO APPLICATION neo4j_graph_analytics;\n",
    "\n",
    "--Create a database role to manage table and view access\n",
    "CREATE DATABASE ROLE IF NOT EXISTS gds_db_role;\n",
    "\n",
    "GRANT ALL PRIVILEGES ON FUTURE TABLES IN SCHEMA i_demo.public TO DATABASE ROLE gds_db_role;\n",
    "GRANT ALL PRIVILEGES ON ALL TABLES IN SCHEMA i_demo.public TO DATABASE ROLE gds_db_role;\n",
    "\n",
    "GRANT ALL PRIVILEGES ON FUTURE VIEWS IN SCHEMA i_demo.public TO DATABASE ROLE gds_db_role;\n",
    "GRANT ALL PRIVILEGES ON ALL VIEWS IN SCHEMA i_demo.public TO DATABASE ROLE gds_db_role;\n",
    "\n",
    "GRANT CREATE TABLE ON SCHEMA i_demo.public TO DATABASE ROLE gds_db_role;\n",
    "\n",
    "\n",
    "--Grant the DB role to the application and admin user\n",
    "GRANT DATABASE ROLE gds_db_role TO APPLICATION neo4j_graph_analytics;\n",
    "GRANT DATABASE ROLE gds_db_role TO ROLE gds_role;\n",
    "\n",
    "GRANT USAGE ON DATABASE I_DEMO TO ROLE GDS_ROLE;\n",
    "GRANT USAGE ON SCHEMA I_DEMO.PUBLIC TO ROLE GDS_ROLE;\n",
    "\n",
    "GRANT SELECT, INSERT, UPDATE, DELETE ON ALL TABLES IN SCHEMA I_DEMO.PUBLIC TO ROLE GDS_ROLE;\n",
    "GRANT CREATE TABLE ON SCHEMA I_DEMO.PUBLIC TO ROLE GDS_ROLE;\n",
    "GRANT SELECT, INSERT, UPDATE, DELETE ON FUTURE TABLES IN SCHEMA I_DEMO.PUBLIC TO ROLE GDS_ROLE;"
   ]
  },
  {
   "cell_type": "markdown",
   "id": "a6773f7a-05fb-427e-985e-7470757e092f",
   "metadata": {
    "collapsed": false,
    "name": "role_notes"
   },
   "source": [
    "Now we will switch to the role we just created:"
   ]
  },
  {
   "cell_type": "code",
   "execution_count": null,
   "id": "f091f996-a000-4b70-9df2-b0a2c04b4c23",
   "metadata": {
    "language": "sql",
    "name": "gds_role"
   },
   "outputs": [],
   "source": [
    "use warehouse NEO4J_GRAPH_ANALYTICS_APP_WAREHOUSE;\n",
    "use role gds_role;\n",
    "use database i_demo;\n",
    "use schema public;"
   ]
  },
  {
   "cell_type": "markdown",
   "id": "33d81858-ea6f-45e9-b48b-58d8ec58de1e",
   "metadata": {
    "collapsed": false,
    "name": "cleaningData_notes"
   },
   "source": [
    "\n",
    "## Cleaning Our Data\n",
    "\n",
    "Duration 5 \n",
    "\n",
    "We need our data to be in a particular format in order to work with Graph Analytics. In general, it should be like so:\n",
    "\n",
    "**For the tables representing nodes:**\n",
    "The first column should be called `nodeId`, which uniquely identifies each node in the graph.\n",
    "\n",
    "**For the tables representing relationships:**\n",
    "We need to have columns called `sourceNodeId` and `targetNodeId`, representing the start and end nodes of each relationship.\n",
    "\n",
    "To get ready for Graph Analytics, reshape your tables as follows:\n",
    "\n",
    "\n",
    "\n",
    "### **NODES**\n",
    "\n",
    "* **Policy** — one node for each unique policy (policy_number).\n",
    "* **PoliceReportAvailability** — represents whether a police report was available.\n",
    "* **Witnesses** — represents witness status related to claims.\n",
    "* **VehicleMake** — describes the make of the vehicle involved.\n",
    "* **PolicyState** — represents the U.S. state where the policy was issued.\n",
    "* **PolicyCSL** — describes the liability coverage (Combined Single Limit) of the policy.\n",
    "* **TotalClaimAmountBucket** — categorizes claim severity into Low, Medium, or High.\n",
    "* **MonthsAsCustomerBucket** — groups policyholders into Short, Medium, or Long tenure.\n",
    "\n",
    "\n",
    "\n",
    "### **RELATIONSHIPS**\n",
    "\n",
    "* (Policy)-[:HAS_POLICE_REPORT]->(PoliceReportAvailability) — links each policy to whether a police report was available.\n",
    "* (Policy)-[:HAS_WITNESSES]->(Witnesses) — links each policy to its witness status.\n",
    "* (Policy)-[:INVOLVES_VEHICLE]->(VehicleMake) — connects each policy to the vehicle make.\n",
    "* (Policy)-[:REGISTERED_IN]->(PolicyState) — connects each policy to the issuing state.\n",
    "* (Policy)-[:HAS_CSL]->(PolicyCSL) — connects each policy to its CSL coverage level.\n",
    "* (Policy)-[:HAS_CLAIM_AMOUNT_BUCKET]->(TotalClaimAmountBucket) — links each policy to its total claim amount bucket.\n",
    "* (Policy)-[:HAS_CUSTOMER_TENURE_BUCKET]->(MonthsAsCustomerBucket) — links each policy to its customer tenure bucket.\n",
    "\n"
   ]
  },
  {
   "cell_type": "code",
   "execution_count": null,
   "id": "b9fc8892-5c21-4380-92c5-4ea0cde61216",
   "metadata": {
    "language": "sql",
    "name": "create_node_tables"
   },
   "outputs": [],
   "source": [
    "CREATE OR REPLACE TABLE node_policies AS\n",
    "SELECT DISTINCT policy_number\n",
    "FROM i_demo.public.insurance_claims_full;\n",
    "\n",
    "\n",
    "CREATE OR REPLACE TABLE node_police_report_available AS\n",
    "SELECT DISTINCT police_report_available\n",
    "FROM i_demo.public.insurance_claims_full;\n",
    "\n",
    "\n",
    "CREATE OR REPLACE TABLE node_witnesses AS\n",
    "SELECT DISTINCT witnesses\n",
    "FROM i_demo.public.insurance_claims_full;\n",
    "\n",
    "\n",
    "CREATE OR REPLACE TABLE node_auto_make AS\n",
    "SELECT DISTINCT auto_make\n",
    "FROM i_demo.public.insurance_claims_full;\n",
    "\n",
    "\n",
    "CREATE OR REPLACE TABLE node_policy_state AS\n",
    "SELECT DISTINCT policy_state\n",
    "FROM i_demo.public.insurance_claims_full;\n",
    "\n",
    "\n",
    "CREATE OR REPLACE TABLE node_policy_csl AS\n",
    "SELECT DISTINCT policy_csl\n",
    "FROM i_demo.public.insurance_claims_full;\n",
    "\n",
    "\n",
    "CREATE OR REPLACE TABLE policy_states AS\n",
    "SELECT ROW_NUMBER() OVER (ORDER BY policy_state) AS state_id, policy_state\n",
    "FROM (\n",
    "  SELECT DISTINCT policy_state FROM i_demo.public.insurance_claims_full\n",
    ");\n",
    "\n",
    "CREATE OR REPLACE TABLE node_total_claim_amount_bucket AS\n",
    "SELECT DISTINCT\n",
    "  CASE\n",
    "    WHEN total_claim_amount < 40000 THEN 'Low'\n",
    "    WHEN total_claim_amount BETWEEN 40000 AND 70000 THEN 'Medium'\n",
    "    WHEN total_claim_amount > 70000 THEN 'High'\n",
    "    ELSE 'Unknown'\n",
    "  END AS total_claim_amount_bucket\n",
    "FROM i_demo.public.insurance_claims_full;\n",
    "\n",
    "CREATE OR REPLACE TABLE node_months_as_customer_bucket AS\n",
    "SELECT DISTINCT\n",
    "  CASE\n",
    "    WHEN months_as_customer < 100 THEN 'Short (<100m)'\n",
    "    WHEN months_as_customer BETWEEN 100 AND 300 THEN 'Medium (100-300m)'\n",
    "    WHEN months_as_customer > 300 THEN 'Long (>300m)'\n",
    "    ELSE 'Unknown'\n",
    "  END AS months_as_customer_bucket\n",
    "FROM i_demo.public.insurance_claims_full;\n"
   ]
  },
  {
   "cell_type": "markdown",
   "id": "045d154b-f3f5-4515-923e-b31e6990cdeb",
   "metadata": {
    "collapsed": false,
    "name": "cell1"
   },
   "source": [
    "Now, we will merge all the node tables to a single `all_nodes_tbl`"
   ]
  },
  {
   "cell_type": "code",
   "execution_count": null,
   "id": "ef536ddb-1837-41b7-986b-790705b8c5f1",
   "metadata": {
    "language": "sql",
    "name": "create_all_nodes_table"
   },
   "outputs": [],
   "source": [
    "CREATE OR REPLACE TABLE all_nodes AS\n",
    "SELECT DISTINCT policy_number::STRING AS nodeid FROM node_policies\n",
    "UNION\n",
    "SELECT DISTINCT police_report_available::STRING AS nodeid FROM node_police_report_available\n",
    "UNION\n",
    "SELECT DISTINCT witnesses::STRING AS nodeid FROM node_witnesses\n",
    "UNION\n",
    "SELECT DISTINCT total_claim_amount_bucket::STRING AS nodeid FROM node_total_claim_amount_bucket\n",
    "UNION\n",
    "SELECT DISTINCT auto_make::STRING AS nodeid FROM node_auto_make\n",
    "UNION\n",
    "SELECT DISTINCT policy_state::STRING AS nodeid FROM node_policy_state\n",
    "UNION\n",
    "SELECT DISTINCT policy_csl::STRING AS nodeid FROM node_policy_csl\n",
    "UNION\n",
    "SELECT DISTINCT months_as_customer_bucket::STRING AS nodeid FROM node_months_as_customer_bucket;"
   ]
  },
  {
   "cell_type": "code",
   "execution_count": null,
   "id": "134787c5-ef95-402d-a961-078a8f63cb6f",
   "metadata": {
    "language": "sql",
    "name": "cell3"
   },
   "outputs": [],
   "source": [
    "select * from all_nodes"
   ]
  },
  {
   "cell_type": "markdown",
   "id": "d8a8d7f4-e9df-439b-9d86-70d32877f9cd",
   "metadata": {
    "collapsed": false,
    "name": "cell2"
   },
   "source": [
    "Below we will create the relationship tables."
   ]
  },
  {
   "cell_type": "code",
   "execution_count": null,
   "id": "a4eafc77-9fad-4849-aab3-e2014c4573e6",
   "metadata": {
    "language": "sql",
    "name": "create_relationship_tables"
   },
   "outputs": [],
   "source": [
    "CREATE OR REPLACE TABLE rel_policy_police_report_available AS\n",
    "SELECT\n",
    "  policy_number,\n",
    "  police_report_available\n",
    "FROM i_demo.public.insurance_claims_full;\n",
    "\n",
    "CREATE OR REPLACE TABLE rel_policy_witnesses AS\n",
    "SELECT\n",
    "  policy_number,\n",
    "  witnesses\n",
    "FROM i_demo.public.insurance_claims_full;\n",
    "\n",
    "CREATE OR REPLACE TABLE rel_policy_auto_make AS\n",
    "SELECT\n",
    "  policy_number,\n",
    "  auto_make\n",
    "FROM i_demo.public.insurance_claims_full;\n",
    "\n",
    "CREATE OR REPLACE TABLE rel_policy_policy_state AS\n",
    "SELECT\n",
    "  policy_number,\n",
    "  policy_state\n",
    "FROM i_demo.public.insurance_claims_full;\n",
    "\n",
    "CREATE OR REPLACE TABLE rel_policy_policy_csl AS\n",
    "SELECT\n",
    "  policy_number,\n",
    "  policy_csl\n",
    "FROM i_demo.public.insurance_claims_full;\n",
    "\n",
    "CREATE OR REPLACE TABLE rel_policy_total_claim_amount_bucket AS\n",
    "SELECT\n",
    "  policy_number,\n",
    "  CASE\n",
    "    WHEN total_claim_amount < 40000 THEN 'Low'\n",
    "    WHEN total_claim_amount BETWEEN 40000 AND 70000 THEN 'Medium'\n",
    "    WHEN total_claim_amount > 70000 THEN 'High'\n",
    "    ELSE 'Unknown'\n",
    "  END AS total_claim_amount_bucket\n",
    "FROM i_demo.public.insurance_claims_full;\n",
    "\n",
    "CREATE OR REPLACE TABLE rel_policy_months_as_customer_bucket AS\n",
    "SELECT\n",
    "  policy_number,\n",
    "  CASE\n",
    "    WHEN months_as_customer < 100 THEN 'Short (<100m)'\n",
    "    WHEN months_as_customer BETWEEN 100 AND 300 THEN 'Medium (100-300m)'\n",
    "    WHEN months_as_customer > 300 THEN 'Long (>300m)'\n",
    "    ELSE 'Unknown'\n",
    "  END AS months_as_customer_bucket\n",
    "FROM i_demo.public.insurance_claims_full;"
   ]
  },
  {
   "cell_type": "markdown",
   "id": "02b13610-3b5f-4ef0-a0a4-13ae7d6c10fc",
   "metadata": {
    "collapsed": false,
    "name": "cell8"
   },
   "source": [
    "We will merge all relationships into one big relationship table for easier analyses."
   ]
  },
  {
   "cell_type": "code",
   "execution_count": null,
   "id": "6d4da9fd-10ad-44b1-9d18-a7dfbad16fed",
   "metadata": {
    "language": "sql",
    "name": "cell7"
   },
   "outputs": [],
   "source": [
    "CREATE OR REPLACE TABLE all_relationships AS\n",
    "SELECT policy_number::STRING AS sourcenodeid, police_report_available::STRING AS targetnodeid\n",
    "FROM rel_policy_police_report_available\n",
    "UNION\n",
    "SELECT policy_number::STRING, witnesses::STRING\n",
    "FROM rel_policy_witnesses\n",
    "UNION\n",
    "SELECT policy_number::STRING, total_claim_amount_bucket::STRING\n",
    "FROM rel_policy_total_claim_amount_bucket\n",
    "UNION\n",
    "SELECT policy_number::STRING, auto_make::STRING\n",
    "FROM rel_policy_auto_make\n",
    "UNION\n",
    "SELECT policy_number::STRING, policy_state::STRING\n",
    "FROM rel_policy_policy_state\n",
    "UNION\n",
    "SELECT policy_number::STRING, policy_csl::STRING\n",
    "FROM rel_policy_policy_csl\n",
    "UNION\n",
    "SELECT policy_number::STRING, months_as_customer_bucket::STRING\n",
    "FROM rel_policy_months_as_customer_bucket;"
   ]
  },
  {
   "cell_type": "markdown",
   "id": "bad17d47-46b4-42d1-a06b-ed54266606ba",
   "metadata": {
    "collapsed": false,
    "name": "cell4"
   },
   "source": [
    "Let's see how our data is present in the relationships table.\n",
    "\n",
    "You can also preview the data of these tables from the I_DEMO database under public schema on Snowsight Databases page. Please refer this [documentation](https://docs.snowflake.com/en/user-guide/ui-snowsight-data-databases-table) for more information."
   ]
  },
  {
   "cell_type": "code",
   "execution_count": null,
   "id": "94b7b8fe-8cff-4bf4-8fae-314685b128ec",
   "metadata": {
    "codeCollapsed": false,
    "language": "sql",
    "name": "nodes_snapshot_look"
   },
   "outputs": [],
   "source": [
    "select * from rel_policy_police_report_available"
   ]
  },
  {
   "cell_type": "code",
   "execution_count": null,
   "id": "81bfb790-1897-4b56-a531-9544df018e05",
   "metadata": {
    "language": "sql",
    "name": "cell12"
   },
   "outputs": [],
   "source": [
    "select * from all_relationships"
   ]
  },
  {
   "cell_type": "markdown",
   "id": "72fc512c-27ec-4758-881f-0a634207a499",
   "metadata": {
    "collapsed": false,
    "name": "run_graph_alg_notes"
   },
   "source": [
    "\n",
    "\n",
    "## Insurance Claims Embeddings and Similarity\n",
    "Duration 10\n",
    "\n",
    "Uncovering complex fraud patterns in insurance claims requires more than tracing obvious links between entities. To detect subtle signals of collusion or anomalous behavior, we turn to **structural embeddings** — numerical summaries that capture how each claim fits within the broader network.\n",
    "\n",
    "By transforming the graph structure into a vector space, we can:\n",
    "\n",
    "- Detect clusters of claims that fulfill similar structural roles\n",
    "- Surface outliers whose behavior deviates from typical claim patterns\n",
    "- Flag candidates for further review based on similarity to known fraudulent activity\n",
    "\n",
    "Our approach leverages two key graph algorithms:\n",
    "\n",
    "**Fast Random Projection (FastRP):**\n",
    "  This algorithm generates a concise 16-dimensional vector for each claim, reflecting the shape of its surrounding network. Claims embedded in similar structural contexts — such as being part of a fraud ring — will yield similar vectors.\n",
    "\n",
    "**K-Nearest Neighbors (KNN):**\n",
    "  Once embeddings are in place, KNN finds the most structurally similar claims using cosine similarity. This allows us to identify networks of claims that may not be directly connected but exhibit comparable behavior.\n",
    "\n",
    "By combining structural embeddings with similarity search, we move beyond surface-level connections and begin to model how fraud operates across the entire claims graph.\n",
    "\n",
    "You can find more information about these algorithms in our [documentation](https://neo4j.com/docs/snowflake-graph-analytics/current/algorithms/).\n"
   ]
  },
  {
   "cell_type": "markdown",
   "id": "fd2ac7d3-fab7-4068-853d-3b2ebbe00299",
   "metadata": {
    "collapsed": false,
    "name": "cell16"
   },
   "source": [
    "### Fast Random Projection (FastRP)\n",
    "Fraud patterns often hide behind complex, indirect relationships. FastRP allows us to translate each claim's graph position into a compact vector — a structural fingerprint that captures its role in the broader claims network.\n",
    "\n",
    "These embeddings aren't directly interpretable, but when two claims have very similar embeddings, it strongly suggests they occupy comparable positions in the network. They may share the same types of connections to incidents, entities, or locations — potentially indicating coordinated behavior or copycat strategies.\n",
    "\n",
    "We compute embeddings as follows:\n"
   ]
  },
  {
   "cell_type": "code",
   "execution_count": null,
   "id": "c0544cab-0953-45f0-be1a-f67e5913ec87",
   "metadata": {
    "language": "sql",
    "name": "cell9"
   },
   "outputs": [],
   "source": [
    "CALL Neo4j_Graph_Analytics.graph.fast_rp('CPU_X64_XS', {\n",
    "  'project': {\n",
    "    'defaultTablePrefix': 'i_demo.public',\n",
    "    'nodeTables': ['all_nodes'],\n",
    "    'relationshipTables': {\n",
    "      'all_relationships': {\n",
    "        'sourceTable': 'all_nodes',\n",
    "        'targetTable': 'all_nodes',\n",
    "        'orientation': 'UNDIRECTED'\n",
    "\n",
    "      }\n",
    "    }\n",
    "  },\n",
    "  'compute': {\n",
    "    'mutateProperty': 'embedding',\n",
    "    'embeddingDimension': 128\n",
    "  },\n",
    "  'write': [{\n",
    "    'nodeLabel': 'all_nodes',\n",
    "    'outputTable': 'i_demo.public.all_nodes_fast_rp',\n",
    "    'nodeProperty': 'embedding'\n",
    "  }]\n",
    "});"
   ]
  },
  {
   "cell_type": "code",
   "execution_count": null,
   "id": "9d8220b7-d5b8-4d62-9108-4d042e0b1a73",
   "metadata": {
    "language": "sql",
    "name": "cell10"
   },
   "outputs": [],
   "source": [
    "SELECT\n",
    "  nodeid,\n",
    "  embedding\n",
    "FROM i_demo.public.all_nodes_fast_rp;"
   ]
  },
  {
   "cell_type": "markdown",
   "id": "6b2cb065-b5fb-435c-852d-8a97a8105465",
   "metadata": {
    "collapsed": false,
    "name": "node_embeddings_interpretation"
   },
   "source": [
    "Now that we have generated node embeddings, we can now proceed to use these in KNN similarity detection algorithm."
   ]
  },
  {
   "cell_type": "markdown",
   "id": "e1875f85-f07e-424b-b8ff-1f0135458bc4",
   "metadata": {
    "collapsed": false,
    "name": "knn_intro"
   },
   "source": [
    "### K-Nearest Neighbors (KNN)\n",
    "\n",
    "With embeddings in place, KNN helps us find structurally similar claims — even if they’re not directly connected. It compares the cosine similarity of embeddings to rank the top matches for each node.\n",
    "\n",
    "This is especially useful in fraud detection, where collusive claims may appear unrelated on the surface but exhibit parallel structural behavior: similar entity relationships, involvement in incidents with mirrored patterns, or indirect ties to the same clusters of providers.\n",
    "\n",
    "In the context of cosine similarity in the KNN algorithm, a score of:\n",
    "\n",
    "- 1.0 means the vectors point in exactly the same direction (perfect similarity).\n",
    "\n",
    "- 0.0 means orthogonal (no similarity).\n",
    "\n",
    "- –1.0 means completely opposite.\n",
    "\n"
   ]
  },
  {
   "cell_type": "code",
   "execution_count": null,
   "id": "b56a29a3-e79b-46fb-aa45-c4985b2d9c27",
   "metadata": {
    "language": "sql",
    "name": "knn_code"
   },
   "outputs": [],
   "source": [
    "CALL Neo4j_Graph_Analytics.graph.knn('CPU_X64_XS', {\n",
    "  'project': {\n",
    "    'defaultTablePrefix': 'i_demo.public',\n",
    "    'nodeTables': [ 'all_nodes_fast_rp' ],\n",
    "    'relationshipTables': {}\n",
    "  },\n",
    "  'compute': {\n",
    "    'nodeProperties': ['EMBEDDING'],\n",
    "    'topK': 3,\n",
    "    'mutateProperty': 'score',\n",
    "    'mutateRelationshipType': 'SIMILAR_TO'\n",
    "  },\n",
    "  'write': [{\n",
    "    'outputTable': 'i_demo.public.claims_knn_similarity',\n",
    "    'sourceLabel': 'all_nodes_fast_rp',\n",
    "    'targetLabel': 'all_nodes_fast_rp',\n",
    "    'relationshipType': 'SIMILAR_TO',\n",
    "    'relationshipProperty': 'score'\n",
    "  }]\n",
    "});"
   ]
  },
  {
   "cell_type": "code",
   "execution_count": null,
   "id": "131c08b6-fc74-4663-8dd0-b2d4c8ad8593",
   "metadata": {
    "language": "sql",
    "name": "knn_Results"
   },
   "outputs": [],
   "source": [
    "SELECT\n",
    "    score,\n",
    "    COUNT(*) AS row_count\n",
    "FROM i_demo.public.claims_knn_similarity\n",
    "GROUP BY score\n",
    "ORDER BY score\n",
    "     "
   ]
  },
  {
   "cell_type": "markdown",
   "id": "ab176392-c17f-4002-9401-dd570633ff67",
   "metadata": {
    "collapsed": false,
    "name": "knn_interpretation"
   },
   "source": [
    "The KNN results show that many nodes have very high structural similarity scores (mostly above 0.92), indicating they occupy very similar positions in the graph. This suggests that these claims or entities may share common patterns or connections, potentially signaling coordinated behavior. High-scoring pairs are good candidates for closer review to detect possible collusion or fraud.\n"
   ]
  },
  {
   "cell_type": "markdown",
   "id": "81ebcb7e-c167-4fae-80bd-ca0b6fceb99b",
   "metadata": {
    "collapsed": false,
    "name": "knn_viz_intro"
   },
   "source": [
    "## Visualizing Your Graph (Experimental)\n",
    "Duration 5\n",
    "\n",
    "Let's visualize how the nodes are similar to one another using the `experimental.visualize` procedure. This interactive tool will help us visually see the similarity score between the nodes.\n",
    "\n",
    "We will begin by taking the top 50 highly similar nodes, and color them based on if they were tagged fradulent or not in our initial dataset. We will use views to achieve this.\n",
    "\n",
    "Prepare a nodes view with fraud_reported variable attached to it."
   ]
  },
  {
   "cell_type": "code",
   "execution_count": null,
   "id": "428926ec-9fe0-4981-b98d-a8941012a33f",
   "metadata": {
    "language": "sql",
    "name": "all_nodes_fraud_view_creation"
   },
   "outputs": [],
   "source": [
    "CREATE OR REPLACE VIEW i_demo.public.all_nodes_fraud_view AS\n",
    "SELECT\n",
    "    an.nodeid   AS NodeId,\n",
    "    IFF(src.fraud_reported,1,0) :: INTEGER      AS fraud_reported\n",
    "FROM i_demo.public.all_nodes an\n",
    "LEFT JOIN i_demo.public.insurance_claims_full src\n",
    "       ON CAST(src.policy_number AS VARCHAR) = an.nodeid"
   ]
  },
  {
   "cell_type": "markdown",
   "id": "4ac33cce-fdfe-4405-a9bd-910820a8def1",
   "metadata": {
    "collapsed": false,
    "name": "cell19"
   },
   "source": [
    "Prepare a knn similarity view for the top 50 highly similar nodes and also prepare an all nodes view for the nodes in the top 50 high similarity."
   ]
  },
  {
   "cell_type": "code",
   "execution_count": null,
   "id": "4300080b-2fd1-4b2c-88d3-904fd5c1e5eb",
   "metadata": {
    "language": "sql",
    "name": "knn_scores_fraud_view_top_50"
   },
   "outputs": [],
   "source": [
    "CREATE OR REPLACE VIEW i_demo.public.claims_knn_similarity_top50 AS\n",
    "SELECT\n",
    "    *\n",
    "FROM i_demo.public.claims_knn_similarity\n",
    "ORDER BY SCORE DESC\n",
    "LIMIT 50"
   ]
  },
  {
   "cell_type": "code",
   "execution_count": null,
   "id": "e288ad08-c95d-42db-b24b-a47f52e79344",
   "metadata": {
    "language": "sql",
    "name": "all_nodes_fraud_top50"
   },
   "outputs": [],
   "source": [
    "CREATE OR REPLACE VIEW i_demo.public.all_nodes_fraud_view_top50 AS\n",
    "SELECT *\n",
    "FROM   i_demo.public.all_nodes_fraud_view\n",
    "WHERE  nodeid IN (\n",
    "         SELECT SOURCENODEID FROM i_demo.public.claims_knn_similarity_top50\n",
    "         UNION                 \n",
    "         SELECT TARGETNODEID FROM i_demo.public.claims_knn_similarity_top50\n",
    ");\n"
   ]
  },
  {
   "cell_type": "code",
   "execution_count": null,
   "id": "82e9f63a-b10f-4d4a-90bc-7aa1be4cb72e",
   "metadata": {
    "language": "sql",
    "name": "fraud_knn_viz_top_50"
   },
   "outputs": [],
   "source": [
    "CALL Neo4j_Graph_Analytics.experimental.visualize(\n",
    "{\n",
    "    'nodeTables': ['i_demo.public.all_nodes_fraud_view_top50'],\n",
    "    'relationshipTables': {\n",
    "      'i_demo.public.claims_knn_similarity_top50': {\n",
    "        'sourceTable': 'i_demo.public.all_nodes_fraud_view_top50',\n",
    "        'targetTable': 'i_demo.public.all_nodes_fraud_view_top50'\n",
    "      }\n",
    "    }\n",
    "  },\n",
    "  {'nodeColoring': {\n",
    "  'byColumn': 'fraud_reported',\n",
    "  'colorSpace': 'discrete'}\n",
    "  }\n",
    ");"
   ]
  },
  {
   "cell_type": "markdown",
   "id": "aa5bb76d-959d-442e-b798-bbec4ee1c37b",
   "metadata": {
    "collapsed": false,
    "name": "cell13"
   },
   "source": [
    "In the below example, we can see that we have pairs of nodes that are highly similiar to each other. Yellow nodes have previously been labeled as fraud and purple nodes have not. We may want to consider propagating these fraud labels to these highly similar nodes."
   ]
  },
  {
   "cell_type": "code",
   "execution_count": null,
   "id": "e5d3a63b-a62c-4256-b7b1-e91d4fe1d819",
   "metadata": {
    "language": "python",
    "name": "build_fraud_knn_viz_top50",
    "vscode": {
     "languageId": "python"
    }
   },
   "outputs": [],
   "source": [
    "import streamlit.components.v1 as components\n",
    "\n",
    "components.html(\n",
    "    fraud_knn_viz_top_50.to_pandas().loc[0][\"VISUALIZE\"],\n",
    "    height=600\n",
    ")\n"
   ]
  },
  {
   "cell_type": "markdown",
   "id": "26c41315-eb3f-492b-9c77-374e52b0d4d9",
   "metadata": {
    "collapsed": false,
    "name": "cell14"
   },
   "source": [
    "## Finding Additional Fraud\n",
    "Duration 5\n",
    "We now have pairwise similarity scores between different claims. Let's take a look at our original table and find claims that appear to be structurally the same as fraudulent claims. We are looking for claims that satisfy two conditions:\n",
    "\n",
    "1. They are not currently marked as fraudulent\n",
    "2. They have a knn score of \"1\" with a claim that has already been marked as fraudulent\n",
    "\n",
    "This can give us an idea of the universe of potentially missed fraudulent claims."
   ]
  },
  {
   "cell_type": "code",
   "execution_count": null,
   "id": "e6e1fec6-cc9b-4353-a6bc-aec268f34723",
   "metadata": {
    "language": "sql",
    "name": "cell18"
   },
   "outputs": [],
   "source": [
    "SELECT icf.*\n",
    "FROM i_demo.public.insurance_claims_full icf\n",
    "JOIN i_demo.public.claims_knn_similarity knn\n",
    "  ON CAST(icf.policy_number AS VARCHAR) = knn.targetnodeid\n",
    "WHERE knn.score >= 1\n",
    "  AND icf.fraud_reported = 'Y'\n",
    "  AND NOT EXISTS (\n",
    "    SELECT 1\n",
    "    FROM i_demo.public.insurance_claims_full icf_src\n",
    "    WHERE CAST(icf_src.policy_number AS VARCHAR) = knn.sourcenodeid\n",
    "      AND icf_src.fraud_reported = 'Y'\n",
    "  );"
   ]
  },
  {
   "cell_type": "markdown",
   "id": "c776f7cf-a129-45e9-80e2-9a77576df027",
   "metadata": {
    "collapsed": false,
    "name": "cell15"
   },
   "source": [
    "## Conclusion and Resources\n",
    "\n",
    "Duration 2 \n",
    "\n",
    "In this quickstart, you learned how to bring the power of graph insights into Snowflake using Neo4j Graph Analytics.\n",
    "\n",
    "### What You Learned\n",
    "By working with a Insurance Claims dataset, you were able to:\n",
    "\n",
    "1. Set up the Neo4j Graph Analytics application within Snowflake.\n",
    "2. Prepare and project your data into a graph model (users as nodes, transactions as relationships).\n",
    "3. Ran Weakly Connected Components to identify potential clusters of fraudulent activity.\n",
    "4. Ran Node Embeddings and K Nearest Neighbors to identify the structure of nodes in the graph and identify highly similar claims.\n",
    "\n",
    "### Resources\n",
    "- [Neo4j Graph Analytics Documentation](https://neo4j.com/docs/snowflake-graph-analytics/)\n",
    "- [Installing Neo4j Graph Analytics on SPCS](https://neo4j.com/docs/snowflake-graph-analytics/installation/)"
   ]
  }
 ],
 "metadata": {
  "kernelspec": {
   "display_name": "Streamlit Notebook",
   "name": "streamlit"
  },
  "lastEditStatus": {
   "authorEmail": "corydon.baylor@neo4j.com",
   "authorId": "3020319158773",
   "authorName": "CBAYLOR",
   "lastEditTime": 1752865237802,
   "notebookId": "qdcgcj7mrnrevxzal5w7",
   "sessionId": "d6fd0913-e623-4c48-858e-f9948e0a19eb"
  }
 },
 "nbformat": 4,
 "nbformat_minor": 5
}
