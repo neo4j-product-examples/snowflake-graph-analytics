{
 "cells": [
  {
   "cell_type": "markdown",
   "id": "13e63b89-ece2-4799-b0a9-a3402ba95917",
   "metadata": {},
   "source": [
    "Basket Analysis\n",
    "\n",
    "Neo4j GDS on Snowflake v0.3.13\n",
    "\n",
    "Last Updated: 16 May 2025"
   ]
  },
  {
   "cell_type": "markdown",
   "id": "d70fdb6f-4ec9-4e88-8c66-0ab4be324f15",
   "metadata": {},
   "source": [
    "## Setting Up\n",
    "Before we run our algorithms, we need to set the proper permissions. But before we get started granting different roles, we need to ensure that you are using `accountadmin` to grant and create roles. Lets do that now:"
   ]
  },
  {
   "cell_type": "code",
   "execution_count": null,
   "id": "8b304f52-660a-4162-ba9c-fb3ad2835367",
   "metadata": {},
   "outputs": [],
   "source": [
    "-- you must be accountadmin to create role and grant permissions\n",
    "USE ROLE accountadmin;"
   ]
  },
  {
   "cell_type": "markdown",
   "id": "f69ca343-91a9-4867-8bec-aab3e902fa29",
   "metadata": {},
   "source": [
    "Create a database which we will use to prepare data for Neo4j Graph Analytics for Snowflake."
   ]
  },
  {
   "cell_type": "code",
   "execution_count": null,
   "id": "4afaf9a4-114b-4a93-938e-232e4247d23d",
   "metadata": {},
   "outputs": [],
   "source": [
    "-- Create a database which we will use to prepare data for Graph Analytics.\n",
    "CREATE DATABASE IF NOT EXISTS product_recommendation;\n",
    "CREATE SCHEMA IF NOT EXISTS product_recommendation.public;\n",
    "USE SCHEMA product_recommendation.public;"
   ]
  },
  {
   "cell_type": "markdown",
   "id": "e54d1480-505b-45e6-9546-fd08c964a63d",
   "metadata": {},
   "source": [
    "Next let's set up the necessary roles, permissions, and resource access to enable Graph Analytics to operate on data within the neo4j_imdb.public schema. It creates a consumer role (gds_role) for users and administrators, grants the Neo4j Graph Analytics for Snowflake application access to read from and write to tables and views, and ensures that future tables are accessible.\n",
    "\n",
    "It also provides the application with access to the required compute pool and warehouse resources needed to run graph algorithms at scale."
   ]
  },
  {
   "cell_type": "code",
   "execution_count": null,
   "id": "4db14318-a480-4687-8057-d69a4169d085",
   "metadata": {},
   "outputs": [],
   "source": [
    "USE SCHEMA product_recommendation.public;\n",
    "\n",
    "-- Create a consumer role for users and admins of the GDS application\n",
    "CREATE ROLE IF NOT EXISTS gds_user_role;\n",
    "CREATE ROLE IF NOT EXISTS gds_admin_role;\n",
    "GRANT APPLICATION ROLE neo4j_graph_analytics.app_user TO ROLE gds_user_role;\n",
    "GRANT APPLICATION ROLE neo4j_graph_analytics.app_admin TO ROLE gds_admin_role;\n",
    "\n",
    "CREATE DATABASE ROLE IF NOT EXISTS gds_db_role;\n",
    "GRANT DATABASE ROLE gds_db_role TO ROLE gds_user_role;\n",
    "GRANT DATABASE ROLE gds_db_role TO APPLICATION neo4j_graph_analytics;\n",
    "\n",
    "-- Grant access to consumer data\n",
    "GRANT USAGE ON DATABASE product_recommendation TO ROLE gds_user_role;\n",
    "GRANT USAGE ON SCHEMA product_recommendation.public TO ROLE gds_user_role;\n",
    "\n",
    "-- Required to read tabular data into a graph\n",
    "GRANT SELECT ON ALL TABLES IN DATABASE product_recommendation TO DATABASE ROLE gds_db_role;\n",
    "\n",
    "-- Ensure the consumer role has access to created tables/views\n",
    "GRANT ALL PRIVILEGES ON FUTURE TABLES IN SCHEMA product_recommendation.public TO DATABASE ROLE gds_db_role;\n",
    "GRANT ALL PRIVILEGES ON ALL TABLES IN SCHEMA product_recommendation.public TO DATABASE ROLE gds_db_role;\n",
    "GRANT CREATE TABLE ON SCHEMA product_recommendation.public TO DATABASE ROLE gds_db_role;\n",
    "GRANT CREATE VIEW ON SCHEMA product_recommendation.public TO DATABASE ROLE gds_db_role;\n",
    "GRANT ALL PRIVILEGES ON FUTURE VIEWS IN SCHEMA product_recommendation.public TO DATABASE ROLE gds_db_role;\n",
    "GRANT ALL PRIVILEGES ON ALL VIEWS IN SCHEMA product_recommendation.public TO DATABASE ROLE gds_db_role;\n",
    "\n",
    "-- Compute and warehouse access\n",
    "GRANT USAGE ON WAREHOUSE NEO4J_GRAPH_ANALYTICS_APP_WAREHOUSE TO APPLICATION neo4j_graph_analytics;"
   ]
  },
  {
   "cell_type": "code",
   "execution_count": null,
   "id": "d0767b38-7c8c-4445-a0d2-6213755a87d2",
   "metadata": {},
   "outputs": [],
   "source": [
    "USE ROLE gds_user_role;\n",
    "USE SCHEMA product_recommendation.public;"
   ]
  },
  {
   "cell_type": "markdown",
   "id": "35b034b1-541e-40a7-826f-c1cfea127539",
   "metadata": {},
   "source": [
    "This example uses data from the Snowflake sample database, SNOWFLAKE_SAMPLE_DATA \n",
    "\n",
    "See https://docs.snowflake.com/en/user-guide/sample-data-using\n"
   ]
  },
  {
   "cell_type": "code",
   "execution_count": null,
   "id": "2d1e9931-84b5-4076-98bd-9dad95698fef",
   "metadata": {},
   "outputs": [],
   "source": [
    "-- The application reads data from tables that represent nodes and relationships.\n",
    "-- Nodes are usually represented by entity tables, like persons or products.\n",
    "-- Relationships are foreign keys between entity tables (1:1, 1:n) or via mapping tables (n:m).\n",
    "-- In addition, the application expects certain naming conventions on column names.\n",
    "-- If the data is not yet in the right format, we can use views to get there.\n",
    "\n",
    "-- For our analysis, we will use two different types of nodes: parts and orders.\n",
    "-- We want to find similar parts by looking at the orders in which they appeared.\n",
    "-- The relationships will be the line items linking a part to an order.\n",
    "-- The result will be a new table containing pairs of parts including their similarity score.\n",
    "\n",
    "-- We start by creating two views to represent our node tables.\n",
    "-- The application requires a node table to contain a 'nodeId' column.\n",
    "-- Since we do not need any node properties, this will be the only column we project.\n",
    "-- Note that the `nodeId` column is used to uniquely identify a node in the table.\n",
    "-- The uniqueness is usually achieved by using the primary key in that table, here 'p_partkey'.\n",
    "CREATE OR REPLACE VIEW parts AS\n",
    "SELECT p_partkey AS nodeId FROM snowflake_sample_data.tpch_sf1.part;\n",
    "\n",
    "-- We do the same for the orders by projecting the `o_orderkey` to 'nodeId'.\n",
    "CREATE OR REPLACE VIEW orders AS\n",
    "SELECT o_orderkey AS nodeId FROM snowflake_sample_data.tpch_sf1.orders;\n",
    "\n",
    "-- The line items represent the relationship between parts and orders.\n",
    "-- The application requires a `sourceNodeId` and a `targetNodeId` column to identify.\n",
    "-- Here, a part is the source of a relationship and an order is the target.\n",
    "CREATE OR REPLACE VIEW part_in_order AS\n",
    "SELECT\n",
    "    l_partkey AS sourceNodeId,\n",
    "    l_orderkey AS targetNodeId\n",
    "FROM snowflake_sample_data.tpch_sf1.lineitem;"
   ]
  },
  {
   "cell_type": "markdown",
   "id": "5eae9c3b-660c-4be2-b367-837c784bdf60",
   "metadata": {},
   "source": [
    "Next, we want to consider the warehouse that the Neo4j Graph Analytics for Snowflake application will use to execute queries.\n",
    "For this example a MEDIUM size warehouse, so we configure the application's warehouse accordingly"
   ]
  },
  {
   "cell_type": "code",
   "execution_count": null,
   "id": "0145ecfe-f6f1-4191-b264-e35477b7181a",
   "metadata": {},
   "outputs": [],
   "source": [
    "ALTER WAREHOUSE NEO4J_GRAPH_ANALYTICS_APP_WAREHOUSE SET WAREHOUSE_SIZE='MEDIUM';"
   ]
  },
  {
   "cell_type": "code",
   "execution_count": null,
   "id": "31e9f3d7-8025-45f0-b6e6-9b759923c75b",
   "metadata": {},
   "outputs": [],
   "source": [
    "SELECT TO_CHAR(SOURCENODEID), TO_CHAR(TARGETNODEID) FROM product_recommendation.public.PART_IN_ORDER LIMIT 10;"
   ]
  },
  {
   "cell_type": "markdown",
   "id": "59080094-4799-4e89-9a0d-2c4196f3c8e9",
   "metadata": {},
   "source": [
    "Once the session is started, we can project our node and relationship views into a Neo4j Graph Analytics for Snowflake in-memory graph. The graph will be identified by the name \"parts_in_orders\".\n",
    "\n",
    "* The mandatory parameters are the node tables and the relationship tables.\n",
    "* A node table mapping points from a table/view to a node label that is used in the Neo4j Graph Analytics for Snowflake graph.\n",
    "* The name of node label is based on the table/view name used in the projection, and case is preserved.\n",
    "For example, the rows of 'product_recommendation.public..Part' will be nodes labeled as 'Part'.\n",
    "* Relationship tables need a bit more configuration.\n",
    "We need to specify source and target tables.\n",
    "* The relationships are represented as typed relationships is the Neo4j Graph Analytics for Snowflake graph, where similarly to nodes, the table/view name is taken as the relationship type.\n",
    "* For example, 'product_recommendation.public..part_in_order' below gives rise to the relationship 'part_in_order' in the Neo4j Graph Analytics for Snowflake graph.\n",
    "* We also specify the optional read concurrency to optimize building the graph projection.\n",
    "* The concurrency can be set to the number of cores available on the compute pool node."
   ]
  },
  {
   "cell_type": "markdown",
   "id": "786748d8-9d02-4076-8a07-65afdd67e757",
   "metadata": {},
   "source": [
    "The graph we project is a so-called bipartite graph, as it contains two types of nodes and all relationships point from one type to the other.\n",
    "The node similarity algorithm looks at all pairs of nodes of the first type and calculates the similarity for each pair based on common relationships.\n",
    "In our case, the algorithm will calculate the similarity between two parts based on the orders in which they appear.\n",
    "The algorithm produces new relationships between parts, the relationship property is the similarity score.\n",
    "For further information on the node similarity algorithm, please refer to the [Neo4j Graph Analytics for Snowflake documentation](https://neo4j.com/docs/snowflake-graph-analytics/current/)"
   ]
  },
  {
   "cell_type": "markdown",
   "id": "a441d0d6-0a22-4fcb-b82d-00a0f83d3990",
   "metadata": {},
   "source": [
    "Once the algorithm has finished, we can write the results back to Snowflake tables for further analysis.\n",
    "We want to write back the similarity relationships between parts. \n",
    "The specified table will contain the original source and target node ids and the similarity score."
   ]
  },
  {
   "cell_type": "code",
   "execution_count": null,
   "id": "2247dfa5-abcf-482b-91b2-9ce38840a3f6",
   "metadata": {},
   "outputs": [],
   "source": [
    "CALL neo4j_graph_analytics.graph.node_similarity('CPU_X64_L', {\n",
    "  'project': {\n",
    "    'defaultTablePrefix': 'product_recommendation.public',\n",
    "    'nodeTables': ['Part_VW','Order_VW'], \n",
    "    'relationshipTables': {\n",
    "      'part_in_order': {\n",
    "        'sourceTable': 'Part_VW',\n",
    "        'targetTable': 'Order_VW'\n",
    "      }\n",
    "    }\n",
    "  },\n",
    "  'compute': { 'topK': 2,\n",
    "                'concurrency': 28 },\n",
    "  'write': [\n",
    "    {\n",
    "    'sourceLabel':          'Part_VW',\n",
    "    'targetLabel':          'Part_VW',\n",
    "    'relationshipType':     'SIMILAR_TO',\n",
    "    'relationshipProperty': 'similarity',\n",
    "    'outputTable':          'product_recommendation.public.part_similar_to_part'\n",
    "    }\n",
    "  ]\n",
    "});"
   ]
  },
  {
   "cell_type": "markdown",
   "id": "e87b0916-9cdd-4377-ae8f-a07c838073e8",
   "metadata": {},
   "source": [
    "After writing the table, we need to ensure that our current role is allowed to read it.\n",
    "Alternatively, we can also grant access to all future tables created by the application."
   ]
  },
  {
   "cell_type": "code",
   "execution_count": null,
   "id": "9eb24431-c49e-47b8-bbfa-62dfa46c1be1",
   "metadata": {},
   "outputs": [],
   "source": [
    "GRANT SELECT ON product_recommendation.public.PART_SIMILAR_TO_PART TO ROLE gds_user_role;"
   ]
  },
  {
   "cell_type": "markdown",
   "id": "e5b6d40b-67c2-4879-bffe-0c3bcdca5195",
   "metadata": {},
   "source": [
    "Since the results are now stored in Snowflake, we can query them and join them with our original data.\n",
    "For example, we can find the names of the most similar parts based on the similarity score.\n",
    "Simply speaking, this could be used as a recommendation system for parts."
   ]
  },
  {
   "cell_type": "code",
   "execution_count": null,
   "id": "e9f2ca75-2d8b-4971-9bb5-a3be5c034555",
   "metadata": {},
   "outputs": [],
   "source": [
    "SELECT DISTINCT p_source.p_name, p_target.p_name, sim.similarity\n",
    "FROM product_recommendation.public.PARTS p_source\n",
    "    JOIN product_recommendation.public.PART_SIMILAR_TO_PART sim\n",
    "        ON p_source.p_partkey = sim.sourcenodeid\n",
    "    JOIN product_recommendation.public.PARTS p_target\n",
    "        ON p_target.p_partkey = sim.targetnodeid\n",
    "ORDER BY sim.similarity DESC LIMIT 10;"
   ]
  },
  {
   "cell_type": "code",
   "execution_count": null,
   "id": "1ea473f6-1b3a-4f52-b144-743bcfbdf2bb",
   "metadata": {},
   "outputs": [],
   "source": [
    "USE ROLE ACCOUNTADMIN;\n",
    "GRANT OWNERSHIP ON TABLE product_recommendation.public.part_similar_to_part TO ROLE gds_user_role REVOKE CURRENT GRANTS;\n",
    "USE ROLE gds_user_role;"
   ]
  },
  {
   "cell_type": "markdown",
   "id": "2043e223-11b6-40f3-998f-1172fd33b516",
   "metadata": {},
   "source": [
    "The Neo4j Graph Analytics for Snowflake service is a long-running service and should be stopped when not in use.\n",
    "Once we completed our analysis, we can stop the session, which suspends the container service.\n",
    "We can restart the session at any time to continue our analysis."
   ]
  }
 ],
 "metadata": {
  "language_info": {
   "name": "python",
   "pygments_lexer": "ipython3"
  }
 },
 "nbformat": 4,
 "nbformat_minor": 5
}
