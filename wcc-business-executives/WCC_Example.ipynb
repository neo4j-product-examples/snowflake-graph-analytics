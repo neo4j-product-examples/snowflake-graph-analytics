{
 "cells": [
  {
   "cell_type": "markdown",
   "id": "39835177-2c76-45c9-9d78-ade7c7efc0cb",
   "metadata": {},
   "source": [
    "Author: Dave Fauth\n",
    "\n",
    "Last Updated: 16 May 2025\n",
    "\n",
    "Neo4j Graph Analytics for Snowflake Version: 0.3.13"
   ]
  },
  {
   "cell_type": "markdown",
   "id": "60afe040-12dc-4554-a747-e1ba04a7e13f",
   "metadata": {},
   "source": [
    "The Weakly Connected Components (WCC) algorithm finds sets of connected nodes in directed and undirected graphs. Two nodes are connected, if there exists a path between them. The set of all nodes that are connected with each other form a component.\n",
    "\n",
    "This example uses data that was sourced from `Relationship 360 - People Business Intelligence Sample (Massachusetts)`. This data set is a free dataset that is available in the Snowflake Marketplace."
   ]
  },
  {
   "cell_type": "markdown",
   "id": "6512b713-22e3-4610-9731-a27f89b288f3",
   "metadata": {},
   "source": [
    "## Setting Up\n",
    "Before we run our algorithms, we need to set the proper permissions. But before we get started granting different roles, we need to ensure that you are using `accountadmin` to grant and create roles. Lets do that now:"
   ]
  },
  {
   "cell_type": "code",
   "execution_count": null,
   "id": "62bfdef9-fe14-4f0e-9ebc-89b8a4db7e96",
   "metadata": {},
   "outputs": [],
   "source": [
    "-- you must be accountadmin to create role and grant permissions\n",
    "USE ROLE accountadmin;"
   ]
  },
  {
   "cell_type": "code",
   "execution_count": null,
   "id": "3a0f7ed0-e748-490c-847a-14d1623db086",
   "metadata": {},
   "outputs": [],
   "source": [
    "-- Create a database which we will use to prepare data for GDS.\n",
    "CREATE DATABASE IF NOT EXISTS WCC_EXAMPLE;\n",
    "CREATE SCHEMA IF NOT EXISTS WCC_EXAMPLE.PUBLIC;\n",
    "USE SCHEMA WCC_EXAMPLE.PUBLIC;"
   ]
  },
  {
   "cell_type": "markdown",
   "id": "cefa3e88-a039-4ab7-ab8f-3e0db350fbf2",
   "metadata": {},
   "source": [
    "Next let's set up the necessary roles, permissions, and resource access to enable Graph Analytics to operate on data within the neo4j_imdb.public schema. It creates a consumer role (gds_role) for users and administrators, grants the GDS application access to read from and write to tables and views, and ensures that future tables are accessible.\n",
    "\n",
    "It also provides the application with access to the required compute pool and warehouse resources needed to run graph algorithms at scale."
   ]
  },
  {
   "cell_type": "code",
   "execution_count": null,
   "id": "7d7436eb-5f14-4457-a0ea-085b46f5ceeb",
   "metadata": {},
   "outputs": [],
   "source": [
    "USE SCHEMA WCC_EXAMPLE.PUBLIC;\n",
    "\n",
    "-- Create a consumer role for users and admins of the GDS application\n",
    "CREATE ROLE IF NOT EXISTS gds_user_role;\n",
    "CREATE ROLE IF NOT EXISTS gds_admin_role;\n",
    "GRANT APPLICATION ROLE neo4j_graph_analytics.app_user TO ROLE gds_user_role;\n",
    "GRANT APPLICATION ROLE neo4j_graph_analytics.app_admin TO ROLE gds_admin_role;\n",
    "\n",
    "CREATE DATABASE ROLE IF NOT EXISTS gds_db_role;\n",
    "GRANT DATABASE ROLE gds_db_role TO ROLE gds_user_role;\n",
    "GRANT DATABASE ROLE gds_db_role TO APPLICATION neo4j_graph_analytics;\n",
    "\n",
    "-- Grant access to consumer data\n",
    "GRANT USAGE ON DATABASE WCC_EXAMPLE TO ROLE gds_user_role;\n",
    "GRANT USAGE ON SCHEMA WCC_EXAMPLE.PUBLIC TO ROLE gds_user_role;\n",
    "\n",
    "-- Required to read tabular data into a graph\n",
    "GRANT SELECT ON ALL TABLES IN DATABASE WCC_EXAMPLE TO DATABASE ROLE gds_db_role;\n",
    "\n",
    "-- Ensure the consumer role has access to created tables/views\n",
    "GRANT ALL PRIVILEGES ON FUTURE TABLES IN SCHEMA WCC_EXAMPLE.PUBLIC TO DATABASE ROLE gds_db_role;\n",
    "GRANT ALL PRIVILEGES ON ALL TABLES IN SCHEMA WCC_EXAMPLE.PUBLIC TO DATABASE ROLE gds_db_role;\n",
    "GRANT CREATE TABLE ON SCHEMA WCC_EXAMPLE.PUBLIC TO DATABASE ROLE gds_db_role;\n",
    "GRANT CREATE VIEW ON SCHEMA WCC_EXAMPLE.PUBLIC TO DATABASE ROLE gds_db_role;\n",
    "GRANT ALL PRIVILEGES ON FUTURE VIEWS IN SCHEMA WCC_EXAMPLE.PUBLIC TO DATABASE ROLE gds_db_role;\n",
    "GRANT ALL PRIVILEGES ON ALL VIEWS IN SCHEMA WCC_EXAMPLE.PUBLIC TO DATABASE ROLE gds_db_role;\n",
    "\n",
    "-- Compute and warehouse access\n",
    "GRANT USAGE ON WAREHOUSE NEO4J_GRAPH_ANALYTICS_APP_WAREHOUSE TO APPLICATION neo4j_graph_analytics;\n"
   ]
  },
  {
   "cell_type": "code",
   "execution_count": null,
   "id": "6211561c-3b21-4e3d-b63c-ee75293254ef",
   "metadata": {},
   "outputs": [],
   "source": [
    "USE ROLE gds_user_role;"
   ]
  },
  {
   "cell_type": "code",
   "execution_count": null,
   "id": "f13919f9-448a-4814-a035-55eaf194dc1a",
   "metadata": {},
   "outputs": [],
   "source": [
    "CREATE TABLE WCC_EXAMPLE.PUBLIC.PERSON as \n",
    "select * from relationship_360__people_business_intelligence_sample_massachusetts.sample_datafeed_mass.person"
   ]
  },
  {
   "cell_type": "code",
   "execution_count": null,
   "id": "e68eb7ce-e207-4972-9498-760aaa199426",
   "metadata": {},
   "outputs": [],
   "source": [
    "CREATE TABLE WCC_EXAMPLE.PUBLIC.ORGANIZATION as \n",
    "select * from relationship_360__people_business_intelligence_sample_massachusetts.sample_datafeed_mass.organization"
   ]
  },
  {
   "cell_type": "code",
   "execution_count": null,
   "id": "0a34ac11-35a9-42f6-ad7a-ad4830aa7eda",
   "metadata": {},
   "outputs": [],
   "source": [
    "CREATE TABLE WCC_EXAMPLE.PUBLIC.POSITION as \n",
    "select * from relationship_360__people_business_intelligence_sample_massachusetts.sample_datafeed_mass.position"
   ]
  },
  {
   "cell_type": "code",
   "execution_count": null,
   "id": "c679e5bb-bcaf-43f5-912d-e924357a8d6a",
   "metadata": {},
   "outputs": [],
   "source": [
    "CREATE TABLE WCC_EXAMPLE.PUBLIC.BIO as \n",
    "select * from relationship_360__people_business_intelligence_sample_massachusetts.sample_datafeed_mass.bio"
   ]
  },
  {
   "cell_type": "code",
   "execution_count": null,
   "id": "96c86743-36cb-4903-ae30-f2d127544d0c",
   "metadata": {},
   "outputs": [],
   "source": [
    "CREATE TABLE WCC_EXAMPLE.PUBLIC.COMMITTEE as \n",
    "select * from relationship_360__people_business_intelligence_sample_massachusetts.sample_datafeed_mass.committee"
   ]
  },
  {
   "cell_type": "code",
   "execution_count": null,
   "id": "d3e0cccd-f7be-4bba-bf1b-0c04fa9ee209",
   "metadata": {},
   "outputs": [],
   "source": [
    "-- We are going to create a view and project the `PERSON_ID` to 'nodeId'.\n",
    "CREATE OR REPLACE VIEW WCC_EXAMPLE.PUBLIC.PERSON_VW (nodeId) AS\n",
    "SELECT p.PERSON_ID AS nodeId FROM WCC_EXAMPLE.PUBLIC.PERSON p;"
   ]
  },
  {
   "cell_type": "code",
   "execution_count": null,
   "id": "49fc0bd0-f334-4311-8273-162158a8d6af",
   "metadata": {},
   "outputs": [],
   "source": [
    "-- We are going to create a view and project the `organization_id` to 'nodeId'.\n",
    "CREATE OR REPLACE VIEW WCC_EXAMPLE.PUBLIC.ORGANIZATION_VW (nodeId) AS\n",
    "SELECT o.organization_id AS nodeId FROM WCC_EXAMPLE.PUBLIC.ORGANIZATION o;"
   ]
  },
  {
   "cell_type": "code",
   "execution_count": null,
   "id": "00888100-9e03-4d81-83e2-619816974f01",
   "metadata": {},
   "outputs": [],
   "source": [
    "CREATE OR REPLACE VIEW WCC_EXAMPLE.PUBLIC.LOCATION_VW(CITY, STATE, POSTAL_CODE) \n",
    "AS \n",
    "SELECT DISTINCT o.CITY, o.STATE, o.POSTAL_CODE\n",
    "FROM WCC_EXAMPLE.PUBLIC.ORGANIZATION o;"
   ]
  },
  {
   "cell_type": "code",
   "execution_count": null,
   "id": "5ef22e28-aa0d-4eea-ab1c-f7021b2583cc",
   "metadata": {},
   "outputs": [],
   "source": [
    "CREATE OR REPLACE VIEW WCC_EXAMPLE.PUBLIC.LOCATIONS_VW(nodeID, CITY, STATE, POSTAL_CODE) \n",
    "AS \n",
    "SELECT UUID_STRING(),  o.CITY, o.STATE, o.POSTAL_CODE\n",
    "FROM WCC_EXAMPLE.PUBLIC.LOCATION_VW o;"
   ]
  },
  {
   "cell_type": "code",
   "execution_count": null,
   "id": "7fbe4018-954e-4a0a-954e-c5e778d0f51d",
   "metadata": {},
   "outputs": [],
   "source": [
    "SELECT * FROM WCC_EXAMPLE.PUBLIC.LOCATIONS_VW LIMIT 10;"
   ]
  },
  {
   "cell_type": "code",
   "execution_count": null,
   "id": "368a220c-738c-45a1-894a-29e9e73c042b",
   "metadata": {},
   "outputs": [],
   "source": [
    "-- We create a view for the Location nodeId and project the NODEID from the Locations_VW\n",
    "CREATE OR REPLACE VIEW WCC_EXAMPLE.PUBLIC.LOCATION_NODES_VW(nodeID) \n",
    "AS \n",
    "SELECT o.NODEID\n",
    "FROM WCC_EXAMPLE.PUBLIC.LOCATIONS_VW o;"
   ]
  },
  {
   "cell_type": "code",
   "execution_count": null,
   "id": "84519c83-0e7c-42b6-8132-5b0377c3ba90",
   "metadata": {},
   "outputs": [],
   "source": [
    "-- Create the relationship table for LOCATION to ORGANIZATION with sourceNodeId and targetNodeId values\n",
    "CREATE OR REPLACE VIEW WCC_EXAMPLE.PUBLIC.LOCATION_ORGANIZATION_VW(sourceNodeId, targetNodeId) \n",
    "AS\n",
    "SELECT l.nodeID, o.ORGANIZATION_ID\n",
    "FROM  WCC_EXAMPLE.PUBLIC.LOCATIONS_VW l\n",
    "INNER JOIN WCC_EXAMPLE.PUBLIC.ORGANIZATION o\n",
    "on l.CITY = O.CITY\n",
    "and l.STATE = o.STATE\n",
    "and l.POSTAL_CODE = o.POSTAL_CODE"
   ]
  },
  {
   "cell_type": "code",
   "execution_count": null,
   "id": "077214dd-b88f-4086-a45b-8acdb4d5d47b",
   "metadata": {},
   "outputs": [],
   "source": [
    "-- Query the table to ensure it is correct.\n",
    "SELECT SOURCENODEID, TO_CHAR(TARGETNODEID) FROM WCC_EXAMPLE.PUBLIC.LOCATION_ORGANIZATION_VW LIMIT 10;"
   ]
  },
  {
   "cell_type": "code",
   "execution_count": null,
   "id": "ca72ecbd-62f4-4c95-a709-5e18744f79f1",
   "metadata": {},
   "outputs": [],
   "source": [
    "-- Create the relationship table for PERSON TO COMMITTEE\n",
    "CREATE OR REPLACE VIEW WCC_EXAMPLE.PUBLIC.COMMITTEE_VW(sourceNodeId, targetNodeId) \n",
    "AS \n",
    "SELECT c.person_id AS sourceNodeId, c.organization_id AS targetNodeId \n",
    "FROM WCC_EXAMPLE.PUBLIC.COMMITTEE c;"
   ]
  },
  {
   "cell_type": "code",
   "execution_count": null,
   "id": "c81cf277-1281-4610-a182-b0033b6db026",
   "metadata": {},
   "outputs": [],
   "source": [
    "CALL neo4j_graph_analytics.graph.wcc('CPU_X64_L', {\n",
    "  'project': {\n",
    "    'defaultTablePrefix': 'WCC_EXAMPLE.PUBLIC',\n",
    "    'nodeTables': ['PERSON_VW','ORGANIZATION_VW','LOCATION_NODES_VW'], \n",
    "    'relationshipTables': {\n",
    "      'COMMITTEE_VW': {\n",
    "        'sourceTable': 'PERSON_VW',\n",
    "        'targetTable': 'ORGANIZATION_VW'\n",
    "      },\n",
    "        'LOCATION_ORGANIZATION_VW': {\n",
    "        'sourceTable': 'LOCATION_NODES_VW',\n",
    "        'targetTable': 'ORGANIZATION_VW'\n",
    "      }\n",
    "    }\n",
    "  },\n",
    "  'compute': {},\n",
    "  'write': [\n",
    "    {\n",
    "      'nodeLabel': 'PERSON_VW',\n",
    "      'outputTable': 'WCC_EXAMPLE.PUBLIC.USERS_COMPONENTS'\n",
    "    }\n",
    "  ]\n",
    "});"
   ]
  },
  {
   "cell_type": "markdown",
   "id": "9848f417-aa22-4b32-9951-1b300db70ffd",
   "metadata": {},
   "source": [
    "Once the algorithm has successfully completed, we can query the USERS_COMPONENTS table and see how many persons are in each community."
   ]
  },
  {
   "cell_type": "code",
   "execution_count": null,
   "id": "3742ada8-f1af-471c-b2b4-b7e4073519f4",
   "metadata": {},
   "outputs": [],
   "source": [
    "SELECT uc.COMPONENT, COUNT(uc.NODEID) as NumberOfPersons \n",
    "FROM WCC_EXAMPLE.PUBLIC.USERS_COMPONENTS uc\n",
    "GROUP BY UC.COMPONENT\n",
    "ORDER BY NUMBEROFPERSONS DESC;"
   ]
  },
  {
   "cell_type": "markdown",
   "id": "9e27740d-93f6-44b0-a522-99bc90bb718f",
   "metadata": {},
   "source": [
    "When you write the tables back to the database, the tables are owned by the application. You will need to alter the tables so that subsequent post-processing or visualization is easier by avoiding joins to the node ID mapping tables necessary for Graph Analytics. To do this, you have to transfer ownership of the tables back to accountadmin role."
   ]
  },
  {
   "cell_type": "code",
   "execution_count": null,
   "id": "0c13ffff-8a1c-4439-8771-55219cded712",
   "metadata": {},
   "outputs": [],
   "source": [
    "USE ROLE ACCOUNTADMIN;\n",
    "GRANT OWNERSHIP ON TABLE WCC_EXAMPLE.PUBLIC.USERS_COMPONENTS TO ROLE gds_user_role REVOKE CURRENT GRANTS;\n",
    "\n",
    "USE ROLE gds_user_role;"
   ]
  },
  {
   "cell_type": "code",
   "execution_count": null,
   "id": "a239950f-4ecb-46cc-a226-2fd72fc0e86d",
   "metadata": {},
   "outputs": [],
   "source": [
    "DROP TABLE WCC_EXAMPLE.PUBLIC.USERS_COMPONENTS;"
   ]
  }
 ],
 "metadata": {
  "language_info": {
   "name": "python",
   "pygments_lexer": "ipython3"
  }
 },
 "nbformat": 4,
 "nbformat_minor": 5
}
