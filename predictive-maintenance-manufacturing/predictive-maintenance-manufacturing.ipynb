{
 "cells": [
  {
   "cell_type": "markdown",
   "id": "9f4643fb",
   "metadata": {},
   "source": [
    "author: laura manor\n",
    "id: managing-risk-in-manufacturing\n",
    "summary: How to manage risk in manufacturing using Neo4j Graph Analytics for Snowflake\n",
    "categories: getting-started,partner-integrations\n",
    "environments: web\n",
    "status: Published\n",
    "feedback link: https://github.com/Snowflake-Labs/sfguides/issues\n",
    "tags: Getting Started, Data Science, Data Engineering, Twitter\n",
    "\n",
    "# Managing Risk in a Manufacturing Plant with Neo4j Graph Analytics\n",
    "\n",
    "## Overview\n",
    "\n",
    "Duration: 2\n",
    "\n",
    "### What Is Neo4j Graph Analytics For Snowflake? \n",
    "\n",
    "Neo4j helps organizations find hidden relationships and patterns across billions of data connections deeply, easily, and quickly. **Neo4j Graph Analytics for Snowflake** brings to the power of graph directly to Snowflake, allowing users to run 65+ ready-to-use algorithms on their data, all without leaving Snowflake! \n",
    "\n",
    "### Managing Risk in a Manufacturing Plant with Neo4j Graph Analytics\n",
    "\n",
    "This quickstart shows how to model a manufacturing workflow in Neo4j and apply Graph Analytics algorithms to find structural risks, operational bottlenecks, and machine similarities.\n",
    "\n",
    "### Prerequisites\n",
    "\n",
    "- The Native App [Neo4j Graph Analytics](https://app.snowflake.com/marketplace/listing/GZTDZH40CN) for Snowflake\n",
    "\n",
    "### What You Will Learn\n",
    "\n",
    "- How to create a **graph projection**, which combines the nodes and their relationships into a single in-memory graph.\n",
    "- How to conduct a **connectivity analysis**, which utilizes Weakly Connected Components to identify any isolated subsystem.\n",
    "- How to conduct a **criticality ranking** by using PageRank to find influential machines and Betweenness Centrality to identify bridges that control workflow.\n",
    "- How to calculate **structural embeddings and similarity**. First generate FastRP embeddings and then run KNN to group machines with similar roles or dependencies.\n",
    "\n",
    "## Creating our Database\n",
    "Duration: 7\n",
    "\n",
    "We are going to create a simple database with synthetic data. Let's first create the databse:\n"
   ]
  },
  {
   "cell_type": "code",
   "execution_count": null,
   "id": "07fbb240",
   "metadata": {
    "lines_to_next_cell": 0
   },
   "outputs": [],
   "source": [
    "CREATE DATABASE IF NOT EXISTS m_demo;\n",
    "USE SCHEMA m_demo.public;"
   ]
  },
  {
   "cell_type": "markdown",
   "id": "3556ed5c",
   "metadata": {},
   "source": [
    "Then let's add some tables to that database:\n"
   ]
  },
  {
   "cell_type": "code",
   "execution_count": null,
   "id": "f1d18250",
   "metadata": {
    "lines_to_next_cell": 0
   },
   "outputs": [],
   "source": [
    "\n",
    "create or replace TABLE NODES (\n",
    "\tMACHINE_ID NUMBER(38,0),\n",
    "\tMACHINE_TYPE VARCHAR(16777216),\n",
    "\tCURRENT_STATUS VARCHAR(16777216),\n",
    "\tRISK_LEVEL VARCHAR(16777216)\n",
    ");\n",
    "\n",
    "create or replace TABLE RELS (\n",
    "\tSRC_MACHINE_ID NUMBER(38,0),\n",
    "\tDST_MACHINE_ID NUMBER(38,0),\n",
    "\tTHROUGHPUT_RATE NUMBER(38,0)\n",
    ");"
   ]
  },
  {
   "cell_type": "markdown",
   "id": "8371f4d3",
   "metadata": {},
   "source": [
    "Next we are going to create a table that represents our nodes. In this case, that will be 20 machines, including cutters, welders, presses, assemblers, and painters.\n"
   ]
  },
  {
   "cell_type": "code",
   "execution_count": null,
   "id": "76428f59",
   "metadata": {
    "lines_to_next_cell": 0
   },
   "outputs": [],
   "source": [
    "\n",
    "DELETE FROM nodes;\n",
    "\n",
    "INSERT INTO nodes (machine_id, machine_type, current_status, risk_level) VALUES\n",
    "(1, 'Cutter', 'active', 'low'),\n",
    "(2, 'Welder', 'active', 'low'),\n",
    "(3, 'Press', 'active', 'medium'),\n",
    "(4, 'Assembler', 'active', 'medium'),\n",
    "(5, 'Paint', 'active', 'low'),\n",
    "(6, 'Cutter', 'active', 'low'),\n",
    "(7, 'Welder', 'active', 'medium'),\n",
    "(8, 'Press', 'active', 'medium'),\n",
    "(9, 'Assembler', 'active', 'low'),\n",
    "(10, 'Paint', 'active', 'low'),\n",
    "(11, 'Cutter', 'active', 'medium'),\n",
    "(12, 'Welder', 'active', 'high'),\n",
    "(13, 'Press', 'active', 'medium'),\n",
    "(14, 'Assembler', 'active', 'high'),\n",
    "(15, 'Paint', 'active', 'medium'),\n",
    "(16, 'Cutter', 'active', 'low'),\n",
    "(17, 'Welder', 'active', 'medium'),\n",
    "(18, 'Press', 'active', 'low'),\n",
    "(19, 'Assembler', 'active', 'medium'),\n",
    "(20, 'Assembler', 'active', 'high');"
   ]
  },
  {
   "cell_type": "markdown",
   "id": "181c7ecf",
   "metadata": {},
   "source": [
    "Next, we will have a table that reflects how those machines connect to eachother:\n"
   ]
  },
  {
   "cell_type": "code",
   "execution_count": null,
   "id": "64bcdffb",
   "metadata": {
    "lines_to_next_cell": 0
   },
   "outputs": [],
   "source": [
    "DELETE FROM rels;\n",
    "\n",
    "INSERT INTO rels (SRC_MACHINE_ID, DST_MACHINE_ID, THROUGHPUT_RATE) VALUES\n",
    "(1, 2, 50),\n",
    "(2, 3, 50),\n",
    "(3, 4, 50),\n",
    "(4, 5, 50),\n",
    "(5, 6, 50),\n",
    "(6, 7, 50),\n",
    "(7, 8, 50),\n",
    "(8, 9, 50),\n",
    "(9, 10, 50),\n",
    "(5, 6, 40),\n",
    "(6, 5, 40),\n",
    "(8, 9, 30),\n",
    "(9, 8, 30),\n",
    "(1, 20, 200),\n",
    "(2, 20, 180),\n",
    "(3, 20, 160),\n",
    "(4, 20, 140),\n",
    "(11, 12, 20),\n",
    "(12, 13, 20),\n",
    "(13, 14, 20),\n",
    "(14, 15, 20),\n",
    "(15, 16, 20),\n",
    "(16, 17, 20),\n",
    "(17, 18, 20),\n",
    "(18, 19, 20),\n",
    "(19, 20, 20),\n",
    "(3, 11, 120),\n",
    "(10, 19, 19);"
   ]
  },
  {
   "cell_type": "markdown",
   "id": "e41525ed",
   "metadata": {},
   "source": [
    "## Setting Up\n",
    "Duration: 5\n",
    "\n",
    "Now that we have our data, we just need to create a notebook and grant the necessary permissions.\n",
    "\n",
    "### Import The Notebook\n",
    "\n",
    "- We’ve provided a Colab notebook to walk you through each SQL and Python step—no local setup required!\n",
    "- Download the .ipynb found [here](https://github.com/neo4j-product-examples/snowflake-graph-analytics/blob/main/subways/MTA%20Subways.ipynb), and import the notebook into snowflake.\n",
    "\n",
    "### Permissions\n",
    "\n",
    "Before we run our algorithms, we need to set the proper permissions. But before we get started granting different roles, we need to ensure that you are using `accountadmin` to grant and create roles. Lets do that now:\n"
   ]
  },
  {
   "cell_type": "code",
   "execution_count": null,
   "id": "7c2ae93f",
   "metadata": {
    "lines_to_next_cell": 0
   },
   "outputs": [],
   "source": [
    "-- you must be accountadmin to create role and grant permissions\n",
    "use role accountadmin;"
   ]
  },
  {
   "cell_type": "markdown",
   "id": "d968ace8",
   "metadata": {},
   "source": [
    "Next we can set up the necessary roles, permissions, and resource access to enable Graph Analytics to operate on data within the `M_DEMO.public schema`. It creates a consumer role (gds_role) for users and administrators, grants the GDS application access to read from and write to tables and views, and ensures that future tables are accessible. \n",
    "\n",
    "It also provides the application with access to the required compute pool and warehouse resources needed to run graph algorithms at scale.\n"
   ]
  },
  {
   "cell_type": "code",
   "execution_count": null,
   "id": "ad909af6",
   "metadata": {
    "lines_to_next_cell": 0
   },
   "outputs": [],
   "source": [
    "-- Create an account role to manage the GDS application\n",
    "CREATE ROLE IF NOT EXISTS gds_role;\n",
    "GRANT APPLICATION ROLE neo4j_graph_analytics.app_user TO ROLE gds_role;\n",
    "GRANT APPLICATION ROLE neo4j_graph_analytics.app_admin TO ROLE gds_role;\n",
    "\n",
    "--Grant permissions for the application to use the database\n",
    "GRANT USAGE ON DATABASE m_demo TO APPLICATION neo4j_graph_analytics;\n",
    "GRANT USAGE ON SCHEMA m_demo.public TO APPLICATION neo4j_graph_analytics;\n",
    "\n",
    "--Create a database role to manage table and view access\n",
    "CREATE DATABASE ROLE IF NOT EXISTS gds_db_role;\n",
    "\n",
    "GRANT ALL PRIVILEGES ON FUTURE TABLES IN SCHEMA m_demo.public TO DATABASE ROLE gds_db_role;\n",
    "GRANT ALL PRIVILEGES ON ALL TABLES IN SCHEMA m_demo.public TO DATABASE ROLE gds_db_role;\n",
    "\n",
    "GRANT ALL PRIVILEGES ON FUTURE VIEWS IN SCHEMA m_demo.public TO DATABASE ROLE gds_db_role;\n",
    "GRANT ALL PRIVILEGES ON ALL VIEWS IN SCHEMA m_demo.public TO DATABASE ROLE gds_db_role;\n",
    "\n",
    "GRANT CREATE TABLE ON SCHEMA m_demo.public TO DATABASE ROLE gds_db_role;\n",
    "\n",
    "\n",
    "--Grant the DB role to the application and admin user\n",
    "GRANT DATABASE ROLE gds_db_role TO APPLICATION neo4j_graph_analytics;\n",
    "GRANT DATABASE ROLE gds_db_role TO ROLE gds_role;\n",
    "\n",
    "GRANT USAGE ON DATABASE M_DEMO TO ROLE GDS_ROLE;\n",
    "GRANT USAGE ON SCHEMA M_DEMO.PUBLIC TO ROLE GDS_ROLE;\n",
    "\n",
    "GRANT SELECT, INSERT, UPDATE, DELETE ON ALL TABLES IN SCHEMA M_DEMO.PUBLIC TO ROLE GDS_ROLE;\n",
    "GRANT CREATE TABLE ON SCHEMA M_DEMO.PUBLIC TO ROLE GDS_ROLE;\n",
    "GRANT SELECT, INSERT, UPDATE, DELETE ON FUTURE TABLES IN SCHEMA M_DEMO.PUBLIC TO ROLE GDS_ROLE;"
   ]
  },
  {
   "cell_type": "markdown",
   "id": "486940c0",
   "metadata": {},
   "source": [
    "Then we need to switch the role we created:\n"
   ]
  },
  {
   "cell_type": "code",
   "execution_count": null,
   "id": "afa4a7b7",
   "metadata": {
    "lines_to_next_cell": 0
   },
   "outputs": [],
   "source": [
    "use warehouse neo4j_graph_analytics_APP_WAREHOUSE;\n",
    "use role gds_role;\n",
    "use database m_demo;\n",
    "use schema public;"
   ]
  },
  {
   "cell_type": "markdown",
   "id": "c36d9447",
   "metadata": {},
   "source": [
    "Next, we are going to do a little clean up. We want our nodes table to just have the node ids.\n"
   ]
  },
  {
   "cell_type": "code",
   "execution_count": null,
   "id": "11a96207",
   "metadata": {
    "lines_to_next_cell": 0
   },
   "outputs": [],
   "source": [
    "CREATE OR REPLACE TABLE NODES_VW AS\n",
    "SELECT MACHINE_ID AS nodeId\n",
    "FROM NODES;"
   ]
  },
  {
   "cell_type": "markdown",
   "id": "d9a1d137",
   "metadata": {},
   "source": [
    "Your relationship table might have more than one row per machine‐pair, but we need to have exactly one throughput_rate per (source, target). To be safe you should aggregate the data, for example:\n"
   ]
  },
  {
   "cell_type": "code",
   "execution_count": null,
   "id": "90c7f579",
   "metadata": {
    "lines_to_next_cell": 0
   },
   "outputs": [],
   "source": [
    "CREATE OR REPLACE TABLE RELS_VW AS\n",
    "SELECT\n",
    "  SRC_MACHINE_ID  AS sourceNodeId,\n",
    "  DST_MACHINE_ID  AS targetNodeId,\n",
    "  CAST(SUM(THROUGHPUT_RATE) AS FLOAT) AS total_amount\n",
    "FROM RELS\n",
    "GROUP BY SRC_MACHINE_ID, DST_MACHINE_ID;\n"
   ]
  },
  {
   "cell_type": "markdown",
   "id": "d7f8bfaf",
   "metadata": {},
   "source": [
    "## Structural Connectivity Analysis\n",
    "Duration: 5\n",
    "\n",
    "Structural connectivity helps verify whether your production line is truly integrated or split into isolated sections. We use Weakly Connected Components (WCC) to evaluate this.\n",
    "\n",
    "### Weakly Connected Components (WCC)\n",
    "\n",
    "WCC treats the graph as undirected and groups machines that can reach each other without considering direction. If the graph splits into multiple components, it may signal siloed operations or disconnected subsystems—both of which could introduce coordination challenges or unmonitored risks.tion.\n",
    "\n",
    "WCC gives a high-level view of connectivity, highlighting whether your plant functions as one unified system. SCC drills down into specific cycle structures that could be costing efficiency.\n",
    "\n",
    "**How to Interpret WCC Results**:\n",
    "A single connected component for our domain is ideal; it suggests an integrated production network. Multiple smaller components imply isolated lines or equipment clusters that may need integration or review.\n",
    "\n",
    "**Expected result:** The simulated data is designed to form a single significant component, reflecting a unified workflow.\n"
   ]
  },
  {
   "cell_type": "code",
   "execution_count": null,
   "id": "9fed2275",
   "metadata": {
    "lines_to_next_cell": 2
   },
   "outputs": [],
   "source": [
    "CALL neo4j_graph_analytics.graph.wcc('CPU_X64_XS', {\n",
    "  'project': {\n",
    "    'defaultTablePrefix': 'm_demo.public',\n",
    "    'nodeTables': ['nodes_vw'],\n",
    "    'relationshipTables': {\n",
    "      'rels_vw': {\n",
    "        'sourceTable': 'nodes_vw',\n",
    "        'targetTable': 'nodes_vw'\n",
    "      }\n",
    "    }\n",
    "  },\n",
    "  'compute': {},\n",
    "  'write': [\n",
    "    {\n",
    "      'nodeLabel': 'nodes_vw',\n",
    "      'outputTable': 'm_demo.public.nodes_vw_wcc'\n",
    "    }\n",
    "  ]\n",
    "});"
   ]
  },
  {
   "cell_type": "code",
   "execution_count": null,
   "id": "d3a67a0c",
   "metadata": {
    "lines_to_next_cell": 0
   },
   "outputs": [],
   "source": [
    "SELECT\n",
    "  component,\n",
    "  COUNT(*) AS count\n",
    "FROM M_DEMO.PUBLIC.NODES_VW_WCC\n",
    "GROUP BY component\n",
    "ORDER BY count DESC\n",
    "LIMIT 5;"
   ]
  },
  {
   "cell_type": "markdown",
   "id": "4a68bb7a",
   "metadata": {},
   "source": [
    "| COMPONENT | COUNT |\n",
    "| --------- | ----- |\n",
    "| 0         | 20    |\n",
    "\n",
    "## Criticality Analysis\n",
    "\n",
    "Duration: 10\n",
    "\n",
    "Identifying the most critical machines in your workflow can help avoid shutdowns. If these machines slow down or fail, downstream operations halt. We use centrality algorithms to surface high-impact nodes. Both machines concentrate flow (PageRank) and machines that connect key sections of the graph (Betweenness). This gives us a fuller picture of how risk and workload are distributed. With these analyses, we can:\n",
    "* Prioritize monitoring of the machines whose disruption would ripple through the entire line\n",
    "* Allocate maintenance resources where they’ll have the most significant effect\n",
    "* Design redundancy or backup processes around your process hubs\n",
    "Plan capacity expansions by understanding which machines handle the most “traffic.”\n",
    "\n",
    "### PageRank Centrality\n",
    "Designed initially to rank web pages, PageRank measures a node’s importance by the “quality and quantity” of incoming edges. In our graph, an edge A FEEDS_INTO B means “Machine A feeds into Machine B.” A high PageRank score indicates a machine that receives material from many other well-connected machines."
   ]
  },
  {
   "cell_type": "markdown",
   "id": "f1b6e44c",
   "metadata": {},
   "source": [
    "**How to Interpret Page Rank**:\n",
    "The highest-performing machines manage the most critical data flow.\n",
    "\n",
    "**Expected Result**:  Machine 20 has been set up as the processing hub for the simulated data, so it should be at the very top of the list.\n"
   ]
  },
  {
   "cell_type": "code",
   "execution_count": null,
   "id": "4958a9eb",
   "metadata": {
    "lines_to_next_cell": 2
   },
   "outputs": [],
   "source": [
    "CALL neo4j_graph_analytics.graph.page_rank('CPU_X64_XS', {\n",
    "  'project': {\n",
    "    'defaultTablePrefix': 'm_demo.public',\n",
    "    'nodeTables': ['nodes_vw'],\n",
    "    'relationshipTables': {\n",
    "      'rels_vw': {\n",
    "        'sourceTable': 'nodes_vw',\n",
    "        'targetTable': 'nodes_vw'\n",
    "      }\n",
    "    }\n",
    "  },\n",
    "  'compute': {\n",
    "    'mutateProperty': 'score'\n",
    "  },\n",
    "  'write': [\n",
    "    {\n",
    "      'nodeLabel': 'nodes_vw',\n",
    "      'outputTable': 'm_demo.public.nodes_vw_pagerank',\n",
    "      'nodeProperty': 'score'\n",
    "    }\n",
    "  ]\n",
    "});"
   ]
  },
  {
   "cell_type": "code",
   "execution_count": null,
   "id": "21fabfea",
   "metadata": {
    "lines_to_next_cell": 0
   },
   "outputs": [],
   "source": [
    "SELECT\n",
    "  nodeid,\n",
    "  score\n",
    "FROM m_demo.public.nodes_vw_pagerank\n",
    "ORDER BY score DESC\n",
    "LIMIT 5\n"
   ]
  },
  {
   "cell_type": "markdown",
   "id": "689db751",
   "metadata": {},
   "source": [
    "| NODEID | SCORE        |\n",
    "| ------ | ------------ |\n",
    "| 20     | 1.510187893  |\n",
    "| 19     | 1.229185736  |\n",
    "| 9      | 0.8718395565 |\n",
    "| 8      | 0.8494144897 |\n",
    "| 18     | 0.7493853549 |\n",
    "\n",
    "**Interpretation** As expected, machine 20 ranks highest, confirming its role as a central assembler in the workflow. Its high-risk status makes it a critical point of failure that should be closely monitored.### Betweenness Centrality\n",
    "\n",
    "PageRank highlights machines with the most influence based on incoming flow, but it doesn’t capture which machines sit between major areas of the workflow. Betweenness Centrality fills that gap by identifying machines that appear frequently on the shortest paths between others, often acting as bridges or single points of failure.\n",
    "\n",
    "**How to Interpret Betweenness Results:** Machines with high scores connect upstream and downstream sections of the plant. For example, Machine 3 ranks highest not because it handles the most volume but because it links multiple parts of the workflow. If it goes down, it risks disrupting connections across the system.\n",
    "\n",
    "**Expected Result:** Machines positioned between major steps, especially those that route material across different sections—should have the highest betweenness scores.\n"
   ]
  },
  {
   "cell_type": "code",
   "execution_count": null,
   "id": "d4d5c265",
   "metadata": {
    "lines_to_next_cell": 2
   },
   "outputs": [],
   "source": [
    "CALL neo4j_graph_analytics.graph.betweenness('CPU_X64_XS', {\n",
    "   'project': {\n",
    "    'defaultTablePrefix': 'm_demo.public',\n",
    "    'nodeTables': ['nodes_vw'],\n",
    "    'relationshipTables': {\n",
    "      'rels_vw': {\n",
    "        'sourceTable': 'nodes_vw',\n",
    "        'targetTable': 'nodes_vw'\n",
    "      }\n",
    "    }\n",
    "   },\n",
    "    'compute': {\n",
    "        'mutateProperty': 'score'\n",
    "    },\n",
    "    'write': [{\n",
    "        'nodeLabel': 'nodes_vw',\n",
    "        'outputTable': 'm_demo.public.nodes_vw_btwn',\n",
    "        'nodeProperty': 'score'\n",
    "    }]\n",
    "});"
   ]
  },
  {
   "cell_type": "code",
   "execution_count": null,
   "id": "a7a1d715",
   "metadata": {
    "lines_to_next_cell": 0
   },
   "outputs": [],
   "source": [
    "SELECT\n",
    "  nodeid,\n",
    "  score\n",
    "FROM m_demo.public.nodes_vw_btwn\n",
    "ORDER BY score DESC\n",
    "LIMIT 5\n"
   ]
  },
  {
   "cell_type": "markdown",
   "id": "3fda7e16",
   "metadata": {},
   "source": [
    "| NODEID | SCORE |\n",
    "| ------ | ----- |\n",
    "| 3      | 32    |\n",
    "| 14     | 30    |\n",
    "| 13     | 29    |\n",
    "| 15     | 29    |\n",
    "| 12     | 26    |\n",
    "\n",
    "**Interpretation** \n",
    "Machines 14, 13, 3, and 15 act as structural bridges in the workflow. Their high scores suggest they connect otherwise separate paths, making them key points of potential disruption if taken offline.\n",
    "\n",
    "##  Structural Embeddings & Similarity\n",
    "Duration: 10\n",
    "\n",
    "Getting an even deeper understanding of each machine's workflow requires more than looking at direct connections, as we have done so far. Structural embeddings capture broader patterns by summarizing each machine’s position in the overall operation into a numeric vector. This allows you to:\n",
    "\n",
    "* Group machines with similar roles or dependencies\n",
    "\n",
    "* Identify candidates for backup or load-balancing\n",
    "\n",
    "* Spot unusual machines that behave differently from the rest of the plant\n",
    "\n",
    "We use embeddings to make these comparisons based on immediate neighbors and overall graph structure.\n",
    "\n",
    "We’ll use two GDS algorithms:\n",
    "\n",
    "* **Fast Random Projection (FastRP)**\n",
    "FastRP generates a compact 16-dimensional vector for each machine. These vectors are built by sampling the graph around each node, so two machines with similar surroundings will end up with similar embeddings.\n",
    "\n",
    "* **K-Nearest Neighbors (KNN)**\n",
    "Finds, for each machine, the top K most similar peers based on cosine similarity of their embeddings.\n",
    "\n",
    "Together, embeddings + KNN surface structural affinities beyond simple degree or centrality measures.\n",
    "\n",
    "### Fast Random Projection (FastRP) Embeddings\n",
    "\n",
    "The results for FastRp are not immediately interpretable. However, machines with nearly identical embeddings have similar upstream and downstream relationships and likely play the same role in the plant. These embeddings are numerical representations that enable downstream clustering, similarity search, or anomaly detection.\n"
   ]
  },
  {
   "cell_type": "code",
   "execution_count": null,
   "id": "508068b4",
   "metadata": {
    "lines_to_next_cell": 2
   },
   "outputs": [],
   "source": [
    "CALL neo4j_graph_analytics.graph.fast_rp('CPU_X64_XS', {\n",
    "  'project': {\n",
    "    'defaultTablePrefix': 'm_demo.public',\n",
    "    'nodeTables': ['nodes_vw'],\n",
    "    'relationshipTables': {\n",
    "      'rels_vw': {\n",
    "        'sourceTable': 'nodes_vw',\n",
    "        'targetTable': 'nodes_vw'\n",
    "      }\n",
    "    }\n",
    "  },\n",
    "    'compute': {\n",
    "        'mutateProperty': 'embedding',\n",
    "        'embeddingDimension': 16\n",
    "    },\n",
    "  'write': [\n",
    "    {\n",
    "      'nodeLabel': 'nodes_vw',\n",
    "      'outputTable': 'm_demo.public.nodes_vw_fast_rp',\n",
    "      'nodeProperty': 'embedding'\n",
    "    }\n",
    "  ]\n",
    "});"
   ]
  },
  {
   "cell_type": "code",
   "execution_count": null,
   "id": "bb3f1064",
   "metadata": {
    "lines_to_next_cell": 0
   },
   "outputs": [],
   "source": [
    "SELECT\n",
    "  nodeid as machine,\n",
    "  embedding\n",
    "FROM m_demo.public.nodes_vw_fast_rp\n",
    "LIMIT 5"
   ]
  },
  {
   "cell_type": "markdown",
   "id": "b231dea7",
   "metadata": {},
   "source": [
    " Outer pipes Cell padding\n",
    "\n",
    "| MACHINE | EMBEDDING                                                    |\n",
    "| ------- | ------------------------------------------------------------ |\n",
    "| 1       | [ -0.8355492, 0, 0.28867513, -0.28867513, 0, -0.80507296, 0, 0.28867513, -0.54687405, -0.28867513, 0, 0.25819892, 0, 0, 0.2277227, -0.80507296 ] |\n",
    "| 2       | [ -0.42722976, -0.16903085, -0.16903085, -0.3380617, 0.50709254, -0.51639783, 0, 0.16903085, -0.25819892, -0.16903085, 0, -0.07986277, 0, -0.3380617, 0.51639783, -1.0234904 ] |\n",
    "| 3       | [ 0.27818274, 0.05457595, 0.05457595, -0.3380617, 0.9543061, 0, 0, 0.16903085, 0, -0.16903085, 0, -0.7852753, 0.4472136, -0.114454895, 0, -0.7306993 ] |\n",
    "| 4       | [ 0, -0.16666672, 0.49999997, 0.33333334, 0.33333334, 0, 0, 0, 0, 0, 0, 0.33333334, 0, 0.49999997, -0.33333334, -0.8333333 ] |\n",
    "| 5       | [ 0, -0.33333334, 0.33333334, 0.33333334, 0, 0, -0.33333334, -0.33333334, 0, 0, 0, 0, -0.33333334, 0.33333334, -0.33333334, -0.6666667 ] |\n",
    "\n",
    "Our initial graph projection does not include any propery information, so we will have to create a new graph projection that includes the new 'embedding' property we created for any future downstream algorthims.### k-Nearest Neighbors (KNN)\n",
    "Once we have embeddings for every machine, we can use K-Nearest Neighbors to find the most structurally similar machines based on their vector representations. KNN compares the cosine similarity between embeddings to pull out the top matches for each machine.\n",
    "\n",
    "**How to Interpret KNN Results**:\n",
    "Machines with similarity scores close to 1.0 share almost identical structural patterns in the graph. These often appear in mirrored parts of the workflow or play equivalent roles in different lines. They're good candidates for backup coverage, shared scheduling, or synchronized maintenance.\n",
    "\n",
    "**Expected Result**:\n",
    "Machines that serve in parallel sections—especially those feeding into similar downstream equipment—should appear as near-duplicates. In this dataset, pairs like (17 and 9) were intentionally structured this way and are expected to rank near the top.\n"
   ]
  },
  {
   "cell_type": "code",
   "execution_count": null,
   "id": "f3a7cb58",
   "metadata": {
    "lines_to_next_cell": 2
   },
   "outputs": [],
   "source": [
    "CALL neo4j_graph_analytics.graph.knn('CPU_X64_XS', {\n",
    "    'project': {\n",
    "        'defaultTablePrefix': 'm_demo.public',\n",
    "        'nodeTables': [ 'nodes_vw_fast_rp' ],\n",
    "        'relationshipTables': {}\n",
    "    },\n",
    "    'compute': {\n",
    "        'nodeProperties': ['EMBEDDING'],\n",
    "        'topK': 1,\n",
    "        'mutateProperty': 'score',\n",
    "        'mutateRelationshipType': 'SIMILAR'\n",
    "    },\n",
    "  'write': [\n",
    "    {\n",
    "      'outputTable': 'm_demo.public.nodes_vw_knn',\n",
    "      'sourceLabel': 'nodes_vw_fast_rp',\n",
    "      'targetLabel': 'nodes_vw_fast_rp',\n",
    "      'relationshipType': 'SIMILAR',\n",
    "      'relationshipProperty': 'score'      \n",
    "    }\n",
    "  ]\n",
    "});"
   ]
  },
  {
   "cell_type": "code",
   "execution_count": null,
   "id": "ff3d5a5c",
   "metadata": {
    "lines_to_next_cell": 0
   },
   "outputs": [],
   "source": [
    "SELECT\n",
    "    sourcenodeid,\n",
    "    targetnodeid,\n",
    "    score\n",
    "FROM m_demo.public.nodes_vw_knn\n",
    "ORDER BY score DESC\n",
    "LIMIT 5"
   ]
  },
  {
   "cell_type": "markdown",
   "id": "4ca7427c",
   "metadata": {},
   "source": [
    "| SOURCENODEID | TARGETNODEID | SCORE        |\n",
    "| ------------ | ------------ | ------------ |\n",
    "| 18           | 10           | 1            |\n",
    "| 10           | 18           | 1            |\n",
    "| 7            | 6            | 0.9304632555 |\n",
    "| 6            | 7            | 0.9304632555 |\n",
    "| 13           | 12           | 0.9233394969 |\n",
    "\n",
    "**Intrepretation**\n",
    "Even though machines like 10 and 18 do different things (Painter vs Press), their positions in the workflow are nearly identical. They both act as mid-line feeders into multiple downstream machines, and that structural role is what the algorithm captures.\n",
    "\n",
    "This doesn’t mean they’re functionally interchangeable—but it suggests they share similar dependencies, bottleneck risks, or monitoring needs. In a real plant, this insight could inform:\n",
    "\n",
    "- Maintenance alignment or shared spares\n",
    "\n",
    "- Redundancy planning\n",
    "\n",
    "- Risk modeling and load distribution\n",
    "\n",
    "Structural similarity gives you a way to surface these patterns automatically—even across machines that don’t look related on paper.\n",
    "##  Conclusions And Resources\n",
    "\n",
    "Duration: 2\n",
    "\n",
    "In this quickstart, you learned how to bring the power of graph insights into Snowflake using Neo4j Graph Analytics. \n",
    "\n",
    "### What You Learned\n",
    "\n",
    "By working with a our simulated manufacturing database, you were able to:\n",
    "\n",
    "1. Set up the [Neo4j Graph Analytics](https://app.snowflake.com/marketplace/listing/GZTDZH40CN/neo4j-neo4j-graph-analytics) application within Snowflake.\n",
    "2. Prepare and project your data into a graph model (machines as nodes, connections as relationships).\n",
    "3. Ran multiple graph algorithms, including embeddings, to manage risk in your manufacturing process\n",
    "\n",
    "### Resources\n",
    "\n",
    "- [Neo4j Graph Analytics Documentation](https://neo4j.com/docs/snowflake-graph-analytics/)\n",
    "- [Installing Neo4j Graph Analytics on SPCS](https://neo4j.com/docs/snowflake-graph-analytics/installation/)"
   ]
  }
 ],
 "metadata": {
  "jupytext": {
   "cell_metadata_filter": "-all",
   "main_language": "sql",
   "notebook_metadata_filter": "-all"
  },
  "language_info": {
   "name": "python"
  }
 },
 "nbformat": 4,
 "nbformat_minor": 5
}
