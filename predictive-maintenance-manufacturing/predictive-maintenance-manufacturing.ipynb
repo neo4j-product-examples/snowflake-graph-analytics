{
 "metadata": {
  "kernelspec": {
   "display_name": "Streamlit Notebook",
   "name": "streamlit"
  },
  "lastEditStatus": {
   "notebookId": "xxpg5ktnl5cajn2rtssf",
   "authorId": "3020319158773",
   "authorName": "CBAYLOR",
   "authorEmail": "corydon.baylor@neo4j.com",
   "sessionId": "cb3f1972-b28d-40e4-9a8d-97e33b8486e9",
   "lastEditTime": 1752779202341
  }
 },
 "nbformat_minor": 5,
 "nbformat": 4,
 "cells": [
  {
   "cell_type": "markdown",
   "id": "03e70490-2630-43b4-9cfc-d703eec20215",
   "metadata": {
    "collapsed": false,
    "name": "introduction_notes"
   },
   "source": [
    "# Managing Risk in a Manufacturing Plant with Neo4j Graph Analytics\n",
    "\n",
    "## Overview\n",
    "\n",
    "Duration: 2\n",
    "\n",
    "### What Is Neo4j Graph Analytics For Snowflake? \n",
    "\n",
    "Neo4j helps organizations find hidden relationships and patterns across billions of data connections deeply, easily, and quickly. **Neo4j Graph Analytics for Snowflake** brings to the power of graph directly to Snowflake, allowing users to run 65+ ready-to-use algorithms on their data, all without leaving Snowflake! \n",
    "\n",
    "### Managing Risk in a Manufacturing Plant with Neo4j Graph Analytics\n",
    "\n",
    "This quickstart shows how to model a manufacturing workflow in Neo4j and apply Graph Analytics algorithms to find structural risks, operational bottlenecks, and machine similarities.\n",
    "\n",
    "### Prerequisites\n",
    "\n",
    "- The Native App [Neo4j Graph Analytics](https://app.snowflake.com/marketplace/listing/GZTDZH40CN) for Snowflake\n",
    "\n",
    "### What You Will Learn\n",
    "\n",
    "- How to create a **graph projection**, which combines the nodes and their relationships into a single in-memory graph.\n",
    "- How to conduct a **connectivity analysis**, which utilizes Weakly Connected Components to identify any isolated subsystem.\n",
    "- How to conduct a **criticality ranking** by using PageRank to find influential machines and Betweenness Centrality to identify bridges that control workflow.\n",
    "- How to calculate **structural embeddings and similarity**. First generate FastRP embeddings and then run KNN to group machines with similar roles or dependencies.\n",
    "\n",
    "## Creating our Database\n",
    "Duration: 7\n",
    "\n",
    "We are going to create a simple database with synthetic data. Let's first create the databse:"
   ]
  },
  {
   "cell_type": "code",
   "execution_count": null,
   "id": "2c2b1a00-c86f-4241-b124-aa532ecfa5bd",
   "metadata": {
    "language": "sql",
    "name": "create_db"
   },
   "outputs": [],
   "source": [
    "CREATE DATABASE IF NOT EXISTS m_demo;\n",
    "USE SCHEMA m_demo.public;"
   ]
  },
  {
   "cell_type": "markdown",
   "id": "16565e32-90fe-4740-b4fa-4070cdc3c99c",
   "metadata": {
    "collapsed": false,
    "name": "cell1"
   },
   "source": [
    "Then let's add some tables to that database:"
   ]
  },
  {
   "cell_type": "code",
   "execution_count": null,
   "id": "b7f8c982-d06b-47c5-b260-f4dcef159458",
   "metadata": {
    "language": "sql",
    "name": "create_tables",
    "vscode": {
     "languageId": "sql"
    }
   },
   "outputs": [],
   "source": [
    "\n",
    "create or replace TABLE NODES (\n",
    "\tMACHINE_ID NUMBER(38,0),\n",
    "\tMACHINE_TYPE VARCHAR(16777216),\n",
    "\tCURRENT_STATUS VARCHAR(16777216),\n",
    "\tRISK_LEVEL VARCHAR(16777216)\n",
    ");\n",
    "\n",
    "create or replace TABLE RELS (\n",
    "\tSRC_MACHINE_ID NUMBER(38,0),\n",
    "\tDST_MACHINE_ID NUMBER(38,0),\n",
    "\tTHROUGHPUT_RATE NUMBER(38,0)\n",
    ");"
   ]
  },
  {
   "cell_type": "markdown",
   "id": "79fd930d-cc08-4a0d-952d-afb215eaeed6",
   "metadata": {
    "collapsed": false,
    "name": "cell2"
   },
   "source": [
    "Next we are going to create a table that represents our nodes. In this case, that will be 20 machines, including cutters, welders, presses, assemblers, and painters."
   ]
  },
  {
   "cell_type": "code",
   "execution_count": null,
   "id": "6d629438-2463-4980-ac0a-ac7c5d400780",
   "metadata": {
    "language": "sql",
    "name": "nodes_data",
    "vscode": {
     "languageId": "sql"
    }
   },
   "outputs": [],
   "source": [
    "\n",
    "DELETE FROM nodes;\n",
    "\n",
    "INSERT INTO nodes (machine_id, machine_type, current_status, risk_level) VALUES\n",
    "(1, 'Cutter', 'active', 'low'),\n",
    "(2, 'Welder', 'active', 'low'),\n",
    "(3, 'Press', 'active', 'medium'),\n",
    "(4, 'Assembler', 'active', 'medium'),\n",
    "(5, 'Paint', 'active', 'low'),\n",
    "(6, 'Cutter', 'active', 'low'),\n",
    "(7, 'Welder', 'active', 'medium'),\n",
    "(8, 'Press', 'active', 'medium'),\n",
    "(9, 'Assembler', 'active', 'low'),\n",
    "(10, 'Paint', 'active', 'low'),\n",
    "(11, 'Cutter', 'active', 'medium'),\n",
    "(12, 'Welder', 'active', 'high'),\n",
    "(13, 'Press', 'active', 'medium'),\n",
    "(14, 'Assembler', 'active', 'high'),\n",
    "(15, 'Paint', 'active', 'medium'),\n",
    "(16, 'Cutter', 'active', 'low'),\n",
    "(17, 'Welder', 'active', 'medium'),\n",
    "(18, 'Press', 'active', 'low'),\n",
    "(19, 'Assembler', 'active', 'medium'),\n",
    "(20, 'Assembler', 'active', 'high');"
   ]
  },
  {
   "cell_type": "markdown",
   "id": "3f1ea460-c8a7-4c89-9ced-619efde0de3d",
   "metadata": {
    "collapsed": false,
    "name": "cell4"
   },
   "source": [
    "Next, we will have a table that reflects how those machines connect to eachother:"
   ]
  },
  {
   "cell_type": "code",
   "execution_count": null,
   "id": "8fed1ee3-73a6-4473-8043-a8b8c08653a6",
   "metadata": {
    "language": "sql",
    "name": "rels_data",
    "vscode": {
     "languageId": "sql"
    }
   },
   "outputs": [],
   "source": [
    "DELETE FROM rels;\n",
    "\n",
    "INSERT INTO rels (SRC_MACHINE_ID, DST_MACHINE_ID, THROUGHPUT_RATE) VALUES\n",
    "(1, 2, 50),\n",
    "(2, 3, 50),\n",
    "(3, 4, 50),\n",
    "(4, 5, 50),\n",
    "(5, 6, 50),\n",
    "(6, 7, 50),\n",
    "(7, 8, 50),\n",
    "(8, 9, 50),\n",
    "(9, 10, 50),\n",
    "(5, 6, 40),\n",
    "(6, 5, 40),\n",
    "(8, 9, 30),\n",
    "(9, 8, 30),\n",
    "(1, 20, 200),\n",
    "(2, 20, 180),\n",
    "(3, 20, 160),\n",
    "(4, 20, 140),\n",
    "(11, 12, 20),\n",
    "(12, 13, 20),\n",
    "(13, 14, 20),\n",
    "(14, 15, 20),\n",
    "(15, 16, 20),\n",
    "(16, 17, 20),\n",
    "(17, 18, 20),\n",
    "(18, 19, 20),\n",
    "(19, 20, 20),\n",
    "(3, 11, 120),\n",
    "(10, 19, 19);"
   ]
  },
  {
   "cell_type": "markdown",
   "id": "fdbb1524-e815-4c10-ab23-1a56cc6a1093",
   "metadata": {
    "collapsed": false,
    "name": "setting_up"
   },
   "source": [
    "## Setting Up\n",
    "Duration: 5\n",
    "\n",
    "Now that we have our data, we just need to create a notebook and grant the necessary permissions.\n",
    "\n",
    "### Import The Notebook\n",
    "\n",
    "- We’ve provided a Colab notebook to walk you through each SQL and Python step—no local setup required!\n",
    "- Download the .ipynb found [here](https://github.com/neo4j-product-examples/snowflake-graph-analytics/blob/main/subways/MTA%20Subways.ipynb), and import the notebook into snowflake.\n",
    "\n",
    "### Permissions\n",
    "\n",
    "Before we run our algorithms, we need to set the proper permissions. But before we get started granting different roles, we need to ensure that you are using `accountadmin` to grant and create roles. Lets do that now:\n"
   ]
  },
  {
   "cell_type": "code",
   "execution_count": null,
   "id": "3775908f-ca36-4846-8f38-5adca39217f2",
   "metadata": {
    "language": "sql",
    "name": "admin_role",
    "vscode": {
     "languageId": "sql"
    }
   },
   "outputs": [],
   "source": [
    "-- you must be accountadmin to create role and grant permissions\n",
    "use role accountadmin;"
   ]
  },
  {
   "cell_type": "markdown",
   "id": "a0bb571a-8c49-43d5-88be-d8e2362485fd",
   "metadata": {
    "collapsed": false,
    "name": "schema_notes"
   },
   "source": [
    "Next we can set up the necessary roles, permissions, and resource access to enable Graph Analytics to operate on data within the `M_DEMO.public schema`. It creates a consumer role (gds_role) for users and administrators, grants the GDS application access to read from and write to tables and views, and ensures that future tables are accessible. \n",
    "\n",
    "It also provides the application with access to the required compute pool and warehouse resources needed to run graph algorithms at scale.\n"
   ]
  },
  {
   "cell_type": "code",
   "execution_count": null,
   "id": "450d925f-96b7-4fcb-a76d-e86c893370cc",
   "metadata": {
    "language": "sql",
    "name": "setup_permissions",
    "vscode": {
     "languageId": "sql"
    }
   },
   "outputs": [],
   "source": [
    "-- Create a consumer role for users of the Graph Analytics application\n",
    "CREATE ROLE IF NOT EXISTS gds_role;\n",
    "GRANT APPLICATION ROLE Neo4j_Graph_Analytics.app_user TO ROLE gds_role;\n",
    "\n",
    "-- Grant read access on the newly created tables to the application\n",
    "GRANT USAGE ON DATABASE M_DEMO TO APPLICATION Neo4j_Graph_Analytics;\n",
    "GRANT USAGE ON SCHEMA M_DEMO.PUBLIC TO APPLICATION Neo4j_Graph_Analytics;\n",
    "GRANT SELECT ON ALL TABLES IN SCHEMA M_DEMO.PUBLIC TO APPLICATION Neo4j_Graph_Analytics;\n",
    "GRANT CREATE TABLE ON SCHEMA M_DEMO.PUBLIC TO APPLICATION Neo4j_Graph_Analytics;\n",
    "\n",
    "-- Ensure the consumer role has access to tables created by the application\n",
    "GRANT ALL PRIVILEGES ON FUTURE TABLES IN SCHEMA M_DEMO.PUBLIC TO ROLE gds_role;"
   ]
  },
  {
   "cell_type": "markdown",
   "id": "ed39dec7-132b-4ee6-9104-7458f0bceb2a",
   "metadata": {
    "collapsed": false,
    "name": "cell3"
   },
   "source": [
    "Then we need to switch the role we created:\n"
   ]
  },
  {
   "cell_type": "code",
   "execution_count": null,
   "id": "f091f996-a000-4b70-9df2-b0a2c04b4c23",
   "metadata": {
    "language": "sql",
    "name": "gds_role",
    "vscode": {
     "languageId": "sql"
    }
   },
   "outputs": [],
   "source": [
    "use warehouse se_snow_neo4j_graph_analytics_APP_WAREHOUSE;\n",
    "use role gds_role;\n",
    "use database m_demo;\n",
    "use schema public;"
   ]
  },
  {
   "cell_type": "markdown",
   "id": "2526fcf0-bb3e-402f-b8d8-437021b167f9",
   "metadata": {
    "collapsed": false,
    "name": "cell5"
   },
   "source": [
    "Next, we are going to do a little clean up. We want our nodes table to just have the node ids."
   ]
  },
  {
   "cell_type": "code",
   "execution_count": null,
   "id": "5dbcdcf6-4da5-4d57-8193-bc4019ce777f",
   "metadata": {
    "language": "sql",
    "name": "nodes_view",
    "vscode": {
     "languageId": "sql"
    }
   },
   "outputs": [],
   "source": [
    "CREATE OR REPLACE TABLE NODES_VW AS\n",
    "SELECT MACHINE_ID AS nodeId\n",
    "FROM NODES;"
   ]
  },
  {
   "cell_type": "markdown",
   "id": "1ffacbc3-70f9-4979-84d8-401b1bf88fe2",
   "metadata": {
    "collapsed": false,
    "name": "model_notes2"
   },
   "source": [
    "Your relationship table might have more than one row per machine‐pair, but we need to have exactly one throughput_rate per (source, target). To be safe you should aggregate the data, for example:"
   ]
  },
  {
   "cell_type": "code",
   "execution_count": null,
   "id": "d23dea43-e0b7-463d-9d4b-b5af469e9f6a",
   "metadata": {
    "language": "sql",
    "name": "rels_view",
    "vscode": {
     "languageId": "sql"
    }
   },
   "outputs": [],
   "source": [
    "CREATE OR REPLACE TABLE RELS_VW AS\n",
    "SELECT\n",
    "  SRC_MACHINE_ID  AS sourceNodeId,\n",
    "  DST_MACHINE_ID  AS targetNodeId,\n",
    "  CAST(SUM(THROUGHPUT_RATE) AS FLOAT) AS total_amount\n",
    "FROM RELS\n",
    "GROUP BY SRC_MACHINE_ID, DST_MACHINE_ID;\n"
   ]
  },
  {
   "cell_type": "markdown",
   "id": "05641642-a88a-4dc4-a9cd-4d0f90024087",
   "metadata": {
    "name": "cell7"
   },
   "source": [
    "## Visualizing Your Graph (Experimental)\n",
    "\n",
    "At this point, you may want to visuze your graph to get a better understanding of how everything fits together. We can do this in two easy steps. Similarly to how we will project graphs for our graph algorithms, we need to specify what are the node and relationship tables:"
   ]
  },
  {
   "cell_type": "code",
   "execution_count": null,
   "id": "685af2de-4531-4faa-8368-1912c38aae11",
   "metadata": {
    "vscode": {
     "languageId": "sql"
    },
    "name": "viz",
    "language": "sql"
   },
   "outputs": [],
   "source": [
    "CALL Neo4j_Graph_Analytics.experimental.visualize(\n",
    "{\n",
    "    'nodeTables': ['M_DEMO.PUBLIC.NODES_VW'],\n",
    "    'relationshipTables': {\n",
    "      'M_DEMO.PUBLIC.RELS_VW': {\n",
    "        'sourceTable': 'M_DEMO.PUBLIC.NODES_VW',\n",
    "        'targetTable': 'M_DEMO.PUBLIC.NODES_VW'\n",
    "      }\n",
    "    }\n",
    "  },\n",
    "  {}\n",
    ");"
   ]
  },
  {
   "cell_type": "markdown",
   "id": "f4814918-9e73-4414-9843-6310cf91d04b",
   "metadata": {
    "name": "cell9"
   },
   "source": [
    "We can access the output of the previous cell by referencing its cell name, in this case cell1. In our next Python notebook cell, we extract the HTML/JavaScript string we want by interpreting the cell1 output as a Pandas DataFrame, then accessing the first row of the \"VISUALIZE\" column."
   ]
  },
  {
   "cell_type": "code",
   "execution_count": null,
   "id": "99b26d30-23ac-49fb-93f0-faf925442c17",
   "metadata": {
    "name": "viz_display",
    "language": "python"
   },
   "outputs": [],
   "source": "import streamlit.components.v1 as components\n\ncomponents.html(\n    viz.to_pandas().loc[0][\"VISUALIZE\"],\n    height=600\n)"
  },
  {
   "cell_type": "markdown",
   "id": "72fc512c-27ec-4758-881f-0a634207a499",
   "metadata": {
    "collapsed": false,
    "name": "run_graph_alg_notes"
   },
   "source": [
    "## Structural Connectivity Analysis\n",
    "Duration: 5\n",
    "\n",
    "Structural connectivity helps verify whether your production line is truly integrated or split into isolated sections. We use Weakly Connected Components (WCC) to evaluate this.\n",
    "\n",
    "### Weakly Connected Components (WCC)\n",
    "\n",
    "WCC treats the graph as undirected and groups machines that can reach each other without considering direction. If the graph splits into multiple components, it may signal siloed operations or disconnected subsystems—both of which could introduce coordination challenges or unmonitored risks.tion.\n",
    "\n",
    "WCC gives a high-level view of connectivity, highlighting whether your plant functions as one unified system. SCC drills down into specific cycle structures that could be costing efficiency.\n",
    "\n",
    "**How to Interpret WCC Results**:\n",
    "A single connected component for our domain is ideal; it suggests an integrated production network. Multiple smaller components imply isolated lines or equipment clusters that may need integration or review.\n",
    "\n",
    "**Expected result:** The simulated data is designed to form a single significant component, reflecting a unified workflow."
   ]
  },
  {
   "cell_type": "code",
   "execution_count": null,
   "id": "fc030e30-e16d-420f-a3fe-dd7a80a5647e",
   "metadata": {
    "language": "sql",
    "name": "run_wcc",
    "vscode": {
     "languageId": "sql"
    }
   },
   "outputs": [],
   "source": [
    "CALL Neo4j_Graph_Analytics.graph.wcc('CPU_X64_XS', {\n",
    "  'project': {\n",
    "    'defaultTablePrefix': 'm_demo.public',\n",
    "    'nodeTables': ['nodes_vw'],\n",
    "    'relationshipTables': {\n",
    "      'rels_vw': {\n",
    "        'sourceTable': 'nodes_vw',\n",
    "        'targetTable': 'nodes_vw'\n",
    "      }\n",
    "    }\n",
    "  },\n",
    "  'compute': {},\n",
    "  'write': [\n",
    "    {\n",
    "      'nodeLabel': 'nodes_vw',\n",
    "      'outputTable': 'm_demo.public.nodes_vw_wcc'\n",
    "    }\n",
    "  ]\n",
    "});"
   ]
  },
  {
   "cell_type": "code",
   "execution_count": null,
   "id": "e633c8a9-b72b-47e8-abd3-5237f3c0f764",
   "metadata": {
    "language": "sql",
    "name": "query_wcc_output",
    "vscode": {
     "languageId": "sql"
    }
   },
   "outputs": [],
   "source": [
    "SELECT\n",
    "  component,\n",
    "  COUNT(*) AS count\n",
    "FROM M_DEMO.PUBLIC.NODES_VW_WCC\n",
    "GROUP BY component\n",
    "ORDER BY count DESC\n",
    "LIMIT 5;"
   ]
  },
  {
   "cell_type": "markdown",
   "id": "b7b3bc4a-4f7f-42a4-b386-24c84666b5df",
   "metadata": {
    "collapsed": false,
    "name": "pagerank_notes"
   },
   "source": [
    "## Criticality Analysis\n",
    "Duration: 10\n",
    "\n",
    "Identifying the most critical machines in your workflow can help avoid shutdowns. If these machines slow down or fail, downstream operations halt. We use centrality algorithms to surface high-impact nodes. Both machines concentrate flow (PageRank) and machines that connect key sections of the graph (Betweenness). This gives us a fuller picture of how risk and workload are distributed. With these analyses, we can:\n",
    "* Prioritize monitoring of the machines whose disruption would ripple through the entire line\n",
    "* Allocate maintenance resources where they’ll have the most significant effect\n",
    "* Design redundancy or backup processes around your process hubs\n",
    "Plan capacity expansions by understanding which machines handle the most “traffic.”\n",
    "\n",
    "### PageRank Centrality\n",
    "Designed initially to rank web pages, PageRank measures a node’s importance by the “quality and quantity” of incoming edges. In our graph, an edge A FEEDS_INTO B means “Machine A feeds into Machine B.” A high PageRank score indicates a machine that receives material from many other well-connected machines.\n",
    "\n",
    "\n",
    "**How to Interpret Page Rank**:\n",
    "The highest-performing machines manage the most critical data flow.\n",
    "\n",
    "**Expected Result**:  Machine 20 has been set up as the processing hub for the simulated data, so it should be at the very top of the list."
   ]
  },
  {
   "cell_type": "code",
   "execution_count": null,
   "id": "a54d882a-bd03-47e3-8f72-3a98fc139733",
   "metadata": {
    "language": "sql",
    "name": "run_pagerank",
    "vscode": {
     "languageId": "sql"
    }
   },
   "outputs": [],
   "source": [
    "CALL Neo4j_Graph_Analytics.graph.page_rank('CPU_X64_XS', {\n",
    "  'project': {\n",
    "    'defaultTablePrefix': 'm_demo.public',\n",
    "    'nodeTables': ['nodes_vw'],\n",
    "    'relationshipTables': {\n",
    "      'rels_vw': {\n",
    "        'sourceTable': 'nodes_vw',\n",
    "        'targetTable': 'nodes_vw'\n",
    "      }\n",
    "    }\n",
    "  },\n",
    "  'compute': {\n",
    "    'mutateProperty': 'score'\n",
    "  },\n",
    "  'write': [\n",
    "    {\n",
    "      'nodeLabel': 'nodes_vw',\n",
    "      'outputTable': 'm_demo.public.nodes_vw_pagerank',\n",
    "      'nodeProperty': 'score'\n",
    "    }\n",
    "  ]\n",
    "});"
   ]
  },
  {
   "cell_type": "code",
   "execution_count": null,
   "id": "c3cda2e5-648b-495a-858f-354f3d6f7a6e",
   "metadata": {
    "language": "sql",
    "name": "query_pagerank_output",
    "vscode": {
     "languageId": "sql"
    }
   },
   "outputs": [],
   "source": [
    "SELECT\n",
    "  nodeid,\n",
    "  score\n",
    "FROM m_demo.public.nodes_vw_pagerank\n",
    "ORDER BY score DESC\n",
    "LIMIT 5\n"
   ]
  },
  {
   "cell_type": "markdown",
   "id": "72d26d83-ebb6-4524-87db-b6b5ca3926e0",
   "metadata": {
    "collapsed": false,
    "name": "pagerank_notes2"
   },
   "source": [
    "**Interpretation** As expected, machine 20 ranks highest, confirming its role as a central assembler in the workflow. Its high-risk status makes it a critical point of failure that should be closely monitored."
   ]
  },
  {
   "cell_type": "markdown",
   "id": "a6e2f3b9-170f-4f76-bbb5-ec621157f881",
   "metadata": {
    "collapsed": false,
    "name": "btwn_notes"
   },
   "source": [
    "### Betweenness Centrality\n",
    "\n",
    "PageRank highlights machines with the most influence based on incoming flow, but it doesn’t capture which machines sit between major areas of the workflow. Betweenness Centrality fills that gap by identifying machines that appear frequently on the shortest paths between others, often acting as bridges or single points of failure.\n",
    "\n",
    "**How to Interpret Betweenness Results:** Machines with high scores connect upstream and downstream sections of the plant. For example, Machine 3 ranks highest not because it handles the most volume but because it links multiple parts of the workflow. If it goes down, it risks disrupting connections across the system.\n",
    "\n",
    "**Expected Result:** Machines positioned between major steps, especially those that route material across different sections—should have the highest betweenness scores."
   ]
  },
  {
   "cell_type": "code",
   "execution_count": null,
   "id": "a36f7084-37e5-4e92-991c-0d921d7ff9db",
   "metadata": {
    "language": "sql",
    "name": "run_btwn",
    "vscode": {
     "languageId": "sql"
    }
   },
   "outputs": [],
   "source": [
    "CALL Neo4j_Graph_Analytics.graph.betweenness('CPU_X64_XS', {\n",
    "   'project': {\n",
    "    'defaultTablePrefix': 'm_demo.public',\n",
    "    'nodeTables': ['nodes_vw'],\n",
    "    'relationshipTables': {\n",
    "      'rels_vw': {\n",
    "        'sourceTable': 'nodes_vw',\n",
    "        'targetTable': 'nodes_vw'\n",
    "      }\n",
    "    }\n",
    "   },\n",
    "    'compute': {\n",
    "        'mutateProperty': 'score'\n",
    "    },\n",
    "    'write': [{\n",
    "        'nodeLabel': 'nodes_vw',\n",
    "        'outputTable': 'm_demo.public.nodes_vw_btwn',\n",
    "        'nodeProperty': 'score'\n",
    "    }]\n",
    "});"
   ]
  },
  {
   "cell_type": "code",
   "execution_count": null,
   "id": "cec707e2-e9a8-4330-a0a6-103ea3f65266",
   "metadata": {
    "language": "sql",
    "name": "query_btwn_output",
    "vscode": {
     "languageId": "sql"
    }
   },
   "outputs": [],
   "source": [
    "SELECT\n",
    "  nodeid,\n",
    "  score\n",
    "FROM m_demo.public.nodes_vw_btwn\n",
    "ORDER BY score DESC\n",
    "LIMIT 5\n"
   ]
  },
  {
   "cell_type": "markdown",
   "id": "94a86fbc-d59e-4224-bf08-3b85f4e92157",
   "metadata": {
    "collapsed": false,
    "name": "btwn_notes2"
   },
   "source": [
    "**Interpretation**  \n",
    "Machines 14, 13, 3, and 15 act as structural bridges in the workflow. Their high scores suggest they connect otherwise separate paths, making them key points of potential disruption if taken offline.\n"
   ]
  },
  {
   "cell_type": "markdown",
   "id": "d6bbd358-d38d-408d-8389-77df4fb82e04",
   "metadata": {
    "collapsed": false,
    "name": "rp_notes"
   },
   "source": [
    "##  Structural Embeddings & Similarity\n",
    "Duration: 10\n",
    "\n",
    "Getting an even deeper understanding of each machine's workflow requires more than looking at direct connections, as we have done so far. Structural embeddings capture broader patterns by summarizing each machine’s position in the overall operation into a numeric vector. This allows you to:\n",
    "\n",
    "* Group machines with similar roles or dependencies\n",
    "\n",
    "* Identify candidates for backup or load-balancing\n",
    "\n",
    "* Spot unusual machines that behave differently from the rest of the plant\n",
    "\n",
    "We use embeddings to make these comparisons based on immediate neighbors and overall graph structure.\n",
    "\n",
    "We’ll use two GDS algorithms:\n",
    "\n",
    "* **Fast Random Projection (FastRP)**\n",
    "FastRP generates a compact 16-dimensional vector for each machine. These vectors are built by sampling the graph around each node, so two machines with similar surroundings will end up with similar embeddings.\n",
    "\n",
    "* **K-Nearest Neighbors (KNN)**\n",
    "Finds, for each machine, the top K most similar peers based on cosine similarity of their embeddings.\n",
    "\n",
    "Together, embeddings + KNN surface structural affinities beyond simple degree or centrality measures.\n",
    "\n",
    "### Fast Random Projection (FastRP) Embeddings\n",
    "\n",
    "The results for FastRp are not immediately interpretable. However, machines with nearly identical embeddings have similar upstream and downstream relationships and likely play the same role in the plant. These embeddings are numerical representations that enable downstream clustering, similarity search, or anomaly detection.\n"
   ]
  },
  {
   "cell_type": "code",
   "execution_count": null,
   "id": "170a58cf-506a-4736-aab7-fb8b5315e9a9",
   "metadata": {
    "language": "sql",
    "name": "run_rp",
    "vscode": {
     "languageId": "sql"
    }
   },
   "outputs": [],
   "source": [
    "CALL Neo4j_Graph_Analytics.graph.fast_rp('CPU_X64_XS', {\n",
    "  'project': {\n",
    "    'defaultTablePrefix': 'm_demo.public',\n",
    "    'nodeTables': ['nodes_vw'],\n",
    "    'relationshipTables': {\n",
    "      'rels_vw': {\n",
    "        'sourceTable': 'nodes_vw',\n",
    "        'targetTable': 'nodes_vw'\n",
    "      }\n",
    "    }\n",
    "  },\n",
    "    'compute': {\n",
    "        'mutateProperty': 'embedding',\n",
    "        'embeddingDimension': 16\n",
    "    },\n",
    "  'write': [\n",
    "    {\n",
    "      'nodeLabel': 'nodes_vw',\n",
    "      'outputTable': 'm_demo.public.nodes_vw_fast_rp',\n",
    "      'nodeProperty': 'embedding'\n",
    "    }\n",
    "  ]\n",
    "});"
   ]
  },
  {
   "cell_type": "code",
   "execution_count": null,
   "id": "3512ce90-ba85-4c8f-849a-205c18f12291",
   "metadata": {
    "language": "sql",
    "name": "query_rp_output",
    "vscode": {
     "languageId": "sql"
    }
   },
   "outputs": [],
   "source": [
    "SELECT\n",
    "  nodeid as machine,\n",
    "  embedding\n",
    "FROM m_demo.public.nodes_vw_fast_rp\n",
    "LIMIT 5"
   ]
  },
  {
   "cell_type": "markdown",
   "id": "d57c1a57-4e64-4521-ae4e-cd35ceec445a",
   "metadata": {
    "collapsed": false,
    "name": "rp_notes2"
   },
   "source": [
    "Our initial graph projection does not include any propery information, so we will have to create a new graph projection that includes the new 'embedding' property we created for any future downstream algorthims."
   ]
  },
  {
   "cell_type": "markdown",
   "id": "939c8c29-65c4-4e3d-8d6a-d91b9e920ed3",
   "metadata": {
    "collapsed": false,
    "name": "knn_notes"
   },
   "source": [
    "### k-Nearest Neighbors (KNN)\n",
    "Once we have embeddings for every machine, we can use K-Nearest Neighbors to find the most structurally similar machines based on their vector representations. KNN compares the cosine similarity between embeddings to pull out the top matches for each machine.\n",
    "\n",
    "**How to Interpret KNN Results**:\n",
    "Machines with similarity scores close to 1.0 share almost identical structural patterns in the graph. These often appear in mirrored parts of the workflow or play equivalent roles in different lines. They're good candidates for backup coverage, shared scheduling, or synchronized maintenance.\n",
    "\n",
    "**Expected Result**:\n",
    "Machines that serve in parallel sections—especially those feeding into similar downstream equipment—should appear as near-duplicates. In this dataset, pairs like (17 and 9) were intentionally structured this way and are expected to rank near the top.\n"
   ]
  },
  {
   "cell_type": "code",
   "execution_count": null,
   "id": "4a19ad3a-f914-470d-95e7-445dfd411ba3",
   "metadata": {
    "language": "sql",
    "name": "run_knn",
    "vscode": {
     "languageId": "sql"
    }
   },
   "outputs": [],
   "source": [
    "CALL Neo4j_Graph_Analytics.graph.knn('CPU_X64_XS', {\n",
    "    'project': {\n",
    "        'defaultTablePrefix': 'm_demo.public',\n",
    "        'nodeTables': [ 'nodes_vw_fast_rp' ],\n",
    "        'relationshipTables': {}\n",
    "    },\n",
    "    'compute': {\n",
    "        'nodeProperties': ['EMBEDDING'],\n",
    "        'topK': 1,\n",
    "        'mutateProperty': 'score',\n",
    "        'mutateRelationshipType': 'SIMILAR'\n",
    "    },\n",
    "  'write': [\n",
    "    {\n",
    "      'outputTable': 'm_demo.public.nodes_vw_knn',\n",
    "      'sourceLabel': 'nodes_vw_fast_rp',\n",
    "      'targetLabel': 'nodes_vw_fast_rp',\n",
    "      'relationshipType': 'SIMILAR',\n",
    "      'relationshipProperty': 'score'      \n",
    "    }\n",
    "  ]\n",
    "});"
   ]
  },
  {
   "cell_type": "code",
   "execution_count": null,
   "id": "cb244fc0-b745-4523-afb4-4b2464ef119f",
   "metadata": {
    "language": "sql",
    "name": "query_knn_output",
    "vscode": {
     "languageId": "sql"
    }
   },
   "outputs": [],
   "source": [
    "SELECT\n",
    "    sourcenodeid,\n",
    "    targetnodeid,\n",
    "    score\n",
    "FROM m_demo.public.nodes_vw_knn\n",
    "ORDER BY score DESC\n",
    "LIMIT 5"
   ]
  },
  {
   "cell_type": "markdown",
   "id": "1415d859-fe0d-44ea-aef5-ecf33eae6401",
   "metadata": {
    "collapsed": false,
    "name": "knn_notes2"
   },
   "source": [
    "**Intrepretation**\n",
    "Even though machines like 10 and 18 do different things (Painter vs Press), their positions in the workflow are nearly identical. They both act as mid-line feeders into multiple downstream machines, and that structural role is what the algorithm captures.\n",
    "\n",
    "This doesn’t mean they’re functionally interchangeable—but it suggests they share similar dependencies, bottleneck risks, or monitoring needs. In a real plant, this insight could inform:\n",
    "\n",
    "- Maintenance alignment or shared spares\n",
    "\n",
    "- Redundancy planning\n",
    "\n",
    "- Risk modeling and load distribution\n",
    "\n",
    "Structural similarity gives you a way to surface these patterns automatically—even across machines that don’t look related on paper.\n"
   ]
  },
  {
   "cell_type": "markdown",
   "id": "8fd6b357-644e-402c-b282-8eed1c47c963",
   "metadata": {
    "collapsed": false,
    "name": "cell6"
   },
   "source": [
    "##  Conclusions And Resources\n",
    "\n",
    "Duration: 2\n",
    "\n",
    "In this quickstart, you learned how to bring the power of graph insights into Snowflake using Neo4j Graph Analytics. \n",
    "\n",
    "### What You Learned\n",
    "\n",
    "By working with a our simulated manufacturing database, you were able to:\n",
    "\n",
    "1. Set up the [Neo4j Graph Analytics](https://app.snowflake.com/marketplace/listing/GZTDZH40CN/neo4j-neo4j-graph-analytics) application within Snowflake.\n",
    "2. Prepare and project your data into a graph model (machines as nodes, connections as relationships).\n",
    "3. Ran multiple graph algorithms, including embeddings, to manage risk in your manufacturing process\n",
    "\n",
    "### Resources\n",
    "\n",
    "- [Neo4j Graph Analytics Documentation](https://neo4j.com/docs/snowflake-graph-analytics/)\n",
    "- [Installing Neo4j Graph Analytics on SPCS](https://neo4j.com/docs/snowflake-graph-analytics/installation/)"
   ]
  }
 ]
}