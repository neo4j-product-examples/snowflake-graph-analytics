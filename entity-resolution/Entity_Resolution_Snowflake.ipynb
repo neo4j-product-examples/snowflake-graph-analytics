{
 "cells": [
  {
   "cell_type": "markdown",
   "id": "5f2eb580-6419-4994-b7e2-56ab22082008",
   "metadata": {
    "collapsed": false,
    "name": "author_info"
   },
   "source": [
    "author: indu varshini (eastridge analytics);\n",
    "id: entity-resolution-using-graph-algorithms-with-neo4j;\n",
    "categories: getting-started,partner-integrations;\n",
    "environments: web status: Published feedback link: https://github.com/Snowflake-Labs/sfguides/issues;\n",
    "tags: Getting Started, Data Science, Data Engineering, Twitter"
   ]
  },
  {
   "cell_type": "markdown",
   "id": "03e70490-2630-43b4-9cfc-d703eec20215",
   "metadata": {
    "collapsed": false,
    "name": "introduction_notes"
   },
   "source": [
    "# Resolving Duplicate Entities Using Graph Algorithms with Neo4j\n",
    "---\n",
    "# Overview \n",
    "\n",
    "Duration: 2 mins\n",
    "\n",
    "## What Is Neo4j Graph Analytics For Snowflake?\n",
    "\n",
    "Neo4j helps organizations find hidden relationships and patterns across billions of data connections deeply, easily, and quickly. Neo4j Graph Analytics for Snowflake brings to the power of graph directly to Snowflake, allowing users to run 65+ ready-to-use algorithms on their data, all without leaving Snowflake!\n",
    "\n",
    "## Why Entity Resolution Matters\n",
    "\n",
    "Inconsistent or duplicate customer records are a common challenge in modern data platforms. Whether caused by typos, multiple sign-ups, or disconnected systems, these issues can impact reporting, personalization, and fraud detection. Graph algorithms help by comparing relationships and properties to identify overlapping entities.\n",
    "\n",
    "## Prerequisites\n",
    "The Native App [Neo4j Graph Analytics](https://app.snowflake.com/marketplace/listing/GZTDZH40CN/neo4j-neo4j-graph-analytics) for Snowflake\n",
    "\n",
    "## What You Will Need:\n",
    "- A [Snowflake account](https://signup.snowflake.com/) with appropriate access to databases and schemas.\n",
    "- Neo4j Graph Analytics application installed from the Snowflake marketplace. Access the marketplace via the menu bar on the left hand side of your screen, as seen below: \n",
    "\n",
    "\n",
    "## What You Will Build:\n",
    "- A graph-based model that normalizes profile attributes as separate nodes\n",
    "- A method to use graph-based similarity and community detection for entity resolution  \n",
    "\n",
    "## What You Will Learn:\n",
    "\n",
    "- How to reshape tabular data into a normalized graph model\n",
    "- How to use FastRP and KNN to identify structurally similar profiles\n",
    "- How to cluster profiles with Louvain for deduplication\n",
    "- How to visualize the graphs in the notebook itself\n",
    "- How to read and write directly from and to your Snowflake tables\n",
    "\n",
    "\n",
    "\n",
    "\n"
   ]
  },
  {
   "cell_type": "markdown",
   "id": "68ce2b19-e564-499f-ac9f-dccb98cf1dfd",
   "metadata": {
    "collapsed": false,
    "name": "cell6"
   },
   "source": [
    "# Loading the Data\n",
    "---\n",
    "Duration: 5 mins\n",
    "\n",
    "## Dataset Overview:\n",
    "This dataset contains multiple customer identities with potential duplicates across name, contact, and address fields. The goal is to resolve identities into unique profiles by connecting shared attributes as graph nodes.\n",
    "\n",
    "For the purposes of the demo, the database will be named `ER_DEMO`. Using the CSV, `er_mock_data.csv`, found [here](https://github.com/neo4j-product-examples/snowflake-graph-analytics/tree/main/entity-resolution), we are going to create a new table called `CUSTOMER_ENTITIES_DEMO_DATA` via the Snowsight data upload method. \n",
    "\n",
    "Follow through this Snowflake [documentation](https://docs.snowflake.com/en/user-guide/data-load-web-ui) on creating a table from 'Load data using the web interface'.\n",
    "\n",
    "In the pop up, \n",
    "1. Upload the CSV `er_mock_data.csv` using the browse option. \n",
    "2. Under `Select or create a database and schema`, please create a database with name `ER_DEMO`.\n",
    "3. Under `Select or create a table`, please click on the '+' symbol and create a new table named `CUSTOMER_ENTITIES_DEMO_DATA`.\n",
    "\n",
    "Now, a new table named `CUSTOMER_ENTITIES_DEMO_DATA` will be created under `er_demo.public` with the provided CSV."
   ]
  },
  {
   "cell_type": "markdown",
   "id": "fdbb1524-e815-4c10-ab23-1a56cc6a1093",
   "metadata": {
    "collapsed": false,
    "name": "setting_up"
   },
   "source": [
    "# Setting Up\n",
    "---\n",
    "Duration: 5 mins\n",
    "\n",
    "## Permissions\n",
    "One of the most usefull aspects of Snowflake is the ability to have roles with specific permissions, so that you can have many people working in the same database without worrying about security. The Neo4j app requires the creation of a few different roles. But before we get started granting different roles, we need to ensure that you are using `accountadmin` to grant and create roles. Lets do that now:"
   ]
  },
  {
   "cell_type": "code",
   "execution_count": null,
   "id": "3775908f-ca36-4846-8f38-5adca39217f2",
   "metadata": {
    "language": "sql",
    "name": "admin_role"
   },
   "outputs": [],
   "source": [
    "USE ROLE ACCOUNTADMIN;"
   ]
  },
  {
   "cell_type": "markdown",
   "id": "a0bb571a-8c49-43d5-88be-d8e2362485fd",
   "metadata": {
    "collapsed": false,
    "name": "schema_notes"
   },
   "source": [
    "Next we can set up the necessary roles, permissions, and resource access to enable Graph Analytics to operate on the demo data within the `er_demo.public` schema (this schema is where the data will be stored by default). \n",
    "\n",
    "We will create a consumer role (gds_role) for users and administrators, grant the gds_role and GDS application access to read from and write to tables and views, and ensure the future tables are accessible. We will also provide the application with access to the compute pool and warehouse resources required to run the graph algorithms at scale.\n"
   ]
  },
  {
   "cell_type": "code",
   "execution_count": null,
   "id": "a186f37b-3e0c-4974-815c-610b36771c3a",
   "metadata": {
    "language": "sql",
    "name": "setup_permissions"
   },
   "outputs": [],
   "source": [
    "-- Create an account role to manage the GDS application\n",
    "CREATE ROLE IF NOT EXISTS gds_role;\n",
    "GRANT APPLICATION ROLE neo4j_graph_analytics.app_user TO ROLE gds_role;\n",
    "GRANT APPLICATION ROLE neo4j_graph_analytics.app_admin TO ROLE gds_role;\n",
    "\n",
    "--Grant permissions for the application to use the database\n",
    "GRANT USAGE ON DATABASE er_demo TO APPLICATION neo4j_graph_analytics;\n",
    "GRANT USAGE ON SCHEMA er_demo.public TO APPLICATION neo4j_graph_analytics;\n",
    "\n",
    "--Create a database role to manage table and view access\n",
    "CREATE DATABASE ROLE IF NOT EXISTS gds_db_role;\n",
    "\n",
    "GRANT ALL PRIVILEGES ON FUTURE TABLES IN SCHEMA er_demo.public TO DATABASE ROLE gds_db_role;\n",
    "GRANT ALL PRIVILEGES ON ALL TABLES IN SCHEMA er_demo.public TO DATABASE ROLE gds_db_role;\n",
    "\n",
    "GRANT ALL PRIVILEGES ON FUTURE VIEWS IN SCHEMA er_demo.public TO DATABASE ROLE gds_db_role;\n",
    "GRANT ALL PRIVILEGES ON ALL VIEWS IN SCHEMA er_demo.public TO DATABASE ROLE gds_db_role;\n",
    "\n",
    "GRANT CREATE TABLE ON SCHEMA er_demo.public TO DATABASE ROLE gds_db_role;\n",
    "\n",
    "\n",
    "--Grant the DB role to the application and admin user\n",
    "GRANT DATABASE ROLE gds_db_role TO APPLICATION neo4j_graph_analytics;\n",
    "GRANT DATABASE ROLE gds_db_role TO ROLE gds_role;\n",
    "\n",
    "GRANT USAGE ON DATABASE ER_DEMO TO ROLE GDS_ROLE;\n",
    "GRANT USAGE ON SCHEMA ER_DEMO.PUBLIC TO ROLE GDS_ROLE;\n",
    "\n",
    "GRANT SELECT, INSERT, UPDATE, DELETE ON ALL TABLES IN SCHEMA ER_DEMO.PUBLIC TO ROLE GDS_ROLE;\n",
    "GRANT CREATE TABLE ON SCHEMA ER_DEMO.PUBLIC TO ROLE GDS_ROLE;\n",
    "GRANT SELECT, INSERT, UPDATE, DELETE ON FUTURE TABLES IN SCHEMA ER_DEMO.PUBLIC TO ROLE GDS_ROLE;"
   ]
  },
  {
   "cell_type": "markdown",
   "id": "a6773f7a-05fb-427e-985e-7470757e092f",
   "metadata": {
    "collapsed": false,
    "name": "role_notes"
   },
   "source": [
    "Now we will switch to the role we just created:"
   ]
  },
  {
   "cell_type": "code",
   "execution_count": null,
   "id": "f091f996-a000-4b70-9df2-b0a2c04b4c23",
   "metadata": {
    "language": "sql",
    "name": "gds_role"
   },
   "outputs": [],
   "source": [
    "use warehouse NEO4J_GRAPH_ANALYTICS_APP_WAREHOUSE;\n",
    "use role gds_role;\n",
    "use database er_demo;\n",
    "use schema public;"
   ]
  },
  {
   "cell_type": "markdown",
   "id": "33d81858-ea6f-45e9-b48b-58d8ec58de1e",
   "metadata": {
    "collapsed": false,
    "name": "cleaningData_notes"
   },
   "source": [
    "\n",
    "# Cleaning Our Data\n",
    "---\n",
    "Duration: 5 mins\n",
    "\n",
    "We need our data to be in a particular format in order to work with Graph Analytics. In general, it should be like so:\n",
    "\n",
    "**Node Tables:** The first column, `nodeId` should be uniquely identifying each node in the graph.\n",
    "\n",
    "**Relationship Tables:** There should be two nodes as source and target between which a relationship exists. \n",
    "\n",
    "To get ready for Graph Analytics, reshape your tables as follows:\n",
    "\n",
    "---\n",
    "\n",
    "**NODES**\n",
    "- **Identity** – `identity_id` - Unique identifier for each row in the dataset\n",
    "- **Name** – concatenation of `first_name`, `last_name`, or nickname\n",
    "- **Email** – `email_address`\n",
    "- **Phone** – `phone_number`\n",
    "- **Birth Year** – `birth_year`\n",
    "- **Address** – combined from `street_number`, `street_name`, `zip_code`\n",
    "- **Profile** – each unique customer profile (resolved), represented by `profile_id`\n",
    "\n",
    "**RELATIONSHIPS**\n",
    "- Identity — `HAS_NAME` → Name\n",
    "- Identity — `HAS_EMAIL` → Email\n",
    "- Identity — `HAS_PHONE` → Phone\n",
    "- Identity — `HAS_BIRTH_YEAR` → BirthYear\n",
    "- Identity — `HAS_ADDRESS` → Address\n"
   ]
  },
  {
   "cell_type": "code",
   "execution_count": null,
   "id": "b9fc8892-5c21-4380-92c5-4ea0cde61216",
   "metadata": {
    "language": "sql",
    "name": "create_node_tables"
   },
   "outputs": [],
   "source": [
    "CREATE OR REPLACE TABLE node_identities AS\n",
    "SELECT DISTINCT identity_id AS identity_id FROM customer_entities_demo_data;\n",
    "\n",
    "CREATE OR REPLACE TABLE node_names AS\n",
    "SELECT DISTINCT LOWER(first_name || ' ' || last_name) AS full_name FROM customer_entities_demo_data;\n",
    "\n",
    "CREATE OR REPLACE TABLE node_emails AS\n",
    "SELECT DISTINCT LOWER(email_address) AS email_id FROM customer_entities_demo_data;\n",
    "\n",
    "CREATE OR REPLACE TABLE node_phones AS\n",
    "SELECT DISTINCT phone_number AS phone_number FROM customer_entities_demo_data;\n",
    "\n",
    "CREATE OR REPLACE TABLE node_birth_years AS\n",
    "SELECT DISTINCT birth_year AS birth_year FROM customer_entities_demo_data;\n",
    "\n",
    "CREATE OR REPLACE TABLE node_addresses AS\n",
    "SELECT DISTINCT LOWER(street_number || ' ' || street_name || ' ' || zip_code) AS full_address FROM customer_entities_demo_data;\n",
    "\n",
    "CREATE OR REPLACE TABLE node_profiles AS\n",
    "SELECT DISTINCT profile_id AS profile_id FROM customer_entities_demo_data;\n"
   ]
  },
  {
   "cell_type": "markdown",
   "id": "045d154b-f3f5-4515-923e-b31e6990cdeb",
   "metadata": {
    "collapsed": false,
    "name": "cell1"
   },
   "source": [
    "Now, we will merge all the node tables to a single `all_nodes_tbl`"
   ]
  },
  {
   "cell_type": "code",
   "execution_count": null,
   "id": "ef536ddb-1837-41b7-986b-790705b8c5f1",
   "metadata": {
    "language": "sql",
    "name": "create_all_nodes_table"
   },
   "outputs": [],
   "source": [
    "CREATE OR REPLACE TABLE all_nodes_tbl AS\n",
    "SELECT identity_id::STRING AS nodeId FROM node_identities\n",
    "UNION\n",
    "SELECT full_name::STRING AS nodeId FROM node_names\n",
    "UNION\n",
    "SELECT email_id::STRING AS nodeId FROM node_emails\n",
    "UNION\n",
    "SELECT phone_number::STRING AS nodeId FROM node_phones\n",
    "UNION\n",
    "SELECT birth_year::STRING AS nodeId FROM node_birth_years\n",
    "UNION\n",
    "SELECT full_address::STRING AS nodeId FROM node_addresses;\n"
   ]
  },
  {
   "cell_type": "code",
   "execution_count": null,
   "id": "134787c5-ef95-402d-a961-078a8f63cb6f",
   "metadata": {
    "language": "sql",
    "name": "cell3"
   },
   "outputs": [],
   "source": [
    "select * from all_nodes_tbl"
   ]
  },
  {
   "cell_type": "markdown",
   "id": "d8a8d7f4-e9df-439b-9d86-70d32877f9cd",
   "metadata": {
    "collapsed": false,
    "name": "cell2"
   },
   "source": [
    "Below we will create the relationship tables."
   ]
  },
  {
   "cell_type": "code",
   "execution_count": null,
   "id": "a4eafc77-9fad-4849-aab3-e2014c4573e6",
   "metadata": {
    "language": "sql",
    "name": "create_relationship_tables"
   },
   "outputs": [],
   "source": [
    "\n",
    "CREATE OR REPLACE TABLE rel_identity_name AS\n",
    "SELECT \n",
    "    identity_id, \n",
    "    LOWER(first_name || ' ' || last_name) AS full_name\n",
    "FROM customer_entities_demo_data;\n",
    "\n",
    "CREATE OR REPLACE TABLE rel_identity_email AS\n",
    "SELECT \n",
    "    identity_id, \n",
    "    LOWER(email_address) AS email_id\n",
    "FROM customer_entities_demo_data;\n",
    "\n",
    "CREATE OR REPLACE TABLE rel_identity_phone AS\n",
    "SELECT \n",
    "    identity_id, \n",
    "    phone_number\n",
    "FROM customer_entities_demo_data;\n",
    "\n",
    "CREATE OR REPLACE TABLE rel_identity_birth_year AS\n",
    "SELECT \n",
    "    identity_id,\n",
    "    birth_year\n",
    "FROM customer_entities_demo_data;\n",
    "\n",
    "CREATE OR REPLACE TABLE rel_identity_address AS\n",
    "SELECT \n",
    "    identity_id,\n",
    "    LOWER(street_number || ' ' || street_name || ' ' || zip_code) AS full_address\n",
    "FROM customer_entities_demo_data;\n",
    "\n",
    "CREATE OR REPLACE TABLE rel_identity_profile AS\n",
    "SELECT \n",
    "    identity_id,\n",
    "    profile_id\n",
    "FROM customer_entities_demo_data;"
   ]
  },
  {
   "cell_type": "markdown",
   "id": "02b13610-3b5f-4ef0-a0a4-13ae7d6c10fc",
   "metadata": {
    "collapsed": false,
    "name": "cell8"
   },
   "source": [
    "\n",
    "We will merge all relationships into one big relationship table for easier analyses."
   ]
  },
  {
   "cell_type": "code",
   "execution_count": null,
   "id": "6d4da9fd-10ad-44b1-9d18-a7dfbad16fed",
   "metadata": {
    "language": "sql",
    "name": "all_relationships_table"
   },
   "outputs": [],
   "source": [
    "CREATE OR REPLACE TABLE all_relationships_tbl AS\n",
    "SELECT identity_id::STRING AS sourceNodeId, full_name::STRING AS targetNodeId FROM rel_identity_name\n",
    "UNION\n",
    "SELECT identity_id::STRING, email_id::STRING FROM rel_identity_email\n",
    "UNION\n",
    "SELECT identity_id::STRING, phone_number::STRING FROM rel_identity_phone\n",
    "UNION\n",
    "SELECT identity_id::STRING, birth_year::STRING FROM rel_identity_birth_year\n",
    "UNION\n",
    "SELECT identity_id::STRING, full_address::STRING FROM rel_identity_address;\n"
   ]
  },
  {
   "cell_type": "markdown",
   "id": "bad17d47-46b4-42d1-a06b-ed54266606ba",
   "metadata": {
    "collapsed": false,
    "name": "cell4"
   },
   "source": [
    "Let's see how our data is present in the relationships table.\n",
    "\n",
    "You can also preview the data of these tables from the ER_DEMO database under public schema on Snowsight Databases page. Please refer this [documentation](https://docs.snowflake.com/en/user-guide/ui-snowsight-data-databases-table) for more information."
   ]
  },
  {
   "cell_type": "code",
   "execution_count": null,
   "id": "81bfb790-1897-4b56-a531-9544df018e05",
   "metadata": {
    "language": "sql",
    "name": "cell12"
   },
   "outputs": [],
   "source": [
    "select * from all_relationships_tbl"
   ]
  },
  {
   "cell_type": "markdown",
   "id": "067d47cd-6cb3-47c9-84e3-2744d4efb975",
   "metadata": {
    "collapsed": false,
    "name": "cell5"
   },
   "source": [
    "# Running Graph Algorithms\n",
    "---\n",
    "Duration: 15mins\n",
    "\n",
    "To get started we will first begin by finding the similarity between the nodes using FastRP and KNN algorithms"
   ]
  },
  {
   "cell_type": "markdown",
   "id": "72fc512c-27ec-4758-881f-0a634207a499",
   "metadata": {
    "collapsed": false,
    "name": "run_graph_alg_notes"
   },
   "source": [
    "\n",
    "\n",
    "## 1. Similarity between Entity Nodes\n",
    "\n",
    "\n",
    "You can find more information about these algorithms in our [documentation](https://neo4j.com/docs/snowflake-graph-analytics/current/algorithms/).\n"
   ]
  },
  {
   "cell_type": "markdown",
   "id": "fd2ac7d3-fab7-4068-853d-3b2ebbe00299",
   "metadata": {
    "collapsed": false,
    "name": "cell16"
   },
   "source": [
    "## Fast Random Projection (FastRP)\n",
    "\n",
    "\n",
    "We compute embeddings as follows:\n"
   ]
  },
  {
   "cell_type": "code",
   "execution_count": null,
   "id": "c0544cab-0953-45f0-be1a-f67e5913ec87",
   "metadata": {
    "language": "sql",
    "name": "cell9"
   },
   "outputs": [],
   "source": [
    "CALL Neo4j_Graph_Analytics.graph.fast_rp('CPU_X64_XS', {\n",
    "  'project': {\n",
    "    'defaultTablePrefix': 'er_demo.public',\n",
    "    'nodeTables': ['all_nodes_tbl'],\n",
    "    'relationshipTables': {\n",
    "      'all_relationships_tbl': {\n",
    "        'sourceTable': 'all_nodes_tbl',\n",
    "        'targetTable': 'all_nodes_tbl',\n",
    "        'orientation': 'UNDIRECTED'\n",
    "\n",
    "      }\n",
    "    }\n",
    "  },\n",
    "  'compute': {\n",
    "    'mutateProperty': 'embedding',\n",
    "    'embeddingDimension': 128\n",
    "  },\n",
    "  'write': [{\n",
    "    'nodeLabel': 'all_nodes_tbl',\n",
    "    'outputTable': 'er_demo.public.all_nodes_fast_rp',\n",
    "    'nodeProperty': 'embedding'\n",
    "  }]\n",
    "});"
   ]
  },
  {
   "cell_type": "code",
   "execution_count": null,
   "id": "9d8220b7-d5b8-4d62-9108-4d042e0b1a73",
   "metadata": {
    "language": "sql",
    "name": "cell10"
   },
   "outputs": [],
   "source": [
    "SELECT\n",
    "  nodeid,\n",
    "  embedding\n",
    "FROM er_demo.public.all_nodes_fast_rp;"
   ]
  },
  {
   "cell_type": "markdown",
   "id": "6b2cb065-b5fb-435c-852d-8a97a8105465",
   "metadata": {
    "collapsed": false,
    "name": "node_embeddings_interpretation"
   },
   "source": [
    "Now that we have generated node embeddings, we can now proceed to use these in KNN similarity detection algorithm."
   ]
  },
  {
   "cell_type": "markdown",
   "id": "e1875f85-f07e-424b-b8ff-1f0135458bc4",
   "metadata": {
    "collapsed": false,
    "name": "knn_intro"
   },
   "source": [
    "## K-Nearest Neighbors (KNN)\n",
    "\n",
    "With embeddings in place, KNN helps us find structurally similar identities — even if they’re not directly connected. It compares the cosine similarity of embeddings to rank the top matches for each node.\n",
    "\n",
    "This is especially useful in entity resolution, where entities may appear unrelated on the surface but exhibit parallel structural behavior. \n",
    "\n",
    "In the context of cosine similarity in the KNN algorithm, a score of:\n",
    "\n",
    "- 1.0 means the vectors point in exactly the same direction (perfect similarity).\n",
    "\n",
    "- 0.0 means orthogonal (no similarity).\n",
    "\n",
    "- –1.0 means completely opposite.\n",
    "\n"
   ]
  },
  {
   "cell_type": "code",
   "execution_count": null,
   "id": "b56a29a3-e79b-46fb-aa45-c4985b2d9c27",
   "metadata": {
    "language": "sql",
    "name": "knn_code"
   },
   "outputs": [],
   "source": [
    "CALL Neo4j_Graph_Analytics.graph.knn('CPU_X64_XS', {\n",
    "  'project': {\n",
    "    'defaultTablePrefix': 'er_demo.public',\n",
    "    'nodeTables': [ 'all_nodes_fast_rp' ],\n",
    "    'relationshipTables': {}\n",
    "  },\n",
    "  'compute': {\n",
    "    'nodeProperties': ['EMBEDDING'],\n",
    "    'topK': 3,\n",
    "    'mutateProperty': 'score',\n",
    "    'mutateRelationshipType': 'SIMILAR_TO'\n",
    "  },\n",
    "  'write': [{\n",
    "    'outputTable': 'er_demo.public.all_nodes_knn_similarity',\n",
    "    'sourceLabel': 'all_nodes_fast_rp',\n",
    "    'targetLabel': 'all_nodes_fast_rp',\n",
    "    'relationshipType': 'SIMILAR_TO',\n",
    "    'relationshipProperty': 'score'\n",
    "  }]\n",
    "});"
   ]
  },
  {
   "cell_type": "markdown",
   "id": "56c2200f-bea5-4634-98df-fd8f44c97019",
   "metadata": {
    "collapsed": false,
    "name": "cell7"
   },
   "source": [
    "Let's look at a count of rows for each similarity score from our KNN algorithm."
   ]
  },
  {
   "cell_type": "code",
   "execution_count": null,
   "id": "131c08b6-fc74-4663-8dd0-b2d4c8ad8593",
   "metadata": {
    "language": "sql",
    "name": "knn_Results"
   },
   "outputs": [],
   "source": [
    "SELECT\n",
    "    TO_DECIMAL(score, 10, 5) AS score_rounded,\n",
    "    COUNT(*) AS row_count\n",
    "FROM er_demo.public.all_nodes_knn_similarity\n",
    "GROUP BY TO_DECIMAL(score, 10, 5)\n",
    "ORDER BY score_rounded desc;\n"
   ]
  },
  {
   "cell_type": "markdown",
   "id": "44f61d9b-bb9b-49dd-a8b3-fafb0776db0b",
   "metadata": {
    "collapsed": false,
    "name": "knn_interpret"
   },
   "source": [
    "As we can see from the above results, there are ~2900 nodes which are tagged to be highly similar to one another."
   ]
  },
  {
   "cell_type": "markdown",
   "id": "08ebe52d-e6dc-4358-a92a-b2f500f03749",
   "metadata": {
    "collapsed": false,
    "name": "louvain_intro"
   },
   "source": [
    "## 2. Louvain Community Detection\n",
    "After establishing similarity connections between identities, we apply Louvain to detect communities of likely duplicate records. Each cluster groups together identities with similar structural patterns, thus forming a candidate resolved entity."
   ]
  },
  {
   "cell_type": "code",
   "execution_count": null,
   "id": "093ae749-5afe-4b02-985a-00d6b908bc50",
   "metadata": {
    "language": "sql",
    "name": "louvain_algo"
   },
   "outputs": [],
   "source": [
    "CALL Neo4j_Graph_Analytics.graph.louvain('CPU_X64_XS', {\n",
    "  'project': {\n",
    "    'defaultTablePrefix': 'er_demo.public',\n",
    "    'nodeTables': ['all_nodes_tbl'],\n",
    "    'relationshipTables': {\n",
    "      'all_nodes_knn_similarity': {\n",
    "        'sourceTable': 'all_nodes_tbl',\n",
    "        'targetTable': 'all_nodes_tbl'\n",
    "      }\n",
    "    }\n",
    "  },\n",
    "  'compute': {\n",
    "    'mutateProperty': 'community'\n",
    "  },\n",
    "  'write': [{\n",
    "    'outputTable': 'er_demo.public.knn_louvain_communities',\n",
    "    'nodeLabel': 'all_nodes_tbl',\n",
    "    'nodeProperty': 'community'\n",
    "  }]\n",
    "});\n"
   ]
  },
  {
   "cell_type": "code",
   "execution_count": null,
   "id": "2df34d6c-d62c-4127-b05d-2eb69983a20a",
   "metadata": {
    "language": "sql",
    "name": "louvain_results"
   },
   "outputs": [],
   "source": [
    "SELECT\n",
    "    community as community_id,\n",
    "    COUNT(*) AS community_size\n",
    "FROM er_demo.public.knn_louvain_communities\n",
    "GROUP BY community\n",
    "ORDER BY community_size desc;\n"
   ]
  },
  {
   "cell_type": "code",
   "execution_count": null,
   "id": "eac64b46-4c8c-4b88-8b0f-fd1698c30ba7",
   "metadata": {
    "language": "sql",
    "name": "cell13"
   },
   "outputs": [],
   "source": [
    "select * from knn_louvain_communities\n",
    "where community = 93"
   ]
  },
  {
   "cell_type": "markdown",
   "id": "ab176392-c17f-4002-9401-dd570633ff67",
   "metadata": {
    "collapsed": false,
    "name": "louvain_interpretation"
   },
   "source": [
    "## Interpretation\n",
    "\n",
    "From the louvain community detection, we can see that around 114 communities have been recognized with the largest community size as 38 and the smallest to be 4\n"
   ]
  },
  {
   "cell_type": "markdown",
   "id": "c776f7cf-a129-45e9-80e2-9a77576df027",
   "metadata": {
    "collapsed": false,
    "name": "cell15"
   },
   "source": [
    "# Conclusion and Resources\n",
    "---\n",
    "Duration: 2 mins\n",
    "\n",
    "In this quickstart, you learned how to bring the power of graph insights into Snowflake using Neo4j Graph Analytics.\n",
    "\n",
    "## What You Learned\n",
    "By working with a Customer Entities Demo dataset, you were able to:\n",
    "\n",
    "1. Set up the Neo4j Graph Analytics application within Snowflake.\n",
    "2. Prepare and project your data into a graph model (users as nodes, transactions as relationships).\n",
    "3. Ran Node Embeddings and K Nearest Neighbors to identify the structure of nodes in the graph and identify highly similar customer entities. \n",
    "4. Ran Louvain Community Detection to identify potential clusters of highly similar identities.\n",
    "\n",
    "## Resources\n",
    "- [Neo4j Graph Analytics Documentation](https://neo4j.com/docs/snowflake-graph-analytics/)\n",
    "- [Installing Neo4j Graph Analytics on SPCS](https://neo4j.com/docs/snowflake-graph-analytics/installation/)"
   ]
  }
 ],
 "metadata": {
  "kernelspec": {
   "display_name": "Streamlit Notebook",
   "name": "streamlit"
  },
  "lastEditStatus": {
   "authorEmail": "indu.jayapal@eastridge-analytics.com",
   "authorId": "2951508371799",
   "authorName": "INDUVARSHINI",
   "lastEditTime": 1754502719494,
   "notebookId": "aoexjqu6avak5uz3bikl",
   "sessionId": "9b83c52f-ca13-4487-b360-938061c95189"
  }
 },
 "nbformat": 4,
 "nbformat_minor": 5
}
