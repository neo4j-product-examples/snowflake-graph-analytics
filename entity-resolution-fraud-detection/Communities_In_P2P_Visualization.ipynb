{
 "metadata": {
  "language_info": {
   "name": "python",
   "pygments_lexer": "ipython3"
  }
 },
 "nbformat_minor": 5,
 "nbformat": 4,
 "cells": [
  {
   "cell_type": "markdown",
   "id": "d4e56b16-3af3-4037-a785-f07be4683eac",
   "metadata": {},
   "source": "# Explore P2P Data\nSetup"
  },
  {
   "cell_type": "code",
   "id": "3775908f-ca36-4846-8f38-5adca39217f2",
   "metadata": {},
   "source": "# Import python packages\nimport streamlit as st\nimport pandas as pd\n\n# visualization\nimport streamlit as st\nimport networkx as nx\nimport plotly\n\n# warning suppresion\nimport warnings; warnings.simplefilter('ignore')\n\n\n# We can also use Snowpark for our analyses!\nfrom snowflake.snowpark.version import VERSION\nfrom snowflake.snowpark.context import get_active_session\nsession = get_active_session()\n",
   "execution_count": null,
   "outputs": []
  },
  {
   "cell_type": "code",
   "id": "c695373e-ac74-4b62-a1f1-08206cbd5c81",
   "metadata": {},
   "source": "snowflake_environment = session.sql('SELECT current_user(), current_version()').collect()\nsnowpark_version = VERSION\n\n# Current Environment Details\nprint('\\nConnection Established with the following parameters:')\nprint('User                        : {}'.format(snowflake_environment[0][0]))\nprint('Role                        : {}'.format(session.get_current_role()))\nprint('Database                    : {}'.format(session.get_current_database()))\nprint('Schema                      : {}'.format(session.get_current_schema()))\nprint('Warehouse                   : {}'.format(session.get_current_warehouse()))\nprint('Snowflake version           : {}'.format(snowflake_environment[0][1]))\nprint('Snowpark for Python version : {}.{}.{}'.format(snowpark_version[0],snowpark_version[1],snowpark_version[2]))",
   "execution_count": null,
   "outputs": []
  },
  {
   "cell_type": "code",
   "id": "a7906279-eb7b-44d4-90df-4830d6456cbe",
   "metadata": {},
   "outputs": [],
   "source": "# user node table\nuser_df = session.table(f'{session.get_current_database()}.{session.get_current_schema()}.p2p_users').to_pandas()\ntransaction_pagerank_df = (session.table(f'{session.get_current_database()}.{session.get_current_schema()}.p2p_transaction_pagerank')\n                           .to_pandas().rename(columns={'SCORE':'TRANSACTION_PAGERANK'}))\nlouvain_df = (session.table(f'{session.get_current_database()}.{session.get_current_schema()}.p2p_users_vw_lou').to_pandas()\n              .rename(columns={'COMMUNITY_ID':'LOUVAIN_COMM_ID'}))\nuser_df = user_df.merge(transaction_pagerank_df, on=\"NODEID\").merge(louvain_df, on=\"NODEID\")\nuser_df",
   "execution_count": null
  },
  {
   "cell_type": "code",
   "id": "94dd83df-e014-426c-bba0-4cfbbf1ebcdf",
   "metadata": {},
   "outputs": [],
   "source": "transactions_df = session.table(f'{session.get_current_database()}.{session.get_current_schema()}.p2p_agg_transactions').to_pandas()\nlouvain_count_df = louvain_df.groupby('COMMUNITY').count().reset_index().rename(columns={'NODEID': 'USER_COUNT'}).sort_values('USER_COUNT', ascending=False)\nlouvain_count_df['ST_SELECTOR_LABEL'] = louvain_count_df.apply( lambda row: f'id: {row.COMMUNITY}, user_count: {row.USER_COUNT}',axis=1)\nlouvain_count_df",
   "execution_count": null
  },
  {
   "cell_type": "code",
   "id": "1d62b551-192e-401c-830f-ee9be117a131",
   "metadata": {},
   "outputs": [],
   "source": "import networkx as nx\nimport plotly.graph_objects as go\n\n\ndef make_graph_from_louvain_ids(louvain_ids):\n    n_df = user_df[user_df.LOUVAIN_COMM_ID.isin(louvain_ids)]\n    user_ids = n_df.NODEID.tolist()\n    e_df = transactions_df[(transactions_df.SOURCENODEID.isin(user_ids)) & (transactions_df.TARGETNODEID.isin(user_ids))]\n    \n    G = nx.from_pandas_edgelist(e_df, source='SOURCENODEID', target='TARGETNODEID')\n    nx.set_node_attributes(G, dict(zip(n_df.USER_ID, n_df.to_dict(orient=\"records\"))))\n    return G\n\ndef size_scale(lst, bounds=(5,10)):\n    mx = max(lst)\n    mn = min(lst)\n    d = mx-mn\n    return [(bounds[1] - bounds[0])*((i - mn)/(d)) + bounds[0] for i in lst]\n    \ndef make_graph_from_louvain_ids(louvain_ids, scale_prop):\n    n_df = user_df[user_df.COMMUNITY.isin(louvain_ids)]\n    user_ids = n_df.NODEID.tolist()\n    e_df = transactions_df[(transactions_df.SOURCENODEID.isin(user_ids)) & (transactions_df.TARGETNODEID.isin(user_ids))]\n    \n    G = nx.from_pandas_edgelist(e_df, source='SOURCENODEID', target='TARGETNODEID', create_using=nx.DiGraph())\n    nx.set_node_attributes(G, dict(zip(n_df.NODEID, n_df[['NODEID', scale_prop]].to_dict(orient=\"records\"))))\n    return G\n\n\ndef plot_graph(G, title=\"subgraph\", scale_prop=\"CARD_COUNT\"):\n    pos = nx.spring_layout(G)\n    edge_x = []\n    edge_y = []\n    for edge in G.edges():\n        x0, y0 = pos[edge[0]]\n        x1, y1 = pos[edge[1]]\n        edge_x.append(x0)\n        edge_x.append(x1)\n        edge_x.append(None)\n        edge_y.append(y0)\n        edge_y.append(y1)\n        edge_y.append(None)\n    \n    edge_trace = go.Scatter(\n        x=edge_x, y=edge_y,\n        line=dict(width=0.5, color='#888'),\n        hoverinfo='none',\n        mode='lines')\n    \n    node_x = []\n    node_y = []\n    node_influence = []\n    for node in G.nodes():\n        x, y = pos[node]\n        node_x.append(x)\n        node_y.append(y)\n        node_influence.append(round(G.nodes[node][scale_prop],3))\n    node_size = size_scale(node_influence, (10, 30))\n\n    node_trace = go.Scatter(\n        x=node_x, y=node_y,\n        mode='markers',\n        hoverinfo='text',\n        marker=dict(\n            showscale=True,\n            # colorscale options\n            #'Greys' | 'YlGnBu' | 'Greens' | 'YlOrRd' | 'Bluered' | 'RdBu' |\n            #'Reds' | 'Blues' | 'Picnic' | 'Rainbow' | 'Portland' | 'Jet' |\n            #'Hot' | 'Blackbody' | 'Earth' | 'Electric' | 'Viridis' |\n            colorscale='Reds',\n            reversescale=False,\n            color=[],\n            size= node_size,\n            colorbar=dict(\n                thickness=15,\n                title=scale_prop,\n                xanchor='left'\n                #titleside='right'\n            ),\n            line=dict(width=2,color='DarkSlateGrey')))\n    \n    node_text = []\n    for node in G.nodes():\n        node_text.append(str(G.nodes[node]))\n    \n    node_trace.marker.color = node_influence\n    node_trace.text = node_text\n\n    fig = go.Figure(data=[edge_trace, node_trace],\n                 layout=go.Layout(\n                    title=title,\n                    #titlefont_size=16,\n                    showlegend=False,\n                    hovermode='closest',\n                    margin=dict(b=20,l=5,r=5,t=40),\n                    xaxis=dict(showgrid=False, zeroline=False, showticklabels=False),\n                    yaxis=dict(showgrid=False, zeroline=False, showticklabels=False))\n                    )\n    return fig\n\n\ndef plot_pr_graph_from_louvain_ids(louvain_ids):\n    G = make_graph_from_louvain_ids(louvain_ids, \"TRANSACTION_PAGERANK\")\n    return  plot_graph(G, title=f\"Louvain Community: {louvain_ids}\", scale_prop=\"TRANSACTION_PAGERANK\")",
   "execution_count": null
  },
  {
   "cell_type": "markdown",
   "id": "19c90026-c9b4-4175-92b0-29af14b80ac4",
   "metadata": {},
   "source": "#Plot Louvain Community using NetworkX - Coming Soon our Neo4j Visualization Python Library"
  },
  {
   "cell_type": "code",
   "id": "7b007938-3135-44d6-b9d4-72e084fc51b2",
   "metadata": {},
   "outputs": [],
   "source": "import streamlit as st\n# id: 28656, user_count: 29\n\nst.subheader(\"Explore Graph Communities\")\nselected_comm_id = st.selectbox(\n   \"Select a Community\",\n   louvain_count_df['ST_SELECTOR_LABEL'].tolist(),\n   placeholder=\"select community id...\",\n)\n\nif selected_comm_id:\n    comm_ids = louvain_count_df[louvain_count_df['ST_SELECTOR_LABEL'] == selected_comm_id]['COMMUNITY'].tolist()\n    st.plotly_chart(plot_pr_graph_from_louvain_ids(comm_ids))\n    ",
   "execution_count": null
  },
  {
   "cell_type": "code",
   "id": "2fc98db0-55e8-4d5b-8854-b774318e10f6",
   "metadata": {},
   "outputs": [],
   "source": "SELECT * from P2P_DEMO.PUBLIC.P2P_AGG_TRANSACTIONS;",
   "execution_count": null
  }
 ]
}
