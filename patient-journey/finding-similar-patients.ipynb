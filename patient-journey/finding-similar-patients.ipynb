{
 "cells": [
  {
   "cell_type": "markdown",
   "id": "0e35f16e-6f8b-4690-81ab-d19f01d3a25c",
   "metadata": {
    "collapsed": false,
    "name": "cell16"
   },
   "source": [
    "# Finding Similar Patient Journeys with Neo4j\n",
    "## Overview\n",
    "Duration: 2\n",
    "\n",
    "### What Is Neo4j Graph Analytics For Snowflake? \n",
    "\n",
    "Neo4j helps organizations find hidden relationships and patterns across billions of data connections deeply, easily, and quickly. **Neo4j Graph Analytics for Snowflake** brings to the power of graph directly to Snowflake, allowing users to run 65+ ready-to-use algorithms on their data, all without leaving Snowflake! \n",
    "\n",
    "### Prerequisites\n",
    "- The Native App [Neo4j Graph Analytics](https://app.snowflake.com/marketplace/listing/GZTDZH40CN) for Snowflake\n",
    "  \n",
    "### What You Will Need\n",
    "- A [Snowflake account](https://signup.snowflake.com/?utm_cta=quickstarts) with appropriate access to databases and schemas.\n",
    "- Neo4j Graph Analytics application installed from the Snowflake marketplace. Access the marketplace via the menu bar on the left hand side of your screen, as seen below:\n",
    "![image](assets/marketplace.png)\n",
    "\n",
    "### What You Will Build\n",
    "- A method to identify similar patient journeys\n",
    "  \n",
    "### What You Will Learn\n",
    "- How to prepare and project your data for graph analytics\n",
    "- How to use node similarity to identify similar nodes\n",
    "- How to read and write directly from and to your snowflake tables"
   ]
  },
  {
   "cell_type": "markdown",
   "id": "5a6f8dbd-d50f-4061-8023-1cd74435d21d",
   "metadata": {
    "collapsed": false,
    "name": "cell8"
   },
   "source": [
    "## Loading The Data\n",
    "Duration: 5\n",
    "\n",
    "Dataset overview : This dataset is modelled to design and analyze patients and different procedures that they undergo using graph analytics. \n",
    "\n",
    "Let's name our database `NEO4J_PATIENT_DB`. Using the CSVs found [here](https://github.com/neo4j-product-examples/aura-graph-analytics/tree/main/patient_journey/data), We are going to add two new tables:\n",
    "\n",
    "- One called `PROCEDURES` based on the Procedures.csv\n",
    "- One called `PATIENTS` based on Patients.csv\n",
    "\n",
    "Follow the steps found [here](https://docs.snowflake.com/en/user-guide/data-load-web-ui) to load in your data."
   ]
  },
  {
   "cell_type": "markdown",
   "id": "ac472f8f-f96c-4b57-98a6-c1532964d865",
   "metadata": {
    "collapsed": false,
    "name": "cell4"
   },
   "source": [
    "## Setting Up\n",
    "\n",
    "### Import The Notebook\n",
    "- We’ve provided a Colab notebook to walk you through each SQL and Python step—no local setup required!\n",
    "- Download the .ipynb found [here](https://github.com/neo4j-product-examples/snowflake-graph-analytics/tree/main/QuickStarts/Python%20Notebooks),and import the notebook into snowflake.\n",
    "  ![image](assets/followalong.png)\n",
    "\n",
    "### Permissions\n",
    "Before we run our algorithms, we need to set the proper permissions. But before we get started granting different roles, we need to ensure that you are using `accountadmin` to grant and create roles. Lets do that now:"
   ]
  },
  {
   "cell_type": "code",
   "execution_count": null,
   "id": "3775908f-ca36-4846-8f38-5adca39217f2",
   "metadata": {
    "language": "sql",
    "name": "cell1"
   },
   "outputs": [],
   "source": [
    "USE ROLE accountadmin;"
   ]
  },
  {
   "cell_type": "markdown",
   "id": "402e1d9b-f875-4ad0-85d4-ab0c5184bcb6",
   "metadata": {
    "collapsed": false,
    "name": "cell17"
   },
   "source": [
    "Next let's set up the necessary roles, permissions, and resource access to enable Graph Analytics to operate on data within the `NEO4J_PATIENT_DB.PUBLIC.SCHEMA`. It creates a consumer role (gds_user_role) for users and administrators, grants the Neo4j Graph Analytics application access to read from and write to tables and views, and ensures that future tables are accessible. \n",
    "\n",
    "It also provides the application with access to the required compute pool and warehouse resources needed to run graph algorithms at scale."
   ]
  },
  {
   "cell_type": "code",
   "execution_count": null,
   "id": "8d50cbf4-0c8d-4950-86cb-114990437ac9",
   "metadata": {
    "language": "sql",
    "name": "cell2"
   },
   "outputs": [],
   "source": [
    "-- Create a consumer role for users and admins of the GDS application\n",
    "CREATE ROLE IF NOT EXISTS gds_user_role;\n",
    "CREATE ROLE IF NOT EXISTS gds_admin_role;\n",
    "GRANT APPLICATION ROLE neo4j_graph_analytics.app_user TO ROLE gds_user_role;\n",
    "GRANT APPLICATION ROLE neo4j_graph_analytics.app_admin TO ROLE gds_admin_role;\n",
    "\n",
    "CREATE DATABASE ROLE IF NOT EXISTS gds_db_role;\n",
    "GRANT DATABASE ROLE gds_db_role TO ROLE gds_user_role;\n",
    "GRANT DATABASE ROLE gds_db_role TO APPLICATION neo4j_graph_analytics;\n",
    "\n",
    "-- Grant access to consumer data\n",
    "GRANT USAGE ON DATABASE NEO4J_PATIENT_DB TO ROLE gds_user_role;\n",
    "GRANT USAGE ON SCHEMA NEO4J_PATIENT_DB.PUBLIC TO ROLE gds_user_role;\n",
    "\n",
    "-- Required to read tabular data into a graph\n",
    "GRANT SELECT ON ALL TABLES IN DATABASE NEO4J_PATIENT_DB TO DATABASE ROLE gds_db_role;\n",
    "\n",
    "-- Ensure the consumer role has access to created tables/views\n",
    "GRANT ALL PRIVILEGES ON FUTURE TABLES IN SCHEMA NEO4J_PATIENT_DB.PUBLIC TO DATABASE ROLE gds_db_role;\n",
    "GRANT ALL PRIVILEGES ON ALL TABLES IN SCHEMA NEO4J_PATIENT_DB.PUBLIC TO DATABASE ROLE gds_db_role;\n",
    "GRANT CREATE TABLE ON SCHEMA NEO4J_PATIENT_DB.PUBLIC TO DATABASE ROLE gds_db_role;\n",
    "GRANT CREATE VIEW ON SCHEMA NEO4J_PATIENT_DB.PUBLIC TO DATABASE ROLE gds_db_role;\n",
    "GRANT ALL PRIVILEGES ON FUTURE VIEWS IN SCHEMA NEO4J_PATIENT_DB.PUBLIC TO DATABASE ROLE gds_db_role;\n",
    "GRANT ALL PRIVILEGES ON ALL VIEWS IN SCHEMA NEO4J_PATIENT_DB.PUBLIC TO DATABASE ROLE gds_db_role;\n",
    "\n",
    "-- Compute and warehouse access\n",
    "GRANT USAGE ON WAREHOUSE NEO4J_GRAPH_ANALYTICS_APP_WAREHOUSE TO APPLICATION neo4j_graph_analytics;"
   ]
  },
  {
   "cell_type": "markdown",
   "id": "9c44af77-c67d-4ef5-89ce-a177e7341b9f",
   "metadata": {
    "collapsed": false,
    "name": "cell18"
   },
   "source": [
    "Then we need to switch the role we created:"
   ]
  },
  {
   "cell_type": "code",
   "execution_count": null,
   "id": "c695373e-ac74-4b62-a1f1-08206cbd5c81",
   "metadata": {
    "language": "sql",
    "name": "cell3"
   },
   "outputs": [],
   "source": [
    "USE ROLE gds_user_role;"
   ]
  },
  {
   "cell_type": "markdown",
   "id": "9d4764b2-c6fe-4c2a-ba21-2d5cb153f198",
   "metadata": {
    "collapsed": false,
    "name": "cell19"
   },
   "source": [
    "## Cleaning Our Data\n",
    "Duration: 5\n",
    "\n",
    "We need our data to be in a particular format in order to work with Graph Analytics. In general it should be like so:\n",
    "\n",
    "### For The Table Representing Nodes:\n",
    "\n",
    "The first column should be called `nodeId`, which represents the ids for the each node in our graph\n",
    "\n",
    "### For The table Representing Relationships:\n",
    "\n",
    "We need to have columns called `sourceNodeId` and `targetNodeId`. These will tell Graph Analytics the direction of the transaction, which in this case means:\n",
    "- Who is the patient (sourceNodeId) and\n",
    "- What is the procedure (targetNodeId)\n",
    "\n",
    "Let's take a look at the starting point for our data. We have a table for patients and a table for procedures:"
   ]
  },
  {
   "cell_type": "code",
   "execution_count": null,
   "id": "eadaaa3b-dbb6-41e0-ba82-50887ab6f206",
   "metadata": {
    "language": "sql",
    "name": "cell5"
   },
   "outputs": [],
   "source": [
    "SELECT * FROM NEO4J_PATIENT_DB.PUBLIC.PROCEDURES LIMIT 10;"
   ]
  },
  {
   "cell_type": "code",
   "execution_count": null,
   "id": "171c42cb-a758-4788-87a1-a0853861d261",
   "metadata": {
    "language": "sql",
    "name": "cell6"
   },
   "outputs": [],
   "source": [
    "SELECT * FROM NEO4J_PATIENT_DB.PUBLIC.PATIENTS LIMIT 10;"
   ]
  },
  {
   "cell_type": "markdown",
   "id": "3b4a8108-fe42-4cf6-be6c-13d4e32e39be",
   "metadata": {
    "collapsed": false,
    "name": "cell13"
   },
   "source": [
    "We are then going to clean this up into two tables that just have the nodeids for both patient and procedure:"
   ]
  },
  {
   "cell_type": "code",
   "execution_count": null,
   "id": "6f441be8-d423-4a75-9eae-dea3447c4687",
   "metadata": {
    "language": "sql",
    "name": "cell7"
   },
   "outputs": [],
   "source": [
    "CREATE OR REPLACE TABLE NEO4J_PATIENT_DB.PUBLIC.PATIENT_NODE_MAPPING (nodeId) AS\n",
    "SELECT DISTINCT p.ID from NEO4J_PATIENT_DB.PUBLIC.PATIENTS p;\n",
    "\n",
    "CREATE OR REPLACE TABLE NEO4J_PATIENT_DB.PUBLIC.PROCEDURE_NODE_MAPPING (nodeId) AS\n",
    "SELECT DISTINCT p.code from NEO4J_PATIENT_DB.PUBLIC.PROCEDURES p;"
   ]
  },
  {
   "cell_type": "markdown",
   "id": "b89c6408-8e99-469b-9876-58a148db1ad9",
   "metadata": {
    "collapsed": false,
    "name": "cell22"
   },
   "source": [
    "In order to keep this managable, we are just going to look at patients (and what procedures they underwent) in the context of kidney disease. So first we will filter down patients to only include those with kidney disease:"
   ]
  },
  {
   "cell_type": "code",
   "execution_count": null,
   "id": "966a0257-528f-43f1-9239-99ca3ab15324",
   "metadata": {
    "language": "sql",
    "name": "cell9"
   },
   "outputs": [],
   "source": [
    "// create a subset of patients that have had any of the 4 kidney disease codes\n",
    "CREATE OR REPLACE VIEW KidneyPatients_vw (nodeId) AS\n",
    "    SELECT DISTINCT PATIENT_NODE_MAPPING.NODEID as nodeId\n",
    "    FROM PROCEDURES\n",
    "            JOIN PATIENT_NODE_MAPPING ON PATIENT_NODE_MAPPING.NODEID = PROCEDURES.PATIENT \n",
    "    WHERE PROCEDURES.REASONCODE IN (431857002,46177005,161665007,698306007)\n",
    ";"
   ]
  },
  {
   "cell_type": "markdown",
   "id": "b37f1c6d-45c1-4546-b444-262e213120f3",
   "metadata": {
    "collapsed": false,
    "name": "cell21"
   },
   "source": [
    "Then we will only look at the procedures that those kidney patients have undergone:"
   ]
  },
  {
   "cell_type": "code",
   "execution_count": null,
   "id": "9a4f92ec-6581-490f-b78d-e6c3f6a47867",
   "metadata": {
    "language": "sql",
    "name": "cell12"
   },
   "outputs": [],
   "source": [
    "// There are ~400K procedures - it is doubtful that the kidney patients even have used a small\n",
    "// fraction of those.  To reduce GDS memory and speed algorithm execution, we want to load\n",
    "// only those procedures that kidney patients have had.\n",
    "CREATE OR REPLACE VIEW KidneyPatientProcedures_vw (nodeId) AS\n",
    "    SELECT DISTINCT PROCEDURE_NODE_MAPPING.NODEID as nodeId\n",
    "    FROM PROCEDURES \n",
    "        JOIN PROCEDURE_NODE_MAPPING ON PROCEDURE_NODE_MAPPING.nodeId = PROCEDURES.CODE\n",
    "        JOIN KIDNEYPATIENTS_VW ON PATIENT = PROCEDURES.PATIENT;\n",
    "\n",
    "// create the relationship view of kidney patients to the procedures they have had\n",
    "CREATE OR REPLACE VIEW KidneyPatientProcedure_relationship_vw (sourceNodeId, targetNodeId) AS\n",
    "    SELECT DISTINCT PATIENT_NODE_MAPPING.NODEID as sourceNodeId, PROCEDURE_NODE_MAPPING.NODEID as targetNodeId\n",
    "    FROM PATIENT_NODE_MAPPING\n",
    "         JOIN PROCEDURES ON PROCEDURES.PATIENT = PATIENT_NODE_MAPPING.NODEID\n",
    "         JOIN PROCEDURE_NODE_MAPPING ON PROCEDURE_NODE_MAPPING.NODEID = PROCEDURES.CODE;"
   ]
  },
  {
   "cell_type": "code",
   "execution_count": null,
   "id": "18291a96-ed32-4413-938a-631be4eb6ef0",
   "metadata": {
    "language": "sql",
    "name": "cell31"
   },
   "outputs": [],
   "source": [
    "select * from KidneyPatientProcedures_vw"
   ]
  },
  {
   "cell_type": "markdown",
   "id": "cda9c419-e9bb-4e9f-ab79-984baab9e356",
   "metadata": {
    "collapsed": false,
    "name": "cell29"
   },
   "source": [
    "## Visualizing Your Graph (Experimental)\n",
    "At this point, you may want to visualize your graph to get a better understanding of how everything fits together. Before we do that, we will need to create a subset of our graph to make the visualization more managable.\n",
    "\n",
    "Let's start by limiting the number of patients down to ten and then finding the procedures those individuals have undergone."
   ]
  },
  {
   "cell_type": "code",
   "execution_count": null,
   "id": "63e1d8c4-0e8e-400f-8a5e-1c84f5833f8d",
   "metadata": {
    "language": "sql",
    "name": "cell32"
   },
   "outputs": [],
   "source": [
    "-- this is a small subset of the patients in our dataset\n",
    "CREATE OR REPLACE VIEW KidneyPatient_viz_vw (nodeId) AS\n",
    "SELECT nodeId\n",
    "FROM KidneyPatients_vw\n",
    "LIMIT 10;\n",
    "\n",
    "-- this represents the procedures those patients underwent (and will be our relationship table\n",
    "-- for the below visualization)\n",
    "CREATE OR REPLACE VIEW NEO4J_PATIENT_DB.PUBLIC.procedures_patients_vw AS\n",
    "SELECT DISTINCT\n",
    "    p.patient as sourcenodeid,\n",
    "    p.reasoncode as targetnodeid\n",
    "FROM NEO4J_PATIENT_DB.PUBLIC.PROCEDURES p\n",
    "JOIN KidneyPatient_viz_vw k\n",
    "  ON CAST(p.PATIENT AS STRING) = CAST(k.nodeId AS STRING);\n",
    "\n",
    "-- now we look at the procedures in our example\n",
    "CREATE OR REPLACE VIEW procedures_viz_vw (nodeId) AS\n",
    "SELECT distinct targetnodeid\n",
    "FROM procedures_patients_vw\n",
    "LIMIT 10;"
   ]
  },
  {
   "cell_type": "markdown",
   "id": "40454d5a-00b0-443f-bc3b-822338233884",
   "metadata": {
    "collapsed": false,
    "name": "cell30"
   },
   "source": [
    "Now, we are ready to visualize our graph. We can do this in two easy steps. Similarly to how we will project graphs for our graph algorithms, we need to specify what are the node and relationship tables:"
   ]
  },
  {
   "cell_type": "code",
   "execution_count": null,
   "id": "72f5c73e-cdc7-497d-8035-6388fdab0db6",
   "metadata": {
    "language": "sql",
    "name": "viz"
   },
   "outputs": [],
   "source": [
    "CALL Neo4j_Graph_Analytics.experimental.visualize(\n",
    "{\n",
    "    'nodeTables': ['NEO4J_PATIENT_DB.public.KidneyPatient_viz_vw',\n",
    "                   'NEO4J_PATIENT_DB.public.procedures_viz_vw'\n",
    "    ],\n",
    "    'relationshipTables': {\n",
    "      'NEO4J_PATIENT_DB.public.procedures_patients_vw': {\n",
    "        'sourceTable': 'NEO4J_PATIENT_DB.public.KidneyPatient_viz_vw',\n",
    "        'targetTable': 'NEO4J_PATIENT_DB.public.procedures_viz_vw'\n",
    "      }\n",
    "    }\n",
    "  },\n",
    "  {}\n",
    ");"
   ]
  },
  {
   "cell_type": "markdown",
   "id": "339a7e09-c7e5-4b3d-8b6b-2979735753c4",
   "metadata": {
    "collapsed": false,
    "name": "cell33"
   },
   "source": [
    "We can access the output of the previous cell by referencing its cell name, in this case cell1. In our next Python notebook cell, we extract the HTML/JavaScript string we want by interpreting the cell1 output as a Pandas DataFrame, then accessing the first row of the \"VISUALIZE\" column."
   ]
  },
  {
   "cell_type": "code",
   "execution_count": null,
   "id": "85f8ad52-04a3-49f8-bee4-7ec60164b1b2",
   "metadata": {
    "language": "python",
    "name": "viz_display",
    "vscode": {
     "languageId": "python"
    }
   },
   "outputs": [],
   "source": [
    "import streamlit.components.v1 as components\n",
    "\n",
    "components.html(\n",
    "    viz.to_pandas().loc[0][\"VISUALIZE\"],\n",
    "    height=600\n",
    ")"
   ]
  },
  {
   "cell_type": "markdown",
   "id": "0b9ec860-3f83-4bfd-a28e-3be432dcc880",
   "metadata": {
    "collapsed": false,
    "name": "cell23"
   },
   "source": [
    "## Running Your Algorithms\n",
    "Duration: 10\n",
    "\n",
    "Now we are finally at the step where we create a projection, run our algorithms, and write back to snowflake. We will run louvain to determine communities within our data. Louvain identifies communities by grouping together nodes that have more connections to each other than to nodes outside the group.\n",
    "\n",
    "You can find more information about writing this function in our [documentation](https://neo4j.com/docs/snowflake-graph-analytics/current/getting-started/)."
   ]
  },
  {
   "cell_type": "code",
   "execution_count": null,
   "id": "48c95492-87d4-4bc8-a7d2-93b92142be9d",
   "metadata": {
    "language": "sql",
    "name": "cell14"
   },
   "outputs": [],
   "source": [
    "CALL neo4j_graph_analytics.graph.node_similarity('CPU_X64_L', {\n",
    "  'project': {\n",
    "    'defaultTablePrefix': 'neo4j_patient_db.public',\n",
    "    'nodeTables': ['KidneyPatients_vw','KidneyPatientProcedures_vw'], \n",
    "    'relationshipTables': {\n",
    "      'KidneyPatientProcedure_relationship_vw': {\n",
    "        'sourceTable': 'KidneyPatients_vw',\n",
    "        'targetTable': 'KidneyPatientProcedures_vw'\n",
    "      }\n",
    "    }\n",
    "  },\n",
    "  'compute': { 'topK': 10,\n",
    "                'similarityCutoff': 0.3,\n",
    "                'similarityMetric': 'JACCARD'\n",
    "            },\n",
    "  'write': [\n",
    "    {\n",
    "    'sourceLabel': 'KidneyPatients_vw',\n",
    "    'targetLabel': 'KidneyPatients_vw',\n",
    "    'relationshipProperty': 'similarity',\n",
    "    'outputTable':  'neo4j_patient_db.public.PATIENT_PROCEDURE_SIMILARITY'\n",
    "    }\n",
    "  ]\n",
    "});"
   ]
  },
  {
   "cell_type": "markdown",
   "id": "e60f036d-34cb-4a42-b194-daaa3519070d",
   "metadata": {
    "collapsed": false,
    "name": "cell10"
   },
   "source": [
    "Let's take a look at the results!"
   ]
  },
  {
   "cell_type": "code",
   "execution_count": null,
   "id": "85d96392-923d-4bf1-8aae-3e33d7e772b0",
   "metadata": {
    "language": "sql",
    "name": "cell15"
   },
   "outputs": [],
   "source": [
    "SELECT SOURCENODEID, TARGETNODEID, SIMILARITY\n",
    "FROM NEO4J_PATIENT_DB.PUBLIC.PATIENT_PROCEDURE_SIMILARITY \n",
    "LIMIT 10;"
   ]
  },
  {
   "cell_type": "markdown",
   "id": "352808de-a24b-4def-8a14-51dcc6c711b9",
   "metadata": {
    "collapsed": false,
    "name": "cell26"
   },
   "source": [
    "Using the similarity scores we just calculated, we can then sort our patients into groups based on our related patients pairs and their similarity score using louvain:"
   ]
  },
  {
   "cell_type": "code",
   "execution_count": null,
   "id": "a692cf66-0a52-4597-86a1-e8dd76d46cbc",
   "metadata": {
    "language": "sql",
    "name": "cell20"
   },
   "outputs": [],
   "source": [
    "CALL Neo4j_Graph_Analytics.graph.louvain('CPU_X64_XS', {\n",
    "    'defaultTablePrefix': 'neo4j_patient_db.public',\n",
    "    'project': {\n",
    "        'nodeTables': [ 'KidneyPatients_vw' ],\n",
    "        'relationshipTables': {\n",
    "            'PATIENT_PROCEDURE_SIMILARITY': {\n",
    "                'sourceTable': 'KidneyPatients_vw',\n",
    "                'targetTable': 'KidneyPatients_vw',\n",
    "                'orientation': 'UNDIRECTED'\n",
    "            }\n",
    "        }\n",
    "    },\n",
    "    'compute': {\n",
    "        'mutateProperty': 'community_id',\n",
    "        'relationshipWeightProperty': 'SIMILARITY'\n",
    "\n",
    "    },\n",
    "    'write': [{\n",
    "        'nodeLabel': 'KidneyPatients_vw',\n",
    "        'outputTable': 'patient_community',\n",
    "        'nodeProperty': 'community_id'\n",
    "    }]\n",
    "});"
   ]
  },
  {
   "cell_type": "markdown",
   "id": "1a72614e-eee7-495e-9241-a161b93b4af6",
   "metadata": {
    "collapsed": false,
    "name": "cell25"
   },
   "source": [
    "We can then take a look at the results like so:"
   ]
  },
  {
   "cell_type": "code",
   "execution_count": null,
   "id": "12700a0c-0066-4d4d-ac0b-0a46ed2e2e60",
   "metadata": {
    "language": "sql",
    "name": "cell24"
   },
   "outputs": [],
   "source": [
    "select * from neo4j_patient_db.public.patient_community"
   ]
  },
  {
   "cell_type": "markdown",
   "id": "422d4d8f-6443-43ca-8d30-0bd1fb702efc",
   "metadata": {
    "collapsed": false,
    "name": "cell11"
   },
   "source": [
    "##  Conclusions And Resources\n",
    "Duration: 2\n",
    "\n",
    "In this quickstart, you learned how to bring the power of graph insights into Snowflake using Neo4j Graph Analytics. \n",
    "\n",
    "### What You Learned\n",
    "By working with a patient transaction dataset, you were able to:\n",
    "\n",
    "1. Set up the [Neo4j Graph Analytics](https://app.snowflake.com/marketplace/listing/GZTDZH40CN/neo4j-neo4j-graph-analytics) application within Snowflake.\n",
    "2. Prepare and project your data into a graph model (patients as nodes, underwent_procedures as relationships).\n",
    "3. Ran node similarity to identify patients who have a comparable history of medical procedures.\n",
    "\n",
    "### Resources\n",
    "\n",
    "- [Neo4j Graph Analytics Documentation](https://neo4j.com/docs/snowflake-graph-analytics/)\n",
    "- [Installing Neo4j Graph Analytics on SPCS](https://neo4j.com/docs/snowflake-graph-analytics/installation/)"
   ]
  }
 ],
 "metadata": {
  "kernelspec": {
   "display_name": "Streamlit Notebook",
   "name": "streamlit"
  },
  "lastEditStatus": {
   "authorEmail": "corydon.baylor@neo4j.com",
   "authorId": "3020319158773",
   "authorName": "CBAYLOR",
   "lastEditTime": 1753297237264,
   "notebookId": "coz2pyl6iw4xlf2jykmj",
   "sessionId": "65c0c9b2-00f4-42ca-aeb6-6625289a197c"
  }
 },
 "nbformat": 4,
 "nbformat_minor": 5
}
