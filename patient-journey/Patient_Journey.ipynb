{
 "cells": [
  {
   "cell_type": "markdown",
   "id": "464f198b-12cd-4019-9d35-48f9b3923d01",
   "metadata": {},
   "source": [
    "Patient Journey Notebook\n",
    "\n",
    "Neo4j GDS on Snowflake v0.3.13\n",
    "\n",
    "Last Updated: 7 May 2025"
   ]
  },
  {
   "cell_type": "markdown",
   "id": "a2ae3e37-a88a-42a7-b2fa-6d30a5729e48",
   "metadata": {},
   "source": [
    "## Setting Up\n",
    "Before we run our algorithms, we need to set the proper permissions. But before we get started granting different roles, we need to ensure that you are using `accountadmin` to grant and create roles. Lets do that now:"
   ]
  },
  {
   "cell_type": "code",
   "execution_count": null,
   "id": "25330d7f-650a-471f-ab6a-2dcf2329b286",
   "metadata": {},
   "outputs": [],
   "source": [
    "-- you must be accountadmin to create role and grant permissions\n",
    "USE ROLE accountadmin;"
   ]
  },
  {
   "cell_type": "markdown",
   "id": "29ff871a-c9e9-4abf-a261-fd49dc42d980",
   "metadata": {},
   "source": [
    "Create a database which we will use to prepare data for GDS."
   ]
  },
  {
   "cell_type": "code",
   "execution_count": null,
   "id": "b55b6cf0-5f5c-4b3b-a4f7-a981198b08a5",
   "metadata": {},
   "outputs": [],
   "source": [
    "-- Create a database which we will use to prepare data for GDS.\n",
    "CREATE DATABASE IF NOT EXISTS NEO4J_PATIENT_DB;\n",
    "CREATE SCHEMA IF NOT EXISTS NEO4J_PATIENT_DB.PUBLIC;\n",
    "USE SCHEMA NEO4J_PATIENT_DB.PUBLIC;"
   ]
  },
  {
   "cell_type": "markdown",
   "id": "cc3c1db4-f9b9-481a-b42d-40a2cf8dccea",
   "metadata": {},
   "source": [
    "Next let's set up the necessary roles, permissions, and resource access to enable Graph Analytics to operate on data within the neo4j_imdb.public schema. It creates a consumer role (gds_role) for users and administrators, grants the GDS application access to read from and write to tables and views, and ensures that future tables are accessible.\n",
    "\n",
    "It also provides the application with access to the required compute pool and warehouse resources needed to run graph algorithms at scale."
   ]
  },
  {
   "cell_type": "code",
   "execution_count": null,
   "id": "4ec4b914-a7dc-4410-8071-598abc3b81cf",
   "metadata": {},
   "outputs": [],
   "source": [
    "USE SCHEMA NEO4J_PATIENT_DB.PUBLIC;\n",
    "\n",
    "-- Create a consumer role for users and admins of the GDS application\n",
    "CREATE ROLE IF NOT EXISTS gds_user_role;\n",
    "CREATE ROLE IF NOT EXISTS gds_admin_role;\n",
    "GRANT APPLICATION ROLE neo4j_graph_analytics.app_user TO ROLE gds_user_role;\n",
    "GRANT APPLICATION ROLE neo4j_graph_analytics.app_admin TO ROLE gds_admin_role;\n",
    "\n",
    "CREATE DATABASE ROLE IF NOT EXISTS gds_db_role;\n",
    "GRANT DATABASE ROLE gds_db_role TO ROLE gds_user_role;\n",
    "GRANT DATABASE ROLE gds_db_role TO APPLICATION neo4j_graph_analytics;\n",
    "\n",
    "-- Grant access to consumer data\n",
    "GRANT USAGE ON DATABASE NEO4J_PATIENT_DB TO ROLE gds_user_role;\n",
    "GRANT USAGE ON SCHEMA NEO4J_PATIENT_DB.PUBLIC TO ROLE gds_user_role;\n",
    "\n",
    "-- Required to read tabular data into a graph\n",
    "GRANT SELECT ON ALL TABLES IN DATABASE NEO4J_PATIENT_DB TO DATABASE ROLE gds_db_role;\n",
    "\n",
    "-- Ensure the consumer role has access to created tables/views\n",
    "GRANT ALL PRIVILEGES ON FUTURE TABLES IN SCHEMA NEO4J_PATIENT_DB.PUBLIC TO DATABASE ROLE gds_db_role;\n",
    "GRANT ALL PRIVILEGES ON ALL TABLES IN SCHEMA NEO4J_PATIENT_DB.PUBLIC TO DATABASE ROLE gds_db_role;\n",
    "GRANT CREATE TABLE ON SCHEMA NEO4J_PATIENT_DB.PUBLIC TO DATABASE ROLE gds_db_role;\n",
    "GRANT CREATE VIEW ON SCHEMA NEO4J_PATIENT_DB.PUBLIC TO DATABASE ROLE gds_db_role;\n",
    "GRANT ALL PRIVILEGES ON FUTURE VIEWS IN SCHEMA NEO4J_PATIENT_DB.PUBLIC TO DATABASE ROLE gds_db_role;\n",
    "GRANT ALL PRIVILEGES ON ALL VIEWS IN SCHEMA NEO4J_PATIENT_DB.PUBLIC TO DATABASE ROLE gds_db_role;\n",
    "\n",
    "-- Compute and warehouse access\n",
    "GRANT USAGE ON WAREHOUSE NEO4J_GRAPH_ANALYTICS_APP_WAREHOUSE TO APPLICATION neo4j_graph_analytics;"
   ]
  },
  {
   "cell_type": "code",
   "execution_count": null,
   "id": "9fbb3848-4691-4cd2-bd10-fcaafccc65fd",
   "metadata": {},
   "outputs": [],
   "source": [
    "USE ROLE gds_user_role;"
   ]
  },
  {
   "cell_type": "markdown",
   "id": "96794ea5-254b-4286-878b-2985c29fb9a8",
   "metadata": {},
   "source": [
    "As part of the lab, we are going to create 2 tables for our source data:\n",
    " - `PATIENTS` -- The dataset that we will use for our patients data.\n",
    " - `PROCEDURES` -- The dataset containing the procedures performed on our patients.\n"
   ]
  },
  {
   "cell_type": "code",
   "execution_count": null,
   "id": "59856308-bce7-4454-b1c7-875b54d3de60",
   "metadata": {},
   "outputs": [],
   "source": [
    "CREATE OR REPLACE TABLE NEO4J_PATIENT_DB.PUBLIC.PATIENTS (\n",
    "\tID VARCHAR(16777216),\n",
    "\tPREFIX VARCHAR(16777216),\n",
    "\tFIRST VARCHAR(16777216),\n",
    "\tMIDDLE VARCHAR(16777216),\n",
    "\tLAST VARCHAR(16777216),\n",
    "\tSUFFIX VARCHAR(16777216),\n",
    "\tMAIDEN VARCHAR(16777216),\n",
    "\tMARITAL VARCHAR(16777216),\n",
    "\tRACE VARCHAR(16777216),\n",
    "\tETHNICITY VARCHAR(16777216),\n",
    "\tGENDER VARCHAR(16777216),\n",
    "\tBIRTHPLACE VARCHAR(16777216),\n",
    "\tADDRESS VARCHAR(16777216),\n",
    "\tCITY VARCHAR(16777216),\n",
    "\tSTATE VARCHAR(16777216),\n",
    "\tZIP NUMBER(38,0)\n",
    ");"
   ]
  },
  {
   "cell_type": "code",
   "execution_count": null,
   "id": "d9271a06-5ce5-48c9-8a23-916d188af1d8",
   "metadata": {},
   "outputs": [],
   "source": [
    "CREATE OR REPLACE TABLE NEO4J_PATIENT_DB.PUBLIC.PROCEDURES (\n",
    "\tSTARTDATE TIMESTAMP_NTZ(9),\n",
    "\tSTOP TIMESTAMP_NTZ(9),\n",
    "\tPATIENT VARCHAR(16777216),\n",
    "\tENCOUNTER VARCHAR(16777216),\n",
    "\tSYSTEM VARCHAR(16777216),\n",
    "\tCODE NUMBER(38,0),\n",
    "\tDESCRIPTION VARCHAR(16777216),\n",
    "\tBASE_COST NUMBER(38,2),\n",
    "\tREASONCODE NUMBER(38,0),\n",
    "\tREASONDESCRIPTION VARCHAR(16777216)\n",
    ");"
   ]
  },
  {
   "cell_type": "markdown",
   "id": "33e5dc3b-9686-492e-9c41-0116b9e1d621",
   "metadata": {},
   "source": [
    "[Stages](https://docs.snowflake.com/en/user-guide/data-load-local-file-system-create-stage.html) in snowflake are places that you can land your data before it is uploaded to a Snowflake table. You might have a batch of CSV files living on a disk driver somewhere, and, in order to start querying the data via a table, the data must be landed within the Snowflake environment for a data upload to be possible.\n",
    "\n",
    "In the exercise, we will be working with structured, comma-delimited data that has already been staged in a public, external AWS bucket. Before we can use this data, we first need to create a `Stage` that specifies the location of our external bucket."
   ]
  },
  {
   "cell_type": "code",
   "execution_count": null,
   "id": "ed9d27a7-3513-469b-a4ba-394355808aa7",
   "metadata": {},
   "outputs": [],
   "source": [
    "-- you must be accountadmin to create role and grant permissions\n",
    "USE ROLE accountadmin;"
   ]
  },
  {
   "cell_type": "code",
   "execution_count": null,
   "id": "5eb1bebe-77f0-4940-976d-ad36ede51265",
   "metadata": {},
   "outputs": [],
   "source": [
    "CREATE OR REPLACE STAGE sf_neo4j_data_stage\n",
    "  URL = 's3://neo4j-snowflake-data/patient-journey/';"
   ]
  },
  {
   "cell_type": "markdown",
   "id": "27171656-8912-4e37-8e4e-ef04f8712835",
   "metadata": {},
   "source": [
    "We also can take a look at the contents of the `sf_neo4j_data_stage` by executing the follow:\n",
    "\n",
    "```bash\n",
    "ls @sf_neo4j_data_stage;\n",
    "```"
   ]
  },
  {
   "cell_type": "code",
   "execution_count": null,
   "id": "dba0834d-fb39-4b10-b300-cdb835b2e5ce",
   "metadata": {},
   "outputs": [],
   "source": [
    "ls @sf_neo4j_data_stage;\n"
   ]
  },
  {
   "cell_type": "markdown",
   "id": "15164ab0-c86f-45c1-8e1a-3fc548f70795",
   "metadata": {},
   "source": [
    "[File Formats](https://docs.snowflake.com/en/sql-reference/sql/create-file-format.html) tell Snowflake the structure of the data coming in. The last thing that we need to do before we can load the data into our Snowflake tables is: we have to create a `File Format` that matches the data structure of the local files we want to upload. As smart as Snowflake is, its not THAT smart.\n",
    "\n",
    "For our example, our data has header columns in the CSV, so we want to skip those. A comma delimiter is the default way to delimit CSV files (hence the name), but sometimes you can choose another character. We need to give Snowflake all the details on how we have organized our data in the files we want to load in. Please execute the following code:"
   ]
  },
  {
   "cell_type": "code",
   "execution_count": null,
   "id": "e97399ed-e463-4eef-94b2-ae2e3d63dd0b",
   "metadata": {},
   "outputs": [],
   "source": [
    "CREATE OR REPLACE FILE FORMAT patientdata_ff\n",
    "  TYPE = 'CSV'\n",
    "  COMPRESSION = 'AUTO'\n",
    "  FIELD_DELIMITER = ','\n",
    "  RECORD_DELIMITER = '\\n'\n",
    "  SKIP_HEADER = 1\n",
    "  FIELD_OPTIONALLY_ENCLOSED_BY = 'NONE'\n",
    "  TRIM_SPACE = FALSE\n",
    "  ERROR_ON_COLUMN_COUNT_MISMATCH = TRUE\n",
    "  ESCAPE = 'NONE'\n",
    "  ESCAPE_UNENCLOSED_FIELD = '\\134'\n",
    "  DATE_FORMAT = 'AUTO'\n",
    "  TIMESTAMP_FORMAT = 'AUTO'\n",
    "  NULL_IF = ('\\\\N');"
   ]
  },
  {
   "cell_type": "markdown",
   "id": "233de78e-7191-4040-8939-fdc2dc5cc4b7",
   "metadata": {},
   "source": [
    "In this section, we will use a virtual [warehouse](https://docs.snowflake.com/en/user-guide/warehouses-overview.html) and the [COPY command](https://docs.snowflake.com/en/sql-reference/sql/copy-into-table.html) to initiate bulk loading of the CSV file sitting in our AWS external stage, moving it into the Snowflake table we just created.\n",
    "\n",
    "We can run a COPY command to load the data into the `NEO4J_PATIENT_DB` database we created earlier. Go ahead and execute the next set of statements in the worksheet to load the staged data into the tables:\n"
   ]
  },
  {
   "cell_type": "code",
   "execution_count": null,
   "id": "8494ce50-42a2-4d92-ac51-ad3373a99922",
   "metadata": {},
   "outputs": [],
   "source": [
    "-- you must be accountadmin to create role and grant permissions\n",
    "USE ROLE gds_user_role;"
   ]
  },
  {
   "cell_type": "code",
   "execution_count": null,
   "id": "d8c186ac-f458-4ff1-8452-85f1b9356005",
   "metadata": {},
   "outputs": [],
   "source": [
    "COPY INTO PATIENTS FROM @sf_neo4j_data_stage/Patients.csv\n",
    "  FILE_FORMAT = (FORMAT_NAME = patientdata_ff);\n",
    "\n",
    "COPY INTO PROCEDURES FROM @sf_neo4j_data_stage/Procedures.csv\n",
    "  FILE_FORMAT = (FORMAT_NAME = patientdata_ff);"
   ]
  },
  {
   "cell_type": "markdown",
   "id": "56a0b5ce-7686-4d06-891d-e000dba2011b",
   "metadata": {},
   "source": [
    "We now finally have data inside a Snowflake table that is ready to be queried on demand. We can see a sample of what data lies within our table by execute the following:\n"
   ]
  },
  {
   "cell_type": "code",
   "execution_count": null,
   "id": "c4bf4bff-8953-400b-b95d-78f3525d52ec",
   "metadata": {},
   "outputs": [],
   "source": [
    "SELECT * FROM NEO4J_PATIENT_DB.PUBLIC.PROCEDURES LIMIT 10;"
   ]
  },
  {
   "cell_type": "code",
   "execution_count": null,
   "id": "82e2cf5e-95f2-42d9-ab97-ecf08a0ef8aa",
   "metadata": {},
   "outputs": [],
   "source": [
    "\n",
    "SELECT * FROM NEO4J_PATIENT_DB.PUBLIC.PATIENTS LIMIT 10;"
   ]
  },
  {
   "cell_type": "code",
   "execution_count": null,
   "id": "40dd23a0-9656-4ebc-971d-a819d556f1cd",
   "metadata": {},
   "outputs": [],
   "source": [
    "CREATE OR REPLACE TABLE NEO4J_PATIENT_DB.PUBLIC.PATIENT_NODE_MAPPING (nodeId) AS\n",
    "SELECT DISTINCT p.ID from NEO4J_PATIENT_DB.PUBLIC.PATIENTS p;"
   ]
  },
  {
   "cell_type": "code",
   "execution_count": null,
   "id": "bd7cabdf-b9ac-4c36-b4ac-1b8e1039cdc8",
   "metadata": {},
   "outputs": [],
   "source": [
    "CREATE OR REPLACE TABLE NEO4J_PATIENT_DB.PUBLIC.PROCEDURE_NODE_MAPPING (nodeId) AS\n",
    "SELECT DISTINCT p.code from NEO4J_PATIENT_DB.PUBLIC.PROCEDURES p;"
   ]
  },
  {
   "cell_type": "code",
   "execution_count": null,
   "id": "b1293f1a-a9eb-4b20-8f53-d6ac8e1816a0",
   "metadata": {},
   "outputs": [],
   "source": [
    "\n",
    "DROP TABLE IF EXISTS NEO4J_PATIENT_DB.PUBLIC.KP_Community;\n",
    "DROP TABLE IF EXISTS NEO4J_PATIENT_DB.PUBLIC.PATIENT_PROCEDURE_SIMILARITY;\n"
   ]
  },
  {
   "cell_type": "markdown",
   "id": "de1fc97e-d082-436a-9d40-1f17d6165544",
   "metadata": {},
   "source": [
    "We will generate the patient similarity using a GDS Jaccard similarity algorithm and then we will generate communities using a GDS Louvain algorithm.\n",
    "\n",
    "1. **patients** Unique Patient Nodes\n",
    "2. **procedures** Unique Procedure Nodes\n",
    "3. **patients - procedures** Patients that had Kidney related procedures"
   ]
  },
  {
   "cell_type": "code",
   "execution_count": null,
   "id": "f0e89675-4b96-4f3a-908a-6538c2510dea",
   "metadata": {},
   "outputs": [],
   "source": [
    "// create a subset of patients that have had any of the 4 kidney disease codes\n",
    "CREATE OR REPLACE VIEW KidneyPatients_vw (nodeId) AS\n",
    "    SELECT DISTINCT PATIENT_NODE_MAPPING.NODEID as nodeId\n",
    "    FROM PROCEDURES\n",
    "            JOIN PATIENT_NODE_MAPPING ON PATIENT_NODE_MAPPING.NODEID = PROCEDURES.PATIENT \n",
    "    WHERE PROCEDURES.REASONCODE IN (431857002,46177005,161665007,698306007)\n",
    ";"
   ]
  },
  {
   "cell_type": "code",
   "execution_count": null,
   "id": "e80566f1-edd8-44a8-89f4-69e2d8140488",
   "metadata": {},
   "outputs": [],
   "source": [
    "SELECT * from NEO4J_PATIENT_DB.PUBLIC.KidneyPatients_vw;"
   ]
  },
  {
   "cell_type": "code",
   "execution_count": null,
   "id": "f82ed30a-bbe5-4267-ac44-f7f59f332320",
   "metadata": {},
   "outputs": [],
   "source": [
    "SELECT TO_CHAR(v.nodeid) from NEO4J_PATIENT_DB.PUBLIC.KIDNEYPATIENTPROCEDURES_VW v limit 10;"
   ]
  },
  {
   "cell_type": "markdown",
   "id": "580115ce-98d6-44f9-97ae-6b89e1f2238c",
   "metadata": {},
   "source": [
    "Next, create a view that represents a subset of procedures nodes in the graph.  \n",
    "This is a subset of all procedures, but includes all procedures that kidney patients have had regardless of the reason."
   ]
  },
  {
   "cell_type": "code",
   "execution_count": null,
   "id": "1c43d066-a7b3-401e-b526-2eda1c42f7a2",
   "metadata": {},
   "outputs": [],
   "source": [
    "// There are ~400K procedures - it is doubtful that the kidney patients even have used a small\n",
    "// fraction of those.  To reduce GDS memory and speed algorithm execution, we want to load\n",
    "// only those procedures that kidney patients have had.\n",
    "CREATE OR REPLACE VIEW KidneyPatientProcedures_vw (nodeId) AS\n",
    "    SELECT DISTINCT PROCEDURE_NODE_MAPPING.NODEID as nodeId\n",
    "    FROM PROCEDURES \n",
    "        JOIN PROCEDURE_NODE_MAPPING ON PROCEDURE_NODE_MAPPING.nodeId = PROCEDURES.CODE\n",
    "        JOIN KIDNEYPATIENTS_VW ON PATIENT = PROCEDURES.PATIENT\n",
    ";"
   ]
  },
  {
   "cell_type": "markdown",
   "id": "f1e6ae40-e92f-47c1-a27d-95a56d151356",
   "metadata": {},
   "source": [
    "Finally create a view that represents the relationship between the kidney patients and all the procedures they have had.  \n",
    "This will be the relationship used in the bipartite graph projection for Jaccard similarity\n"
   ]
  },
  {
   "cell_type": "code",
   "execution_count": null,
   "id": "6c21f41a-8ea9-4d60-8b80-b1d702991f27",
   "metadata": {},
   "outputs": [],
   "source": [
    "// create the relationship view of kidney patients to the procedures they have had\n",
    "CREATE OR REPLACE VIEW KidneyPatientProcedure_relationship_vw (sourceNodeId, targetNodeId) AS\n",
    "    SELECT DISTINCT PATIENT_NODE_MAPPING.NODEID as sourceNodeId, PROCEDURE_NODE_MAPPING.NODEID as targetNodeId\n",
    "    FROM PATIENT_NODE_MAPPING\n",
    "         JOIN PROCEDURES ON PROCEDURES.PATIENT = PATIENT_NODE_MAPPING.NODEID\n",
    "         JOIN PROCEDURE_NODE_MAPPING ON PROCEDURE_NODE_MAPPING.NODEID = PROCEDURES.CODE\n",
    ";"
   ]
  },
  {
   "cell_type": "markdown",
   "id": "daeea741-3c79-42b4-a261-3b13929b78f2",
   "metadata": {},
   "source": [
    "Next you will compute the Jaccard similarity and add those results to the in-memory graph (mutate).  The gds.node_similarity() function in GDS supports Jaccard (the default), Overlap or Cosine similarity methods. To reduce the noise in the graph as there will  likely be quite a bit of commonality for common conditions, you will use a similarity cutoff of 0.3 and for each node only consider the top 10 most similar patients.\n"
   ]
  },
  {
   "cell_type": "code",
   "execution_count": null,
   "id": "31616497-a1fb-4ca3-99b4-a826621b5508",
   "metadata": {},
   "outputs": [],
   "source": [
    "CALL neo4j_graph_analytics.graph.node_similarity('CPU_X64_L', {\n",
    "  'project': {\n",
    "    'defaultTablePrefix': 'neo4j_patient_db.public',\n",
    "    'nodeTables': ['KidneyPatients_vw','KidneyPatientProcedures_vw'], \n",
    "    'relationshipTables': {\n",
    "      'KidneyPatientProcedure_relationship_vw': {\n",
    "        'sourceTable': 'KidneyPatients_vw',\n",
    "        'targetTable': 'KidneyPatientProcedures_vw'\n",
    "      }\n",
    "    }\n",
    "  },\n",
    "  'compute': { 'topK': 10,\n",
    "                'similarityCutoff': 0.3,\n",
    "                'similarityMetric': 'JACCARD'\n",
    "            },\n",
    "  'write': [\n",
    "    {\n",
    "    'sourceLabel': 'KidneyPatients_vw',\n",
    "    'targetLabel': 'KidneyPatients_vw',\n",
    "    'relationshipProperty': 'similarity',\n",
    "    'outputTable':  'neo4j_patient_db.public.PATIENT_PROCEDURE_SIMILARITY'\n",
    "    }\n",
    "  ]\n",
    "});"
   ]
  },
  {
   "cell_type": "code",
   "execution_count": null,
   "id": "76b8693c-6bcd-4c79-b5d3-58fa732db7f0",
   "metadata": {},
   "outputs": [],
   "source": [
    "SELECT SOURCENODEID, TARGETNODEID, SIMILARITY\n",
    "FROM NEO4J_PATIENT_DB.PUBLIC.PATIENT_PROCEDURE_SIMILARITY \n",
    "LIMIT 10;"
   ]
  },
  {
   "cell_type": "markdown",
   "id": "624c0cd6-5f23-445f-b1a3-384f1fc096a9",
   "metadata": {},
   "source": [
    "When you write the tables back to the database, the tables are owned by the application. You will need to alter the tables so that subsequent post-processing or visualization is easier by avoiding joins to the node ID mapping tables necessary for GDS. To do this, you have to transfer ownership of the tables back to accountadmin role."
   ]
  },
  {
   "cell_type": "code",
   "execution_count": null,
   "id": "b7715e5c-f580-43fb-9917-86eb61889d8a",
   "metadata": {},
   "outputs": [],
   "source": [
    "USE ROLE ACCOUNTADMIN;\n",
    "GRANT OWNERSHIP ON TABLE NEO4J_PATIENT_DB.PUBLIC.PATIENT_PROCEDURE_SIMILARITY TO ROLE gds_user_role REVOKE CURRENT GRANTS;\n",
    "\n",
    "GRANT SELECT ON ALL TABLES IN SCHEMA NEO4J_PATIENT_DB.PUBLIC TO APPLICATION neo4j_graph_analytics;\n",
    "USE ROLE gds_user_role;"
   ]
  },
  {
   "cell_type": "code",
   "execution_count": null,
   "id": "7d8cff40-c945-45ff-b305-21fa13511512",
   "metadata": {},
   "outputs": [],
   "source": [
    "CALL neo4j_graph_analytics.graph.louvain('CPU_X64_L', {\n",
    "  'project': {\n",
    "    'defaultTablePrefix': 'neo4j_patient_db.public',\n",
    "    'nodeTables': ['KidneyPatients_vw','KidneyPatientProcedures_vw'], \n",
    "    'relationshipTables': {\n",
    "      'PATIENT_PROCEDURE_SIMILARITY': {\n",
    "        'sourceTable': 'KidneyPatients_vw',\n",
    "        'targetTable': 'KidneyPatients_vw'\n",
    "      }\n",
    "    }\n",
    "  },\n",
    "  'compute': { 'maxIterations': 50,\n",
    "                'includeIntermediateCommunities': false,\n",
    "                'relationshipWeightProperty': 'SIMILARITY'\n",
    "            },\n",
    "  'write': [\n",
    "    {\n",
    "    'nodeLabel': 'KidneyPatients_vw',\n",
    "    'outputTable': 'NEO4J_PATIENT_DB.PUBLIC.KP_Community'\n",
    "    }\n",
    "  ]\n",
    "});"
   ]
  },
  {
   "cell_type": "code",
   "execution_count": null,
   "id": "3a428469-53f6-42fd-9aed-86f5daabb51c",
   "metadata": {},
   "outputs": [],
   "source": [
    "USE ROLE ACCOUNTADMIN;\n",
    "GRANT OWNERSHIP ON TABLE NEO4J_PATIENT_DB.PUBLIC.KP_Community TO ROLE gds_user_role REVOKE CURRENT GRANTS;\n",
    "USE ROLE gds_user_role;"
   ]
  },
  {
   "cell_type": "markdown",
   "id": "955648ca-5fd5-48f2-a6c4-27708fdfbed2",
   "metadata": {},
   "source": [
    "Next you will alter the tables to add the patient ID."
   ]
  },
  {
   "cell_type": "code",
   "execution_count": null,
   "id": "e64cfce5-77f6-4227-af9a-08870694fa27",
   "metadata": {},
   "outputs": [],
   "source": [
    "ALTER TABLE NEO4J_PATIENT_DB.PUBLIC.KP_Community ADD PATIENT VARCHAR(60);\n",
    "ALTER TABLE NEO4J_PATIENT_DB.PUBLIC.PATIENT_PROCEDURE_SIMILARITY ADD SOURCE_PATIENT VARCHAR(60), TARGET_PATIENT VARCHAR(60);\n",
    "\n",
    "UPDATE KP_Community\n",
    "SET PATIENT = PATIENT_NODE_MAPPING.NODEID\n",
    "FROM PATIENT_NODE_MAPPING\n",
    "WHERE PATIENT_NODE_MAPPING.NODEID = KP_Community.NODEID;\n",
    "\n",
    "COMMIT;\n",
    "\n",
    "UPDATE PATIENT_PROCEDURE_SIMILARITY\n",
    "SET SOURCE_PATIENT = PATIENT_NODE_MAPPING.NODEID\n",
    "FROM PATIENT_NODE_MAPPING\n",
    "WHERE PATIENT_NODE_MAPPING.NODEID = PATIENT_PROCEDURE_SIMILARITY.SOURCENODEID;\n",
    "\n",
    "UPDATE PATIENT_PROCEDURE_SIMILARITY\n",
    "SET TARGET_PATIENT = PATIENT_NODE_MAPPING.NODEID\n",
    "FROM PATIENT_NODE_MAPPING\n",
    "WHERE PATIENT_NODE_MAPPING.NODEID = PATIENT_PROCEDURE_SIMILARITY.TARGETNODEID;\n",
    "\n",
    "COMMIT;"
   ]
  },
  {
   "cell_type": "code",
   "execution_count": null,
   "id": "0e269edd-99fc-4873-979c-028f194df083",
   "metadata": {},
   "outputs": [],
   "source": [
    "SELECT kc.PATIENT, p.first, p.last, p.city, p.state, kc.COMMUNITY\n",
    "FROM NEO4J_PATIENT_DB.PUBLIC.KP_Community kc\n",
    "JOIN NEO4J_PATIENT_DB.PUBLIC.PATIENTS p\n",
    "ON kc.NODEID = p.id\n",
    "ORDER BY COMMUNITY ASC;\n"
   ]
  }
 ],
 "metadata": {
  "language_info": {
   "name": "python",
   "pygments_lexer": "ipython3"
  }
 },
 "nbformat": 4,
 "nbformat_minor": 5
}
