{
 "cells": [
  {
   "cell_type": "markdown",
   "id": "3775908f-ca36-4846-8f38-5adca39217f2",
   "metadata": {
    "collapsed": false,
    "name": "cell1"
   },
   "source": [
    "# Modeling Disruptions in the MTA Subway\n",
    "## Overview\n",
    "\n",
    "### What Is Neo4j Graph Analytics For Snowflake? \n",
    "\n",
    "Neo4j helps organizations find hidden relationships and patterns across billions of data connections deeply, easily, and quickly. **Neo4j Graph Analytics for Snowflake** brings to the power of graph directly to Snowflake, allowing users to run 65+ ready-to-use algorithms on their data, all without leaving Snowflake! \n",
    "\n",
    "\n",
    "### Modeling Disruptions in the MTA Subway\n",
    "\n",
    "3.6 million Americans ride the New York City subway each day. That's 1.3 million more people than who takes a flight each day in the United States. The New York City Subway is unique in the number of riders, stations, and the level of service it provides.\n",
    "\n",
    "Using Aura Graph Analytics, we can easily model what would happen if a station was fully closed for repairs. Insights like this can apply not just to transport systems, but to supply chains, manufacturing processes and much more.\n",
    "\n",
    "### Prerequisites\n",
    "- The Native App [Neo4j Graph Analytics](https://app.snowflake.com/marketplace/listing/GZTDZH40CN) for Snowflake\n",
    "  \n",
    "### What You Will Need\n",
    "- A [Snowflake account](https://signup.snowflake.com/?utm_cta=quickstarts) with appropriate access to databases and schemas.\n",
    "- Neo4j Graph Analytics application installed from the Snowflake marketplace. Access the marketplace via the menu bar on the left hand side of your screen, as seen below:\n",
    "![image](assets/marketplace.png)\n",
    "\n",
    "### What You Will Build\n",
    "- A method to identify communities that are at high risk of fraud in P2P networks\n",
    "  \n",
    "### What You Will Learn\n",
    "- How to prepare and project your data for graph analytics\n",
    "- How to use community detection to identify fraud\n",
    "- How to read and write directly from and to your snowflake tables\n",
    "\n"
   ]
  },
  {
   "cell_type": "markdown",
   "id": "9034ed4c-cdbc-4552-a2e7-80457979d44b",
   "metadata": {
    "collapsed": false,
    "name": "cell13"
   },
   "source": [
    "## Loading The Data\n",
    "Dataset overview : This dataset is a digital twin of the NYC Subway!\n",
    "\n",
    "\n",
    "Let's name our database `MTA`. Using the CSVs found [here](https://github.com/neo4j-product-examples/aura-graph-analytics/tree/main/mta_subways/data), We are going to add two new tables:\n",
    "\n",
    "- One called `STATIONS` based on stations.csv\n",
    "- One called `LINES` based` on lines.csv\n",
    "\n",
    "Follow the steps found [here](https://docs.snowflake.com/en/user-guide/data-load-web-ui) to load in your data.\n"
   ]
  },
  {
   "cell_type": "markdown",
   "id": "8d50cbf4-0c8d-4950-86cb-114990437ac9",
   "metadata": {
    "collapsed": false,
    "name": "cell2"
   },
   "source": [
    "## Setting Up\n",
    "\n",
    "### Import The Notebook\n",
    "- We’ve provided a Colab notebook to walk you through each SQL and Python step—no local setup required!\n",
    "- Download the .ipynb found [here](https://github.com/neo4j-product-examples/snowflake-graph-analytics/tree/main/QuickStarts/Python%20Notebooks), and import the notebook into snowflake.\n",
    "  ![image](assets/followalong.png)\n",
    "- Don't forget to install streamlit and python package before you run.\n",
    "\n",
    "### Permissions\n",
    "Before we run our algorithms, we need to set the proper permissions. But before we get started granting different roles, we need to ensure that you are using `accountadmin` to grant and create roles. Lets do that now:"
   ]
  },
  {
   "cell_type": "code",
   "execution_count": null,
   "id": "c695373e-ac74-4b62-a1f1-08206cbd5c81",
   "metadata": {
    "language": "sql",
    "name": "cell3"
   },
   "outputs": [],
   "source": [
    "USE ROLE accountadmin;"
   ]
  },
  {
   "cell_type": "markdown",
   "id": "0da281f7-0e47-4f0f-965d-7ace645de22e",
   "metadata": {
    "collapsed": false,
    "name": "cell4"
   },
   "source": [
    "Next let's set up the necessary roles, permissions, and resource access to enable Graph Analytics to operate on data within the `mta.public schema`. It creates a consumer role (gds_user_role) for users and administrators, grants the Neo4j Graph Analytics application access to read from and write to tables and views, and ensures that future tables are accessible. \n",
    "\n",
    "It also provides the application with access to the required compute pool and warehouse resources needed to run graph algorithms at scale."
   ]
  },
  {
   "cell_type": "code",
   "execution_count": null,
   "id": "07c8c3e3-49e9-41a3-a0cf-855bff28bc71",
   "metadata": {
    "language": "sql",
    "name": "cell5"
   },
   "outputs": [],
   "source": [
    "-- Create a consumer role for users and admins of the GDS application\n",
    "CREATE ROLE IF NOT EXISTS gds_user_role;\n",
    "CREATE ROLE IF NOT EXISTS gds_admin_role;\n",
    "GRANT APPLICATION ROLE neo4j_graph_analytics.app_user TO ROLE gds_user_role;\n",
    "GRANT APPLICATION ROLE neo4j_graph_analytics.app_admin TO ROLE gds_admin_role;\n",
    "\n",
    "CREATE DATABASE ROLE IF NOT EXISTS gds_db_role;\n",
    "GRANT DATABASE ROLE gds_db_role TO ROLE gds_user_role;\n",
    "GRANT DATABASE ROLE gds_db_role TO APPLICATION neo4j_graph_analytics;\n",
    "\n",
    "-- Grant access to consumer data\n",
    "GRANT USAGE ON DATABASE MTA TO ROLE gds_user_role;\n",
    "GRANT USAGE ON SCHEMA MTA.PUBLIC TO ROLE gds_user_role;\n",
    "\n",
    "-- Required to read tabular data into a graph\n",
    "GRANT SELECT ON ALL TABLES IN DATABASE MTA TO DATABASE ROLE gds_db_role;\n",
    "\n",
    "-- Ensure the consumer role has access to created tables/views\n",
    "GRANT ALL PRIVILEGES ON FUTURE TABLES IN SCHEMA MTA.PUBLIC TO DATABASE ROLE gds_db_role;\n",
    "GRANT ALL PRIVILEGES ON ALL TABLES IN SCHEMA MTA.PUBLIC TO DATABASE ROLE gds_db_role;\n",
    "GRANT CREATE TABLE ON SCHEMA MTA.PUBLIC TO DATABASE ROLE gds_db_role;\n",
    "GRANT CREATE VIEW ON SCHEMA MTA.PUBLIC TO DATABASE ROLE gds_db_role;\n",
    "GRANT ALL PRIVILEGES ON FUTURE VIEWS IN SCHEMA MTA.PUBLIC TO DATABASE ROLE gds_db_role;\n",
    "GRANT ALL PRIVILEGES ON ALL VIEWS IN SCHEMA MTA.PUBLIC TO DATABASE ROLE gds_db_role;\n",
    "\n",
    "-- Compute and warehouse access\n",
    "GRANT USAGE ON WAREHOUSE NEO4J_GRAPH_ANALYTICS_APP_WAREHOUSE TO APPLICATION neo4j_graph_analytics;"
   ]
  },
  {
   "cell_type": "markdown",
   "id": "b95c48b1-21be-41b7-a366-cc26a865e323",
   "metadata": {
    "collapsed": false,
    "name": "cell6"
   },
   "source": [
    "Then we need to switch the role we created:"
   ]
  },
  {
   "cell_type": "code",
   "execution_count": null,
   "id": "2baeae7e-f42b-443c-8c9d-d4d84e04361b",
   "metadata": {
    "language": "sql",
    "name": "cell7"
   },
   "outputs": [],
   "source": [
    "USE ROLE gds_user_role;"
   ]
  },
  {
   "cell_type": "markdown",
   "id": "93705b6c-b598-4571-bcdf-fcec9417f021",
   "metadata": {
    "collapsed": false,
    "name": "cell8"
   },
   "source": [
    "## Cleaning Our Data\n",
    "Duration: 5\n",
    "\n",
    "We need our data to be in a particular format in order to work with Graph Analytics. In general it should be like so:\n",
    "\n",
    "### For The Table Representing Nodes:\n",
    "\n",
    "The first column should be called `nodeId`, which represents the ids for the each node in our graph\n",
    "\n",
    "### For The table Representing Relationships:\n",
    "\n",
    "We need to have columns called `sourceNodeId` and `targetNodeId`. These will tell Graph Analytics the direction of the relationships, which in this case means:\n",
    "- The starting station (sourceNodeId) and\n",
    "- The ending station (targetNodeId)\n"
   ]
  },
  {
   "cell_type": "code",
   "execution_count": null,
   "id": "cd1c125a-09fc-404c-84c6-7a067a707b0d",
   "metadata": {
    "codeCollapsed": false,
    "language": "sql",
    "name": "cell26"
   },
   "outputs": [],
   "source": [
    "select *  FROM mta.public.lines;"
   ]
  },
  {
   "cell_type": "code",
   "execution_count": null,
   "id": "1a0679f8-26c9-4be4-83f2-2928377d14de",
   "metadata": {
    "language": "sql",
    "name": "cell12"
   },
   "outputs": [],
   "source": [
    "CREATE OR REPLACE TABLE mta.public.nodes AS\n",
    "SELECT \n",
    "  id AS nodeid\n",
    "FROM mta.public.stations;"
   ]
  },
  {
   "cell_type": "code",
   "execution_count": null,
   "id": "82df9ab1-40ec-4abe-892e-eb8d4e6ebc9b",
   "metadata": {
    "language": "sql",
    "name": "cell14"
   },
   "outputs": [],
   "source": [
    "CREATE OR REPLACE TABLE mta.public.relationships AS\n",
    "SELECT \n",
    "    sourcenodeid,\n",
    "    targetnodeid\n",
    "FROM mta.public.lines;"
   ]
  },
  {
   "cell_type": "markdown",
   "id": "940406c7-5f56-4f77-b156-91cbc82f0747",
   "metadata": {
    "collapsed": false,
    "name": "cell9"
   },
   "source": [
    "## Running Your Algorithms\n",
    "Duration: 10\n",
    "\n",
    "Now we are finally at the step where we create a projection, run our algorithms, and write back to snowflake. We will run louvain to determine communities within our data. Louvain identifies communities by grouping together nodes that have more connections to each other than to nodes outside the group.\n",
    "\n",
    "You can find more information about writing this function in our [documentation](https://neo4j.com/docs/snowflake-graph-analytics/current/getting-started/).\n",
    "\n",
    "But broadly, you will need a few things:\n",
    "| Name                                      | Description                                                 | Our Value                                      |\n",
    "|-------------------------------------------|-------------------------------------------------------------|------------------------------------------------|\n",
    "| `EXAMPLE_DB.DATA_SCHEMA.NODES`           | A table for nodes                             | `mta.public.nodes`                 |\n",
    "| `EXAMPLE_DB.DATA_SCHEMA.RELATIONSHIPS`   | A table for relationships                   | `mta.public.relationships`         |\n",
    "| `COMPUTE_POOL`                            | The size of the compute pool you would like to use| `CPU_X64_XS`                              |\n",
    "| `EXAMPLE_DB.DATA_SCHEMA.NODES_COMPONENTS`| A table to output results                    | `mta.public.paths`             |\n",
    "| `NODES`                                   | A node label for our nodes                   | `nodes`                                 |\n",
    "\n"
   ]
  },
  {
   "cell_type": "code",
   "execution_count": null,
   "id": "b943228a-91b1-464a-8085-198496b0b061",
   "metadata": {
    "language": "sql",
    "name": "cell10"
   },
   "outputs": [],
   "source": [
    "CALL neo4j_graph_analytics.graph.dijkstra('CPU_X64_L', {\n",
    "'defaultTablePrefix': 'mta.public',\n",
    "  'project': {\n",
    "    'nodeTables': ['nodes'], \n",
    "    'relationshipTables': {\n",
    "      'relationships': {\n",
    "        'sourceTable': 'nodes',\n",
    "        'targetTable': 'nodes'\n",
    "      }\n",
    "    }\n",
    "  },\n",
    "  'compute': { 'sourceNode': 68,\n",
    "                'targetNode': 24,\n",
    "                'sourceNodeTable': 'nodes',\n",
    "               'targetNodeTable': 'nodes' \n",
    "            },\n",
    "  'write': [\n",
    "    {\n",
    "    'sourceLabel': 'nodes',\n",
    "    'targetLabel': 'nodes',\n",
    "    'outputTable':  'mta.public.paths'\n",
    "    }\n",
    "  ]\n",
    "});"
   ]
  },
  {
   "cell_type": "code",
   "execution_count": null,
   "id": "48f65a04-c60e-4930-902a-0fc2b52b1b05",
   "metadata": {
    "language": "sql",
    "name": "cell15"
   },
   "outputs": [],
   "source": [
    "select * from mta.public.paths"
   ]
  },
  {
   "cell_type": "markdown",
   "id": "0cc9ae08-5e47-4f52-8faa-778692f4732d",
   "metadata": {
    "collapsed": false,
    "name": "cell17"
   },
   "source": [
    "We can then use a simple SQL query to take our numeric nodeids and return the stations in order:"
   ]
  },
  {
   "cell_type": "code",
   "execution_count": null,
   "id": "c9e91561-0b80-4a77-887b-e48b17cd159e",
   "metadata": {
    "language": "sql",
    "name": "cell16"
   },
   "outputs": [],
   "source": [
    "WITH flattened AS (\n",
    "  SELECT \n",
    "    VALUE::NUMBER AS nodeid,\n",
    "    INDEX AS ordering\n",
    "  FROM mta.public.paths,\n",
    "       LATERAL FLATTEN(input => nodeids)\n",
    "),\n",
    "filtered AS (\n",
    "  SELECT s.*, f.ordering\n",
    "  FROM mta.public.stations s\n",
    "  JOIN flattened f ON s.id = f.nodeid\n",
    ")\n",
    "SELECT *\n",
    "FROM filtered\n",
    "ORDER BY ordering;"
   ]
  },
  {
   "cell_type": "markdown",
   "id": "4cef68f6-1c96-4194-8d52-ebe8cc49de16",
   "metadata": {
    "collapsed": false,
    "name": "cell18"
   },
   "source": [
    "## Modeling a Disruption\n",
    "Duration: 15\n",
    "\n",
    "But what would happen if one of those stations were closed? How can we model what would be the new path? Luckily it will be pretty simple. \n",
    "\n",
    "First we need to filter out the station that is closed from our nodes and relationships tables. Let's say that Herald Square is closed:"
   ]
  },
  {
   "cell_type": "code",
   "execution_count": null,
   "id": "7890e6d5-3de4-4170-9f8f-6b73411f3c41",
   "metadata": {
    "language": "sql",
    "name": "cell19"
   },
   "outputs": [],
   "source": [
    "CREATE OR REPLACE TABLE mta.public.nodes_f AS\n",
    "SELECT *\n",
    "FROM mta.public.nodes\n",
    "WHERE nodeid != 230;"
   ]
  },
  {
   "cell_type": "code",
   "execution_count": null,
   "id": "de66a041-299c-47ed-9cf7-315f7e923d56",
   "metadata": {
    "language": "sql",
    "name": "cell20"
   },
   "outputs": [],
   "source": [
    "CREATE OR REPLACE TABLE mta.public.relationships_f AS\n",
    "SELECT *\n",
    "FROM mta.public.relationships\n",
    "WHERE sourcenodeid != 230 and targetnodeid != 230;"
   ]
  },
  {
   "cell_type": "markdown",
   "id": "a2927334-d94d-47cc-9a49-dd35b51c9b35",
   "metadata": {
    "collapsed": false,
    "name": "cell22"
   },
   "source": [
    "Then we use those new tables when we run our algorithm:"
   ]
  },
  {
   "cell_type": "code",
   "execution_count": null,
   "id": "638c12c2-db2e-4d63-bd80-faaf34c8290c",
   "metadata": {
    "language": "sql",
    "name": "cell21"
   },
   "outputs": [],
   "source": [
    "CALL neo4j_graph_analytics.graph.dijkstra('CPU_X64_L', {\n",
    "'defaultTablePrefix': 'mta.public',\n",
    "  'project': {\n",
    "    'nodeTables': ['nodes_f'], \n",
    "    'relationshipTables': {\n",
    "      'relationships_f': {\n",
    "        'sourceTable': 'nodes_f',\n",
    "        'targetTable': 'nodes_f'\n",
    "      }\n",
    "    }\n",
    "  },\n",
    "  'compute': { 'sourceNode': 68,\n",
    "                'targetNode': 24, \n",
    "                'sourceNodeTable': 'nodes_f'\n",
    "            },\n",
    "  'write': [\n",
    "    {\n",
    "    'sourceLabel': 'nodes_f',\n",
    "    'targetLabel': 'nodes_f',\n",
    "    'outputTable':  'mta.public.paths_f'\n",
    "    }\n",
    "  ]\n",
    "});"
   ]
  },
  {
   "cell_type": "markdown",
   "id": "d30e18f2-d138-4ff0-8853-1033c6b22cc2",
   "metadata": {
    "collapsed": false,
    "name": "cell24"
   },
   "source": [
    "And then we can pull back our results like so:"
   ]
  },
  {
   "cell_type": "code",
   "execution_count": null,
   "id": "aaa340c9-76e5-479a-be39-953c082cb70a",
   "metadata": {
    "language": "sql",
    "name": "cell23"
   },
   "outputs": [],
   "source": [
    "WITH flattened AS (\n",
    "  SELECT \n",
    "    VALUE::NUMBER AS nodeid,\n",
    "    INDEX AS ordering\n",
    "  FROM mta.public.paths_f,\n",
    "       LATERAL FLATTEN(input => nodeids)\n",
    "),\n",
    "filtered AS (\n",
    "  SELECT s.*, f.ordering\n",
    "  FROM mta.public.stations s\n",
    "  JOIN flattened f ON s.id = f.nodeid\n",
    ")\n",
    "SELECT *\n",
    "FROM filtered\n",
    "ORDER BY ordering;"
   ]
  },
  {
   "cell_type": "markdown",
   "id": "a555678e-2319-4acf-aed0-fa7284cb0898",
   "metadata": {
    "collapsed": false,
    "name": "cell11"
   },
   "source": [
    "##  Conclusions And Resources\n",
    "Duration: 2\n",
    "\n",
    "In this quickstart, you learned how to bring the power of graph insights into Snowflake using Neo4j Graph Analytics. \n",
    "\n",
    "### What You Learned\n",
    "By working with a our NYC Subway dataset, you were able to:\n",
    "\n",
    "1. Set up the [Neo4j Graph Analytics](https://app.snowflake.com/marketplace/listing/GZTDZH40CN/neo4j-neo4j-graph-analytics) application within Snowflake.\n",
    "2. Prepare and project your data into a graph model (stations as nodes, lines as relationships).\n",
    "3. Ran dijkstra to find the shortest path between two stations and to model alternative routes if a station was closed\n",
    "\n",
    "### Resources\n",
    "\n",
    "- [Neo4j Graph Analytics Documentation](https://neo4j.com/docs/snowflake-graph-analytics/)\n",
    "- [Installing Neo4j Graph Analytics on SPCS](https://neo4j.com/docs/snowflake-graph-analytics/installation/)\n"
   ]
  }
 ],
 "metadata": {
  "kernelspec": {
   "display_name": "Streamlit Notebook",
   "name": "streamlit"
  },
  "lastEditStatus": {
   "authorEmail": "corydon.baylor@neo4j.com",
   "authorId": "3020319158773",
   "authorName": "CBAYLOR",
   "lastEditTime": 1750957514646,
   "notebookId": "rgkcpjb3u7evmpfom2ez",
   "sessionId": "df0b1089-f290-4f21-9445-e36b174dbc7c"
  }
 },
 "nbformat": 4,
 "nbformat_minor": 5
}
