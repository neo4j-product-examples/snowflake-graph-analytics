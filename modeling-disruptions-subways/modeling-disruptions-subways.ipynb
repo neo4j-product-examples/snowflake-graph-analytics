{
 "metadata": {
  "kernelspec": {
   "display_name": "Streamlit Notebook",
   "name": "streamlit"
  },
  "lastEditStatus": {
   "notebookId": "rgkcpjb3u7evmpfom2ez",
   "authorId": "3020319158773",
   "authorName": "CBAYLOR",
   "authorEmail": "corydon.baylor@neo4j.com",
   "sessionId": "0b0714cf-f23e-4b6f-87eb-55cbe0b62760",
   "lastEditTime": 1753391913660
  }
 },
 "nbformat_minor": 5,
 "nbformat": 4,
 "cells": [
  {
   "cell_type": "markdown",
   "id": "3775908f-ca36-4846-8f38-5adca39217f2",
   "metadata": {
    "name": "cell1",
    "collapsed": false
   },
   "source": "# Modeling Disruptions in the MTA Subway\n## Overview\n\n### What Is Neo4j Graph Analytics For Snowflake? \n\nNeo4j helps organizations find hidden relationships and patterns across billions of data connections deeply, easily, and quickly. **Neo4j Graph Analytics for Snowflake** brings to the power of graph directly to Snowflake, allowing users to run 65+ ready-to-use algorithms on their data, all without leaving Snowflake! \n\n\n### Modeling Disruptions in the MTA Subway\n\n3.6 million Americans ride the New York City subway each day. That's 1.3 million more people than who takes a flight each day in the United States. The New York City Subway is unique in the number of riders, stations, and the level of service it provides.\n\nUsing Aura Graph Analytics, we can easily model what would happen if a station was fully closed for repairs. Insights like this can apply not just to transport systems, but to supply chains, manufacturing processes and much more.\n\n### Prerequisites\n- The Native App [Neo4j Graph Analytics](https://app.snowflake.com/marketplace/listing/GZTDZH40CN) for Snowflake\n  \n### What You Will Need\n- A [Snowflake account](https://signup.snowflake.com/?utm_cta=quickstarts) with appropriate access to databases and schemas.\n- Neo4j Graph Analytics application installed from the Snowflake marketplace. Access the marketplace via the menu bar on the left hand side of your screen, as seen below:\n![image](assets/marketplace.png)\n\n### What You Will Build\n- A method to identify communities that are at high risk of fraud in P2P networks\n  \n### What You Will Learn\n- How to prepare and project your data for graph analytics\n- How to use community detection to identify fraud\n- How to read and write directly from and to your snowflake tables\n\n"
  },
  {
   "cell_type": "markdown",
   "id": "9034ed4c-cdbc-4552-a2e7-80457979d44b",
   "metadata": {
    "name": "cell13",
    "collapsed": false
   },
   "source": "## Loading The Data\nDataset overview : This dataset is a digital twin of the NYC Subway!\n\n\nLet's name our database `MTA`. Using the CSVs found [here](https://github.com/neo4j-product-examples/aura-graph-analytics/tree/main/mta_subways/data), We are going to add two new tables:\n\n- One called `STATIONS` based on stations.csv\n- One called `LINES` based` on lines.csv\n\nFollow the steps found [here](https://docs.snowflake.com/en/user-guide/data-load-web-ui) to load in your data.\n"
  },
  {
   "cell_type": "markdown",
   "id": "8d50cbf4-0c8d-4950-86cb-114990437ac9",
   "metadata": {
    "name": "cell2",
    "collapsed": false
   },
   "source": "## Setting Up\n\n### Import The Notebook\n- We’ve provided a Colab notebook to walk you through each SQL and Python step—no local setup required!\n- Download the .ipynb found [here](https://github.com/neo4j-product-examples/snowflake-graph-analytics/tree/main/QuickStarts/Python%20Notebooks), and import the notebook into snowflake.\n  ![image](assets/followalong.png)\n- Don't forget to install streamlit and python package before you run.\n\n### Permissions\nBefore we run our algorithms, we need to set the proper permissions. But before we get started granting different roles, we need to ensure that you are using `accountadmin` to grant and create roles. Lets do that now:"
  },
  {
   "cell_type": "code",
   "id": "c695373e-ac74-4b62-a1f1-08206cbd5c81",
   "metadata": {
    "language": "sql",
    "name": "cell3"
   },
   "source": "USE ROLE accountadmin;",
   "execution_count": null,
   "outputs": []
  },
  {
   "cell_type": "markdown",
   "id": "0da281f7-0e47-4f0f-965d-7ace645de22e",
   "metadata": {
    "name": "cell4",
    "collapsed": false
   },
   "source": "Next let's set up the necessary roles, permissions, and resource access to enable Graph Analytics to operate on data within the `mta.public schema`. It creates a consumer role (gds_user_role) for users and administrators, grants the Neo4j Graph Analytics application access to read from and write to tables and views, and ensures that future tables are accessible. \n\nIt also provides the application with access to the required compute pool and warehouse resources needed to run graph algorithms at scale."
  },
  {
   "cell_type": "code",
   "id": "07c8c3e3-49e9-41a3-a0cf-855bff28bc71",
   "metadata": {
    "language": "sql",
    "name": "cell5"
   },
   "outputs": [],
   "source": "-- Create a consumer role for users and admins of the GDS application\nCREATE ROLE IF NOT EXISTS gds_user_role;\nCREATE ROLE IF NOT EXISTS gds_admin_role;\nGRANT APPLICATION ROLE neo4j_graph_analytics.app_user TO ROLE gds_user_role;\nGRANT APPLICATION ROLE neo4j_graph_analytics.app_admin TO ROLE gds_admin_role;\n\nCREATE DATABASE ROLE IF NOT EXISTS gds_db_role;\nGRANT DATABASE ROLE gds_db_role TO ROLE gds_user_role;\nGRANT DATABASE ROLE gds_db_role TO APPLICATION neo4j_graph_analytics;\n\n-- Grant access to consumer data\nGRANT USAGE ON DATABASE MTA TO ROLE gds_user_role;\nGRANT USAGE ON SCHEMA MTA.PUBLIC TO ROLE gds_user_role;\n\n-- Required to read tabular data into a graph\nGRANT SELECT ON ALL TABLES IN DATABASE MTA TO DATABASE ROLE gds_db_role;\n\n-- Ensure the consumer role has access to created tables/views\nGRANT ALL PRIVILEGES ON FUTURE TABLES IN SCHEMA MTA.PUBLIC TO DATABASE ROLE gds_db_role;\nGRANT ALL PRIVILEGES ON ALL TABLES IN SCHEMA MTA.PUBLIC TO DATABASE ROLE gds_db_role;\nGRANT CREATE TABLE ON SCHEMA MTA.PUBLIC TO DATABASE ROLE gds_db_role;\nGRANT CREATE VIEW ON SCHEMA MTA.PUBLIC TO DATABASE ROLE gds_db_role;\nGRANT ALL PRIVILEGES ON FUTURE VIEWS IN SCHEMA MTA.PUBLIC TO DATABASE ROLE gds_db_role;\nGRANT ALL PRIVILEGES ON ALL VIEWS IN SCHEMA MTA.PUBLIC TO DATABASE ROLE gds_db_role;\n\n-- Compute and warehouse access\nGRANT USAGE ON WAREHOUSE NEO4J_GRAPH_ANALYTICS_APP_WAREHOUSE TO APPLICATION neo4j_graph_analytics;",
   "execution_count": null
  },
  {
   "cell_type": "markdown",
   "id": "b95c48b1-21be-41b7-a366-cc26a865e323",
   "metadata": {
    "name": "cell6",
    "collapsed": false
   },
   "source": "Then we need to switch the role we created:"
  },
  {
   "cell_type": "code",
   "id": "2baeae7e-f42b-443c-8c9d-d4d84e04361b",
   "metadata": {
    "language": "sql",
    "name": "cell7"
   },
   "outputs": [],
   "source": "USE ROLE gds_user_role;",
   "execution_count": null
  },
  {
   "cell_type": "markdown",
   "id": "93705b6c-b598-4571-bcdf-fcec9417f021",
   "metadata": {
    "name": "cell8",
    "collapsed": false
   },
   "source": "## Cleaning Our Data\nDuration: 5\n\nWe need our data to be in a particular format in order to work with Graph Analytics. In general it should be like so:\n\n### For The Table Representing Nodes:\n\nThe first column should be called `nodeId`, which represents the ids for the each node in our graph\n\n### For The table Representing Relationships:\n\nWe need to have columns called `sourceNodeId` and `targetNodeId`. These will tell Graph Analytics the direction of the relationships, which in this case means:\n- The starting station (sourceNodeId) and\n- The ending station (targetNodeId)\n"
  },
  {
   "cell_type": "code",
   "id": "cd1c125a-09fc-404c-84c6-7a067a707b0d",
   "metadata": {
    "language": "sql",
    "name": "cell26",
    "codeCollapsed": false
   },
   "outputs": [],
   "source": "select *  FROM mta.public.lines;",
   "execution_count": null
  },
  {
   "cell_type": "code",
   "id": "1a0679f8-26c9-4be4-83f2-2928377d14de",
   "metadata": {
    "language": "sql",
    "name": "cell12"
   },
   "outputs": [],
   "source": "CREATE OR REPLACE TABLE mta.public.nodes AS\nSELECT \n  id AS nodeid\nFROM mta.public.stations;",
   "execution_count": null
  },
  {
   "cell_type": "code",
   "id": "82df9ab1-40ec-4abe-892e-eb8d4e6ebc9b",
   "metadata": {
    "language": "sql",
    "name": "cell14"
   },
   "outputs": [],
   "source": "CREATE OR REPLACE TABLE mta.public.relationships AS\nSELECT \n    sourcenodeid,\n    targetnodeid\nFROM mta.public.lines;",
   "execution_count": null
  },
  {
   "cell_type": "markdown",
   "id": "48a25bec-7a1f-412f-94e0-c9640e0b3aaf",
   "metadata": {
    "name": "cell25",
    "collapsed": false
   },
   "source": "## Visualizing Our Graph\nAt this point, you may want to visualize your graph to get a better understanding of how everything fits together. We can do this in two easy steps. Similarly to how we will project graphs for our graph algorithms, we need to specify what are the node and relationship tables:"
  },
  {
   "cell_type": "markdown",
   "id": "466698ad-6557-47fe-b34f-ab78b96a5038",
   "metadata": {
    "name": "cell28",
    "collapsed": false
   },
   "source": "We can access the output of the previous cell by referencing its cell name, in this case cell1. In our next Python notebook cell, we extract the HTML/JavaScript string we want by interpreting the cell1 output as a Pandas DataFrame, then accessing the first row of the \"VISUALIZE\" column."
  },
  {
   "cell_type": "markdown",
   "id": "940406c7-5f56-4f77-b156-91cbc82f0747",
   "metadata": {
    "name": "cell9",
    "collapsed": false
   },
   "source": "## Running Your Algorithms\nDuration: 10\n\nNow we are finally at the step where we create a projection, run our algorithms, and write back to snowflake. We will run louvain to determine communities within our data. Louvain identifies communities by grouping together nodes that have more connections to each other than to nodes outside the group.\n\nYou can find more information about writing this function in our [documentation](https://neo4j.com/docs/snowflake-graph-analytics/current/getting-started/).\n\nBut broadly, you will need a few things:\n| Name                                      | Description                                                 | Our Value                                      |\n|-------------------------------------------|-------------------------------------------------------------|------------------------------------------------|\n| `EXAMPLE_DB.DATA_SCHEMA.NODES`           | A table for nodes                             | `mta.public.nodes`                 |\n| `EXAMPLE_DB.DATA_SCHEMA.RELATIONSHIPS`   | A table for relationships                   | `mta.public.relationships`         |\n| `COMPUTE_POOL`                            | The size of the compute pool you would like to use| `CPU_X64_XS`                              |\n| `EXAMPLE_DB.DATA_SCHEMA.NODES_COMPONENTS`| A table to output results                    | `mta.public.paths`             |\n| `NODES`                                   | A node label for our nodes                   | `nodes`                                 |\n\n"
  },
  {
   "cell_type": "code",
   "id": "b943228a-91b1-464a-8085-198496b0b061",
   "metadata": {
    "language": "sql",
    "name": "cell10"
   },
   "outputs": [],
   "source": "CALL neo4j_graph_analytics.graph.dijkstra('CPU_X64_L', {\n'defaultTablePrefix': 'mta.public',\n  'project': {\n    'nodeTables': ['nodes'], \n    'relationshipTables': {\n      'relationships': {\n        'sourceTable': 'nodes',\n        'targetTable': 'nodes'\n      }\n    }\n  },\n  'compute': { 'sourceNode': 68,\n                'targetNode': 24,\n                'sourceNodeTable': 'nodes',\n               'targetNodeTable': 'nodes' \n            },\n  'write': [\n    {\n    'sourceLabel': 'nodes',\n    'targetLabel': 'nodes',\n    'outputTable':  'mta.public.paths'\n    }\n  ]\n});",
   "execution_count": null
  },
  {
   "cell_type": "code",
   "id": "48f65a04-c60e-4930-902a-0fc2b52b1b05",
   "metadata": {
    "language": "sql",
    "name": "cell15"
   },
   "outputs": [],
   "source": "select * from mta.public.paths",
   "execution_count": null
  },
  {
   "cell_type": "markdown",
   "id": "0cc9ae08-5e47-4f52-8faa-778692f4732d",
   "metadata": {
    "name": "cell17",
    "collapsed": false
   },
   "source": "We can then use a simple SQL query to take our numeric nodeids and return the stations in order:"
  },
  {
   "cell_type": "code",
   "id": "c9e91561-0b80-4a77-887b-e48b17cd159e",
   "metadata": {
    "language": "sql",
    "name": "cell16"
   },
   "outputs": [],
   "source": "WITH flattened AS (\n  SELECT \n    VALUE::NUMBER AS nodeid,\n    INDEX AS ordering\n  FROM mta.public.paths,\n       LATERAL FLATTEN(input => nodeids)\n),\nfiltered AS (\n  SELECT s.*, f.ordering\n  FROM mta.public.stations s\n  JOIN flattened f ON s.id = f.nodeid\n)\nSELECT *\nFROM filtered\nORDER BY ordering;",
   "execution_count": null
  },
  {
   "cell_type": "code",
   "id": "dee3e5a5-753e-49e6-8cda-a49f762d5635",
   "metadata": {
    "language": "sql",
    "name": "cell32"
   },
   "outputs": [],
   "source": "-- View for filtered nodes\nCREATE OR REPLACE VIEW mta.public.filtered_nodes AS\nWITH path_nodes AS (\n  SELECT VALUE::STRING AS nodeid\n  FROM mta.public.paths,\n       LATERAL FLATTEN(input => nodeids) \n)\nSELECT *\nFROM mta.public.nodes\nWHERE CAST(nodeid AS STRING) IN (SELECT nodeid FROM path_nodes);\n\n-- View for filtered relationships\nCREATE OR REPLACE VIEW mta.public.filtered_relationships AS\nWITH path_nodes AS (\n  SELECT VALUE::STRING AS nodeid\n  FROM mta.public.paths,\n       LATERAL FLATTEN(input => nodeids) \n)\nSELECT *\nFROM mta.public.relationships\nWHERE CAST(sourcenodeid AS STRING) IN (SELECT nodeid FROM path_nodes)\n  AND CAST(targetnodeid AS STRING) IN (SELECT nodeid FROM path_nodes);",
   "execution_count": null
  },
  {
   "cell_type": "code",
   "id": "4749d5e1-ad16-4903-8189-56175584d956",
   "metadata": {
    "language": "sql",
    "name": "cell34"
   },
   "outputs": [],
   "source": "select * from mta.public.filtered_relationships",
   "execution_count": null
  },
  {
   "cell_type": "markdown",
   "id": "4cef68f6-1c96-4194-8d52-ebe8cc49de16",
   "metadata": {
    "name": "cell18",
    "collapsed": false
   },
   "source": "## Modeling a Disruption\nDuration: 15\n\nBut what would happen if one of those stations were closed? How can we model what would be the new path? Luckily it will be pretty simple. \n\nFirst we need to filter out the station that is closed from our nodes and relationships tables. Let's say that Herald Square is closed:"
  },
  {
   "cell_type": "code",
   "id": "7890e6d5-3de4-4170-9f8f-6b73411f3c41",
   "metadata": {
    "language": "sql",
    "name": "cell19"
   },
   "outputs": [],
   "source": "CREATE OR REPLACE TABLE mta.public.nodes_f AS\nSELECT *\nFROM mta.public.nodes\nWHERE nodeid != 230;",
   "execution_count": null
  },
  {
   "cell_type": "code",
   "id": "de66a041-299c-47ed-9cf7-315f7e923d56",
   "metadata": {
    "language": "sql",
    "name": "cell20"
   },
   "outputs": [],
   "source": "CREATE OR REPLACE TABLE mta.public.relationships_f AS\nSELECT *\nFROM mta.public.relationships\nWHERE sourcenodeid != 230 and targetnodeid != 230;",
   "execution_count": null
  },
  {
   "cell_type": "markdown",
   "id": "a2927334-d94d-47cc-9a49-dd35b51c9b35",
   "metadata": {
    "name": "cell22",
    "collapsed": false
   },
   "source": "Then we use those new tables when we run our algorithm:"
  },
  {
   "cell_type": "code",
   "id": "638c12c2-db2e-4d63-bd80-faaf34c8290c",
   "metadata": {
    "language": "sql",
    "name": "cell21"
   },
   "outputs": [],
   "source": "CALL neo4j_graph_analytics.graph.dijkstra('CPU_X64_L', {\n'defaultTablePrefix': 'mta.public',\n  'project': {\n    'nodeTables': ['nodes_f'], \n    'relationshipTables': {\n      'relationships_f': {\n        'sourceTable': 'nodes_f',\n        'targetTable': 'nodes_f'\n      }\n    }\n  },\n  'compute': { 'sourceNode': 68,\n                'targetNode': 24, \n                'sourceNodeTable': 'nodes_f',\n               'targetNodeTable': 'nodes_f' \n            },\n  'write': [\n    {\n    'sourceLabel': 'nodes_f',\n    'targetLabel': 'nodes_f',\n    'outputTable':  'mta.public.paths_f'\n    }\n  ]\n});",
   "execution_count": null
  },
  {
   "cell_type": "markdown",
   "id": "d30e18f2-d138-4ff0-8853-1033c6b22cc2",
   "metadata": {
    "name": "cell24",
    "collapsed": false
   },
   "source": "And then we can pull back our results like so:"
  },
  {
   "cell_type": "code",
   "id": "2db61e2b-24b4-4598-b9c6-28f2231ce0f7",
   "metadata": {
    "language": "sql",
    "name": "cell36"
   },
   "outputs": [],
   "source": "CREATE OR REPLACE VIEW mta.public.filtered_station_captions AS\nWITH flattened AS (\n  SELECT \n    VALUE::NUMBER AS nodeid,\n    INDEX AS ordering\n  FROM mta.public.paths_f,\n       LATERAL FLATTEN(input => nodeids)\n),\nfiltered AS (\n  SELECT \n    s.id AS nodeid,\n    s.station_name AS caption, \n    f.ordering,\n  FROM mta.public.stations s\n  JOIN flattened f ON s.id = f.nodeid\n)\nSELECT \n    nodeid,\n    ordering,\n    caption\nFROM filtered\nORDER BY ordering;\n\nselect * from mta.public.filtered_station_captions",
   "execution_count": null
  },
  {
   "cell_type": "markdown",
   "id": "cd6ff273-6faa-4819-a42d-974df3682236",
   "metadata": {
    "name": "cell23",
    "collapsed": false
   },
   "source": "## Visualize Your Graph (Experimental)\n\nAt this point, you may want to visualize your graph to get a better understanding of how everything fits together. It would be nice to have our new station path represented visually. We already have everything we need for the nodes from our last step, but we also need to create a relationship table, which we do below:"
  },
  {
   "cell_type": "code",
   "id": "e1a96694-c48a-4cf9-9d24-299ea7aff6c1",
   "metadata": {
    "language": "sql",
    "name": "viz_prep"
   },
   "outputs": [],
   "source": "CREATE OR REPLACE VIEW mta.public.relationships_view AS\nWITH ordered_nodes AS (\n  SELECT\n    nodeid AS sourcenodeid,\n    LEAD(nodeid) OVER (ORDER BY ordering) AS targetnodeid\n  FROM mta.public.filtered_station_captions\n)\nSELECT *\nFROM ordered_nodes\nWHERE targetnodeid IS NOT NULL;\n\nselect * from mta.public.relationships_view ",
   "execution_count": null
  },
  {
   "cell_type": "markdown",
   "id": "add08e41-87c4-4562-b963-708f47acc838",
   "metadata": {
    "name": "cell27",
    "collapsed": false
   },
   "source": "We use our `filtered_station_captions` table as our nodes. Notice how we have a column named `caption` in that table with our station names? That naming is on purpose. Graph Analytics automatically picks up on that name and uses it to generate captions for each node.\n\nFrom here, our syntax will look very familiar to what we have had before when running algorithms."
  },
  {
   "cell_type": "code",
   "id": "e700065a-29fc-45c1-94c2-134966291146",
   "metadata": {
    "language": "sql",
    "name": "viz"
   },
   "outputs": [],
   "source": "CALL Neo4j_Graph_Analytics.experimental.visualize(\n{\n    'nodeTables': ['mta.public.filtered_station_captions'],\n    'relationshipTables': {\n      'mta.public.relationships_view': {\n        'sourceTable': 'mta.public.filtered_station_captions',\n        'targetTable': 'mta.public.filtered_station_captions'\n      }\n    }\n  },\n  {}\n);",
   "execution_count": null
  },
  {
   "cell_type": "markdown",
   "id": "fe948d9b-1ba4-4007-acf7-ee8b13637f66",
   "metadata": {
    "name": "cell29",
    "collapsed": false
   },
   "source": "We can access the output of the previous cell by referencing its cell name, in this case viz. In our next Python notebook cell, we extract the HTML/JavaScript string we want by interpreting the viz output as a Pandas DataFrame, then accessing the first row of the \"VISUALIZE\" column."
  },
  {
   "cell_type": "code",
   "id": "76cb98a7-a51d-4035-b524-2356c0c9b601",
   "metadata": {
    "language": "python",
    "name": "cell35"
   },
   "outputs": [],
   "source": "import streamlit.components.v1 as components\n\ncomponents.html(\n    viz.to_pandas().loc[0][\"VISUALIZE\"],\n    height=600\n)",
   "execution_count": null
  },
  {
   "cell_type": "markdown",
   "id": "a555678e-2319-4acf-aed0-fa7284cb0898",
   "metadata": {
    "name": "cell11",
    "collapsed": false
   },
   "source": "##  Conclusions And Resources\nDuration: 2\n\nIn this quickstart, you learned how to bring the power of graph insights into Snowflake using Neo4j Graph Analytics. \n\n### What You Learned\nBy working with a our NYC Subway dataset, you were able to:\n\n1. Set up the [Neo4j Graph Analytics](https://app.snowflake.com/marketplace/listing/GZTDZH40CN/neo4j-neo4j-graph-analytics) application within Snowflake.\n2. Prepare and project your data into a graph model (stations as nodes, lines as relationships).\n3. Ran dijkstra to find the shortest path between two stations and to model alternative routes if a station was closed\n\n### Resources\n\n- [Neo4j Graph Analytics Documentation](https://neo4j.com/docs/snowflake-graph-analytics/)\n- [Installing Neo4j Graph Analytics on SPCS](https://neo4j.com/docs/snowflake-graph-analytics/installation/)\n"
  }
 ]
}